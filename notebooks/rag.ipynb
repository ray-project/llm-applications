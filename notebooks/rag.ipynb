{
 "cells": [
  {
   "cell_type": "markdown",
   "id": "154b2d0e-f7ce-453b-b3b7-eda0666a9795",
   "metadata": {},
   "source": [
    "# Building RAG-based LLM Applications for Production"
   ]
  },
  {
   "cell_type": "markdown",
   "id": "de569042-32c7-4bea-a1ef-f0e41e260645",
   "metadata": {},
   "source": [
    "- **Blog post**: https://www.anyscale.com/blog/a-comprehensive-guide-for-building-rag-based-llm-applications-part-1\n",
    "- **GitHub repository**: https://github.com/ray-project/llm-applications\n",
    "- **Anyscale Endpoints**: https://endpoints.anyscale.com/ (serve + fine-tune LLMs)\n",
    "- **Ray documentation**: https://docs.ray.io/"
   ]
  },
  {
   "cell_type": "markdown",
   "id": "68a962bf-4bb5-47ff-a667-89d493b1eeed",
   "metadata": {
    "tags": []
   },
   "source": [
    "In this guide, we will learn how to:\n",
    "\n",
    "- 💻 Develop a retrieval augmented generation (RAG) based LLM application from scratch.\n",
    "- 🚀 Scale the major workloads (load, chunk, embed, index, serve, etc.) across multiple workers with different compute resources.\n",
    "- ✅ Evaluate different configurations of our application to optimize for both per-component (ex. retrieval_score) and overall performance (quality_score).\n",
    "- 🔀 Implement a hybrid agent routing approach b/w OSS and closed LLMs to create the most performant and cost effective application.\n",
    "- 📦 Serve the application in a highly scalable and available manner.\n",
    "- 💡 Learn how methods like fine-tuning, prompt engineering, lexical search, reranking, data flywheel, etc. impact our application's performance."
   ]
  },
  {
   "cell_type": "markdown",
   "id": "b6b842ed-9c65-488f-a5b3-fcbced58c2c5",
   "metadata": {},
   "source": [
    "# Overview"
   ]
  },
  {
   "cell_type": "markdown",
   "id": "c09a1b69-8386-4043-846a-86b5396090af",
   "metadata": {},
   "source": [
    "Large language models (LLMs) have undoubtedly changed the way we interact with information. However, they come with their fair share of limitations as to what we can ask of them. Base LLMs (ex. Llama-2-70b, gpt-4, etc.) are only aware of the information that they've been trained on and will fall short when we require them to know information beyond that. Retrieval augmented generation (RAG) based LLM applications address this exact issue and extend the utility of LLMs and their generative reasoning abilities to our unique datasets. \n",
    "\n",
    "In this guide, we're going to build a RAG-based LLM application where we will incorporate external data sources to augment our LLM’s capabilities. Specifically, we will be building an assistant that can answer questions about [Ray](https://github.com/ray-project/ray) — a Python framework for productionizing and scaling ML workloads. The goal here is to make it easier for developers to adopt Ray, but also, as we'll see in this guide, to help improve our Ray documentation itself and provide a foundation for other LLM applications. We’ll also share challenges we faced along the way and how we overcame them.\n",
    "\n",
    "**Note**: We have generalized this entire guide so that it can easily be extended to build RAG-based LLM applications on top of your own data.\n",
    "\n",
    "<img width=\"500\" src=\"https://images.ctfassets.net/xjan103pcp94/4PX0l1ruKqfH17YvUiMFPw/c60a7a665125cb8056bebcc146c23b76/image8.png\">"
   ]
  },
  {
   "cell_type": "markdown",
   "id": "dc5bc988-231a-4aa4-8d9d-2192488e1724",
   "metadata": {},
   "source": [
    "Besides just building our LLM application, we’re also going to be focused on scaling and serving it in production. Unlike traditional machine learning, or even supervised deep learning, scale is a bottleneck for LLM applications from the very beginning. Large datasets, models, compute intensive workloads, serving requirements, etc. We’ll develop our application to be able to handle any scale as the world around us continues to grow. We’re also going to be focused on evaluation and performance. Our application involves many moving pieces: embedding models, chunking logic, the LLM itself, etc. and so it's important that we experiment with different configurations to optimize for the best quality responses. However, it's non-trivial to evaluate and quantitatively compare different configurations for a generative task. We’re going to break down evaluation of individual parts of our application (retrieval given query, generation given source), also assess the overall performance (end-to-end generation) and share findings towards an optimized configuration.\n",
    "\n",
    "**Note**: We'll be experimenting with different LLMs (OpenAI, Llama, etc.) in this guide. You will need [OpenAI credentials](https://platform.openai.com/account/api-keys) to access [ChatGPT models](https://platform.openai.com/docs/models/) and [Anyscale Endpoints](https://endpoints.anyscale.com/) (hosted/private endpoints available) to serve + fine-tune OSS LLMs."
   ]
  },
  {
   "cell_type": "markdown",
   "id": "35af14d4-478a-418b-a738-b17012188779",
   "metadata": {},
   "source": [
    "# Set up"
   ]
  },
  {
   "cell_type": "markdown",
   "id": "dde6f87c-c5c2-4374-b256-f6d17205d402",
   "metadata": {},
   "source": [
    "We're going to start by setting up our base imports, directories and initializing Ray with credentials. We'll be using [Ray](https://docs.ray.io/) to easily scale our workloads with minimal changes to our code."
   ]
  },
  {
   "cell_type": "code",
   "execution_count": null,
   "id": "b08502d8-e9a9-4a50-acd9-76f77b18ada6",
   "metadata": {
    "tags": []
   },
   "outputs": [],
   "source": [
    "import os\n",
    "import ray"
   ]
  },
  {
   "cell_type": "code",
   "execution_count": null,
   "id": "633996c3-45b4-4ac6-961d-56b0df9156c0",
   "metadata": {
    "tags": []
   },
   "outputs": [],
   "source": [
    "import sys; sys.path.append(\"..\")\n",
    "import warnings; warnings.filterwarnings(\"ignore\")\n",
    "from dotenv import load_dotenv; load_dotenv()\n",
    "%load_ext autoreload\n",
    "%autoreload 2"
   ]
  },
  {
   "cell_type": "code",
   "execution_count": null,
   "id": "591d064d-e843-4b5a-bb89-0fcfb16a5045",
   "metadata": {
    "tags": []
   },
   "outputs": [],
   "source": [
    "from rag.config import ROOT_DIR"
   ]
  },
  {
   "cell_type": "code",
   "execution_count": null,
   "id": "8f36dc38-f797-4db9-9979-2450764679aa",
   "metadata": {
    "tags": []
   },
   "outputs": [],
   "source": [
    "# Credentials\n",
    "ray.init(runtime_env={\n",
    "    \"env_vars\": {\n",
    "        \"OPENAI_API_BASE\": os.environ[\"OPENAI_API_BASE\"],\n",
    "        \"OPENAI_API_KEY\": os.environ[\"OPENAI_API_KEY\"], \n",
    "        \"ANYSCALE_API_BASE\": os.environ[\"ANYSCALE_API_BASE\"],\n",
    "        \"ANYSCALE_API_KEY\": os.environ[\"ANYSCALE_API_KEY\"],\n",
    "        \"DB_CONNECTION_STRING\": os.environ[\"DB_CONNECTION_STRING\"],\n",
    "    },\n",
    "    \"working_dir\": str(ROOT_DIR)\n",
    "})"
   ]
  },
  {
   "cell_type": "code",
   "execution_count": null,
   "id": "880b8660-e613-431f-a083-d4985711e8bf",
   "metadata": {
    "tags": []
   },
   "outputs": [
    {
     "data": {
      "text/plain": [
       "{'CPU': 8.0,\n",
       " 'accelerator_type:A10G': 1.0,\n",
       " 'object_store_memory': 9528074649.0,\n",
       " 'node:__internal_head__': 1.0,\n",
       " 'GPU': 1.0,\n",
       " 'node:10.0.7.51': 1.0,\n",
       " 'memory': 34359738368.0}"
      ]
     },
     "execution_count": null,
     "metadata": {},
     "output_type": "execute_result"
    }
   ],
   "source": [
    "ray.cluster_resources()"
   ]
  },
  {
   "cell_type": "markdown",
   "id": "8e3928f1-1404-430d-8633-45bb1a1c21d3",
   "metadata": {},
   "source": [
    "We've also created some mappings for the different embedding and language models we'll be developing with in our application:"
   ]
  },
  {
   "cell_type": "code",
   "execution_count": null,
   "id": "ab69df3c-bf18-4750-a680-4e488888c5e8",
   "metadata": {
    "tags": []
   },
   "outputs": [],
   "source": [
    "from rag.config import EMBEDDING_DIMENSIONS, MAX_CONTEXT_LENGTHS"
   ]
  },
  {
   "cell_type": "code",
   "execution_count": null,
   "id": "e8ba8f76-7ae8-49c1-8907-151b1fecbaf8",
   "metadata": {
    "tags": []
   },
   "outputs": [
    {
     "data": {
      "text/plain": [
       "{'thenlper/gte-base': 768,\n",
       " 'thenlper/gte-large': 1024,\n",
       " 'BAAI/bge-large-en': 1024,\n",
       " 'text-embedding-ada-002': 1536,\n",
       " 'gte-large-fine-tuned': 1024}"
      ]
     },
     "execution_count": null,
     "metadata": {},
     "output_type": "execute_result"
    }
   ],
   "source": [
    "# Embedding dimensions\n",
    "EMBEDDING_DIMENSIONS"
   ]
  },
  {
   "cell_type": "code",
   "execution_count": null,
   "id": "b6d340fa-4a87-4cc8-8d74-c09aafd9d18d",
   "metadata": {
    "tags": []
   },
   "outputs": [
    {
     "data": {
      "text/plain": [
       "{'gpt-4': 8192,\n",
       " 'gpt-3.5-turbo': 4096,\n",
       " 'gpt-3.5-turbo-16k': 16384,\n",
       " 'meta-llama/Llama-2-7b-chat-hf': 4096,\n",
       " 'meta-llama/Llama-2-13b-chat-hf': 4096,\n",
       " 'meta-llama/Llama-2-70b-chat-hf': 4096,\n",
       " 'codellama/CodeLlama-34b-Instruct-hf': 16384,\n",
       " 'mistralai/Mistral-7B-Instruct-v0.1': 16384}"
      ]
     },
     "execution_count": null,
     "metadata": {},
     "output_type": "execute_result"
    }
   ],
   "source": [
    "# LLM context lengths (1 token = 3/4 word)\n",
    "MAX_CONTEXT_LENGTHS"
   ]
  },
  {
   "cell_type": "markdown",
   "id": "bab7f73e-bdd1-4c87-93d0-92ece2344432",
   "metadata": {},
   "source": [
    "# Data"
   ]
  },
  {
   "cell_type": "markdown",
   "id": "00a1ed16-0f0d-4be1-951a-21a8cde1bfe9",
   "metadata": {},
   "source": [
    "Before we can start building our RAG application, we need to first create our vector DB that will contain our processed data sources.\n",
    "\n",
    "<img width=\"1000\" src=\"https://images.ctfassets.net/xjan103pcp94/3q5HUANQ4kS0V23cgEP0JF/ef3b62c5bc5c5c11b734fd3b73f6ea28/image3.png\">"
   ]
  },
  {
   "cell_type": "markdown",
   "id": "4c503edd-963a-4ec3-9182-39f7afc44153",
   "metadata": {},
   "source": [
    "## Load data"
   ]
  },
  {
   "cell_type": "code",
   "execution_count": null,
   "id": "2301b6f6-7402-4eeb-9975-7c28194b6914",
   "metadata": {
    "tags": []
   },
   "outputs": [],
   "source": [
    "from pathlib import Path\n",
    "from rag.config import EFS_DIR"
   ]
  },
  {
   "cell_type": "markdown",
   "id": "1f82562f-2b5d-4e8d-9716-b0da8670e8bf",
   "metadata": {},
   "source": [
    "We need to first download the [Ray documentation](https://docs.ray.io/) to a directory:\n",
    "```bash\n",
    "export EFS_DIR=/desired/output/directory\n",
    "wget -e robots=off --recursive --no-clobber --page-requisites \\\n",
    "  --html-extension --convert-links --restrict-file-names=windows \\\n",
    "  --domains docs.ray.io --no-parent --accept=html \\\n",
    "  -P $EFS_DIR https://docs.ray.io/en/master/\n",
    "```"
   ]
  },
  {
   "cell_type": "markdown",
   "id": "77456cf7-fe2b-4884-bfc2-99a2b4ffba1a",
   "metadata": {},
   "source": [
    "We’re going to then load our docs contents into a [Ray Dataset](https://docs.ray.io/en/latest/data/data.html) so that we can perform operations at scale on them (ex. embed, index, etc.). With large data sources, models and application serving needs, scale is a day-1 priority for LLM applications. We want to build our applications in such a way that they can scale as our needs grow without us having to change our code later."
   ]
  },
  {
   "cell_type": "code",
   "execution_count": null,
   "id": "bba6b43b-ea82-4c21-a885-57178cec3b44",
   "metadata": {
    "tags": []
   },
   "outputs": [
    {
     "name": "stdout",
     "output_type": "stream",
     "text": [
      "3282 documents\n"
     ]
    }
   ],
   "source": [
    "# Ray dataset\n",
    "DOCS_DIR = Path(EFS_DIR, \"docs.ray.io/en/master/\")\n",
    "ds = ray.data.from_items([{\"path\": path} for path in DOCS_DIR.rglob(\"*.html\") if not path.is_dir()])\n",
    "print(f\"{ds.count()} documents\")"
   ]
  },
  {
   "cell_type": "markdown",
   "id": "ba9edff6-6dbf-4037-9675-ae05cd3eb7a7",
   "metadata": {
    "tags": []
   },
   "source": [
    "## Sections"
   ]
  },
  {
   "cell_type": "markdown",
   "id": "4f13f0dc-7f7a-4132-93e4-dc69aab164a2",
   "metadata": {},
   "source": [
    "Now that we have a dataset of all the paths to the html files, we're going to develop some functions that can appropriately extract the content from these files. We want to do this in a generalized manner so that we can perform this extraction across all of our docs pages (and so you can use it for your own data sources). Our process is to first identify the sections in our html page and then extract the text in between them. We save all of this into a list of dictionaries that map the text within a section to a specific url with a section anchor id.\n",
    "\n",
    "<img width=\"800\" src=\"https://images.ctfassets.net/xjan103pcp94/1eFnKmG5xqPIFtPupZ327X/f6152723e18322b90aaa8be5d2d5a6e4/image5.png\">"
   ]
  },
  {
   "cell_type": "code",
   "execution_count": null,
   "id": "f72dedb6-63d1-414f-b973-6a1009fcaf74",
   "metadata": {
    "tags": []
   },
   "outputs": [],
   "source": [
    "import matplotlib.pyplot as plt\n",
    "from rag.data import extract_sections"
   ]
  },
  {
   "cell_type": "code",
   "execution_count": null,
   "id": "2a8033de-2508-4030-a9a1-d6c792d5542a",
   "metadata": {
    "tags": []
   },
   "outputs": [
    {
     "data": {
      "text/plain": [
       "{'source': 'https://docs.ray.io/en/master/rllib/rllib-env.html#environments',\n",
       " 'text': '\\nEnvironments#\\nRLlib works with several different types of environments, including Farama-Foundation Gymnasium, user-defined, multi-agent, and also batched environments.\\nTip\\nNot all environments work with all algorithms. Check out the algorithm overview for more information.\\n'}"
      ]
     },
     "execution_count": null,
     "metadata": {},
     "output_type": "execute_result"
    }
   ],
   "source": [
    "sample_html_fp = Path(EFS_DIR, \"docs.ray.io/en/master/rllib/rllib-env.html\")\n",
    "extract_sections({\"path\": sample_html_fp})[0]"
   ]
  },
  {
   "cell_type": "markdown",
   "id": "24f4ed64-2dd8-43c2-9831-cdf9d6d8004c",
   "metadata": {},
   "source": [
    "We can apply this extraction process (extract_section) in parallel to all the file paths in our dataset with just one line using Ray Data's [flat_map](https://docs.ray.io/en/latest/data/api/doc/ray.data.Dataset.flat_map.html):"
   ]
  },
  {
   "cell_type": "code",
   "execution_count": null,
   "id": "f4739d56-ddfe-42e5-9113-3d83d737999a",
   "metadata": {
    "tags": []
   },
   "outputs": [
    {
     "name": "stderr",
     "output_type": "stream",
     "text": [
      "2023-10-24 12:40:02,911\tINFO streaming_executor.py:93 -- Executing DAG InputDataBuffer[Input] -> TaskPoolMapOperator[FlatMap(extract_sections)]\n",
      "2023-10-24 12:40:02,912\tINFO streaming_executor.py:94 -- Execution config: ExecutionOptions(resource_limits=ExecutionResources(cpu=None, gpu=None, object_store_memory=None), locality_with_output=False, preserve_order=False, actor_locality_enabled=True, verbose_progress=False)\n",
      "2023-10-24 12:40:02,912\tINFO streaming_executor.py:96 -- Tip: For detailed progress reporting, run `ray.data.DataContext.get_current().execution_options.verbose_progress = True`\n"
     ]
    },
    {
     "data": {
      "application/vnd.jupyter.widget-view+json": {
       "model_id": "",
       "version_major": 2,
       "version_minor": 0
      },
      "text/plain": [
       "Running 0:   0%|          | 0/200 [00:00<?, ?it/s]"
      ]
     },
     "metadata": {},
     "output_type": "display_data"
    },
    {
     "data": {
      "text/plain": [
       "5727"
      ]
     },
     "execution_count": null,
     "metadata": {},
     "output_type": "execute_result"
    }
   ],
   "source": [
    "# Extract sections\n",
    "sections_ds = ds.flat_map(extract_sections)\n",
    "sections_ds.count()"
   ]
  },
  {
   "cell_type": "code",
   "execution_count": null,
   "id": "39641fc6-adb2-4a6a-a8dd-f0433db814ff",
   "metadata": {
    "tags": []
   },
   "outputs": [],
   "source": [
    "section_lengths = []\n",
    "for section in sections_ds.take_all():\n",
    "    section_lengths.append(len(section[\"text\"]))"
   ]
  },
  {
   "cell_type": "markdown",
   "id": "2c144ef2-ffa5-49ed-9bb3-60a50223854c",
   "metadata": {},
   "source": [
    "## Chunk data"
   ]
  },
  {
   "cell_type": "markdown",
   "id": "78c103aa-9b34-4d7b-8b42-78737eb0888d",
   "metadata": {},
   "source": [
    "We now have a list of sections (with text and source of each section) but we shouldn't directly use this as context to our RAG application just yet. The text lengths of each section are all varied and many are quite large chunks. "
   ]
  },
  {
   "cell_type": "code",
   "execution_count": null,
   "id": "1b07383c-b898-4f4a-b008-837a8bf83015",
   "metadata": {
    "tags": []
   },
   "outputs": [
    {
     "data": {
      "image/png": "[encoded data removed]",
      "text/plain": [
       "<Figure size 1200x300 with 1 Axes>"
      ]
     },
     "metadata": {},
     "output_type": "display_data"
    }
   ],
   "source": [
    "# Plot\n",
    "plt.figure(figsize=(12, 3))\n",
    "plt.plot(section_lengths, marker='o')\n",
    "plt.title(\"Section lengths\")\n",
    "plt.ylabel(\"# chars\")\n",
    "plt.show()"
   ]
  },
  {
   "cell_type": "markdown",
   "id": "bfa7564d-fce5-4807-8bf2-de9f93c6f994",
   "metadata": {},
   "source": [
    "If we were to use these large sections, then we'd be inserting a lot of noisy/unwanted context and because all LLMs have a maximum context length, we wouldn't be able to fit too much other relevant context. So instead, we're going to split the text within each section into smaller chunks. Intuitively, smaller chunks will encapsulate single/few concepts and will be less noisy compared to larger chunks. We're going to choose some typical text splitting values (ex. chunk_size=300) to create our chunks for now but we'll be experimenting with a wider range of values later."
   ]
  },
  {
   "cell_type": "code",
   "execution_count": null,
   "id": "97ca89ce-97dd-4462-8dfb-e06154c56ea2",
   "metadata": {
    "tags": []
   },
   "outputs": [],
   "source": [
    "from functools import partial\n",
    "from langchain.text_splitter import RecursiveCharacterTextSplitter"
   ]
  },
  {
   "cell_type": "code",
   "execution_count": null,
   "id": "6b6337e6-07b2-459d-a666-45de3aa945c4",
   "metadata": {
    "tags": []
   },
   "outputs": [],
   "source": [
    "# Text splitter\n",
    "chunk_size = 300\n",
    "chunk_overlap = 50\n",
    "text_splitter = RecursiveCharacterTextSplitter(\n",
    "    separators=[\"\\n\\n\", \"\\n\", \" \", \"\"],\n",
    "    chunk_size=chunk_size,\n",
    "    chunk_overlap=chunk_overlap,\n",
    "    length_function=len)"
   ]
  },
  {
   "cell_type": "code",
   "execution_count": null,
   "id": "ca5208da-7196-49b5-9943-c0c9f0ab13b5",
   "metadata": {
    "tags": []
   },
   "outputs": [
    {
     "name": "stderr",
     "output_type": "stream",
     "text": [
      "2023-10-24 12:40:28,506\tINFO dataset.py:2380 -- Tip: Use `take_batch()` instead of `take() / show()` to return records in pandas or numpy batch format.\n",
      "2023-10-24 12:40:28,508\tINFO streaming_executor.py:93 -- Executing DAG InputDataBuffer[Input] -> TaskPoolMapOperator[FlatMap(extract_sections->Limit[1])] -> LimitOperator[limit=1]\n",
      "2023-10-24 12:40:28,508\tINFO streaming_executor.py:94 -- Execution config: ExecutionOptions(resource_limits=ExecutionResources(cpu=None, gpu=None, object_store_memory=None), locality_with_output=False, preserve_order=False, actor_locality_enabled=True, verbose_progress=False)\n",
      "2023-10-24 12:40:28,509\tINFO streaming_executor.py:96 -- Tip: For detailed progress reporting, run `ray.data.DataContext.get_current().execution_options.verbose_progress = True`\n"
     ]
    },
    {
     "data": {
      "application/vnd.jupyter.widget-view+json": {
       "model_id": "",
       "version_major": 2,
       "version_minor": 0
      },
      "text/plain": [
       "Running 0:   0%|          | 0/1 [00:00<?, ?it/s]"
      ]
     },
     "metadata": {},
     "output_type": "display_data"
    },
    {
     "name": "stdout",
     "output_type": "stream",
     "text": [
      "page_content='Environments#\\nRLlib works with several different types of environments, including Farama-Foundation Gymnasium, user-defined, multi-agent, and also batched environments.\\nTip\\nNot all environments work with all algorithms. Check out the algorithm overview for more information.' metadata={'source': 'https://docs.ray.io/en/master/rllib-env.html#environments'}\n"
     ]
    }
   ],
   "source": [
    "# Chunk a sample section\n",
    "sample_section = sections_ds.take(1)[0]\n",
    "chunks = text_splitter.create_documents(\n",
    "    texts=[sample_section[\"text\"]], \n",
    "    metadatas=[{\"source\": sample_section[\"source\"]}])\n",
    "print (chunks[0])"
   ]
  },
  {
   "cell_type": "markdown",
   "id": "4d38775f-0a4b-4aad-866d-1a3231b32df7",
   "metadata": {},
   "source": [
    "While chunking our dataset is relatively fast, let’s wrap the chunking logic into a function so that we can apply the workload at scale so that chunking remains just as fast as our data sources grow:\n"
   ]
  },
  {
   "cell_type": "code",
   "execution_count": null,
   "id": "5c15a38d-066b-4623-8448-fdd0ac5ddf4d",
   "metadata": {
    "tags": []
   },
   "outputs": [],
   "source": [
    "def chunk_section(section, chunk_size, chunk_overlap):\n",
    "    text_splitter = RecursiveCharacterTextSplitter(\n",
    "        separators=[\"\\n\\n\", \"\\n\", \" \", \"\"],\n",
    "        chunk_size=chunk_size,\n",
    "        chunk_overlap=chunk_overlap,\n",
    "        length_function=len)\n",
    "    chunks = text_splitter.create_documents(\n",
    "        texts=[section[\"text\"]], \n",
    "        metadatas=[{\"source\": section[\"source\"]}])\n",
    "    return [{\"text\": chunk.page_content, \"source\": chunk.metadata[\"source\"]} for chunk in chunks]"
   ]
  },
  {
   "cell_type": "code",
   "execution_count": null,
   "id": "5be23c62-3108-49be-994d-5aa033162c71",
   "metadata": {
    "tags": []
   },
   "outputs": [
    {
     "name": "stderr",
     "output_type": "stream",
     "text": [
      "2023-10-24 12:40:28,815\tINFO streaming_executor.py:93 -- Executing DAG InputDataBuffer[Input] -> TaskPoolMapOperator[FlatMap(extract_sections)->FlatMap(partial)]\n",
      "2023-10-24 12:40:28,815\tINFO streaming_executor.py:94 -- Execution config: ExecutionOptions(resource_limits=ExecutionResources(cpu=None, gpu=None, object_store_memory=None), locality_with_output=False, preserve_order=False, actor_locality_enabled=True, verbose_progress=False)\n",
      "2023-10-24 12:40:28,816\tINFO streaming_executor.py:96 -- Tip: For detailed progress reporting, run `ray.data.DataContext.get_current().execution_options.verbose_progress = True`\n"
     ]
    },
    {
     "data": {
      "application/vnd.jupyter.widget-view+json": {
       "model_id": "",
       "version_major": 2,
       "version_minor": 0
      },
      "text/plain": [
       "Running 0:   0%|          | 0/200 [00:00<?, ?it/s]"
      ]
     },
     "metadata": {},
     "output_type": "display_data"
    },
    {
     "name": "stderr",
     "output_type": "stream",
     "text": [
      "2023-10-24 12:40:51,025\tINFO streaming_executor.py:93 -- Executing DAG InputDataBuffer[Input] -> TaskPoolMapOperator[FlatMap(extract_sections)->FlatMap(partial->Limit[1])] -> LimitOperator[limit=1]\n",
      "2023-10-24 12:40:51,025\tINFO streaming_executor.py:94 -- Execution config: ExecutionOptions(resource_limits=ExecutionResources(cpu=None, gpu=None, object_store_memory=None), locality_with_output=False, preserve_order=False, actor_locality_enabled=True, verbose_progress=False)\n",
      "2023-10-24 12:40:51,026\tINFO streaming_executor.py:96 -- Tip: For detailed progress reporting, run `ray.data.DataContext.get_current().execution_options.verbose_progress = True`\n"
     ]
    },
    {
     "name": "stdout",
     "output_type": "stream",
     "text": [
      "32276 chunks\n"
     ]
    },
    {
     "data": {
      "application/vnd.jupyter.widget-view+json": {
       "model_id": "",
       "version_major": 2,
       "version_minor": 0
      },
      "text/plain": [
       "Running 0:   0%|          | 0/1 [00:00<?, ?it/s]"
      ]
     },
     "metadata": {},
     "output_type": "display_data"
    },
    {
     "name": "stdout",
     "output_type": "stream",
     "text": [
      "{'text': 'Reference#\\nMonitor and debug your Ray applications and clusters using the API and CLI documented in these references.\\nThe guides include:\\nState API\\nState CLI\\nSystem Metrics', 'source': 'https://docs.ray.io/en/master/ray-observability/reference/index.html#reference'}\n"
     ]
    }
   ],
   "source": [
    "# Scale chunking\n",
    "chunks_ds = sections_ds.flat_map(partial(\n",
    "    chunk_section, \n",
    "    chunk_size=chunk_size, \n",
    "    chunk_overlap=chunk_overlap))\n",
    "print(f\"{chunks_ds.count()} chunks\")\n",
    "chunks_ds.show(1)"
   ]
  },
  {
   "cell_type": "markdown",
   "id": "d9c23b31-e7b3-4078-abf7-683f448f5b19",
   "metadata": {},
   "source": [
    "## Embed data"
   ]
  },
  {
   "cell_type": "markdown",
   "id": "fb44e2b4-d48a-4f27-b9e4-99579917b18e",
   "metadata": {},
   "source": [
    "Now that we've created small chunks from our sections, we need a way to identify the most relevant ones for a given query. A very effective and quick method is to embed our data using a pretrained model and use the same model to embed the query. We can then compute the distance between all of the chunk embeddings and our query embedding to determine the top-k chunks. There are many different pretrained models to choose from to embed our data but the most popular ones can be discovered through [HuggingFace's Massive Text Embedding Benchmark (MTEB)](https://huggingface.co/spaces/mteb/leaderboard) leaderboard. These models were pretrained on very large text corpus through tasks such as next/masked token prediction which allowed them to learn to represent subtokens in N dimensions and capture semantic relationships. We can leverage this to represent our data and identify the most relevant contexts to use to answer a given query. We're using Langchain's Embedding wrappers ([HuggingFaceEmbeddings](https://api.python.langchain.com/en/latest/embeddings/langchain.embeddings.huggingface.HuggingFaceEmbeddings.html) and [OpenAIEmbeddings](https://api.python.langchain.com/en/latest/embeddings/langchain.embeddings.openai.OpenAIEmbeddings.html)) to easily load the models and embed our document chunks.\n",
    "\n",
    "**Note**: embeddings aren't the only way to determine the more relevant chunks. We could also use an LLM to decide! However, because LLMs are much larger than these embedding models and have maximum context lengths, it's better to use embeddings to retrieve the top k chunks. And then we could use LLMs on the fewer k chunks to determine the <k chunks to use as the context to answer our query. We could also use reranking (ex. [Cohere Rerank](https://txt.cohere.com/rerank/)) to further identify the most relevant chunks to use. We could also combine embeddings with traditional information retrieval methods such as keyword matching, which could be useful for matching for unique tokens that may potentially be lost when embedding subtokens."
   ]
  },
  {
   "cell_type": "code",
   "execution_count": null,
   "id": "712fe08b-fd19-4cb8-94d9-a7570b2dc09d",
   "metadata": {
    "tags": []
   },
   "outputs": [],
   "source": [
    "from langchain.embeddings import OpenAIEmbeddings\n",
    "from langchain.embeddings.huggingface import HuggingFaceEmbeddings\n",
    "import numpy as np\n",
    "from ray.data import ActorPoolStrategy"
   ]
  },
  {
   "cell_type": "code",
   "execution_count": null,
   "id": "290c066a-100b-4f09-98ba-e79a93cd4302",
   "metadata": {
    "tags": []
   },
   "outputs": [],
   "source": [
    "def get_embedding_model(embedding_model_name, model_kwargs, encode_kwargs):\n",
    "    if embedding_model_name == \"text-embedding-ada-002\":\n",
    "        embedding_model = OpenAIEmbeddings(\n",
    "            model=embedding_model_name,\n",
    "            openai_api_base=os.environ[\"OPENAI_API_BASE\"],\n",
    "            openai_api_key=os.environ[\"OPENAI_API_KEY\"])\n",
    "    else:\n",
    "        embedding_model = HuggingFaceEmbeddings(\n",
    "            model_name=embedding_model_name,  # also works with model_path\n",
    "            model_kwargs=model_kwargs,\n",
    "            encode_kwargs=encode_kwargs)\n",
    "    return embedding_model"
   ]
  },
  {
   "cell_type": "code",
   "execution_count": null,
   "id": "83b6a5a3-cd2d-4987-838a-be13e9553080",
   "metadata": {
    "tags": []
   },
   "outputs": [],
   "source": [
    "class EmbedChunks:\n",
    "    def __init__(self, model_name):\n",
    "        self.embedding_model = get_embedding_model(\n",
    "            embedding_model_name=model_name,\n",
    "            model_kwargs={\"device\": \"cuda\"},\n",
    "            encode_kwargs={\"device\": \"cuda\", \"batch_size\": 100})\n",
    "    def __call__(self, batch):\n",
    "        embeddings = self.embedding_model.embed_documents(batch[\"text\"])\n",
    "        return {\"text\": batch[\"text\"], \"source\": batch[\"source\"], \"embeddings\": embeddings}"
   ]
  },
  {
   "cell_type": "markdown",
   "id": "1e39c99a-5f33-4052-ba0e-cbc69d104ec1",
   "metadata": {},
   "source": [
    "Here we're able to embed our chunks at scale by using [map_batches](https://docs.ray.io/en/latest/data/api/doc/ray.data.Dataset.map_batches.html). All we had to do was define the `batch_size` and the compute resources."
   ]
  },
  {
   "cell_type": "code",
   "execution_count": null,
   "id": "9715a01e-dc67-4342-a0cb-30e770852097",
   "metadata": {
    "tags": []
   },
   "outputs": [],
   "source": [
    "# Embed chunks\n",
    "embedding_model_name = \"thenlper/gte-base\"\n",
    "embedded_chunks = chunks_ds.map_batches(\n",
    "    EmbedChunks,\n",
    "    fn_constructor_kwargs={\"model_name\": embedding_model_name},\n",
    "    batch_size=100, \n",
    "    num_gpus=1,\n",
    "    compute=ActorPoolStrategy(size=1))"
   ]
  },
  {
   "cell_type": "code",
   "execution_count": null,
   "id": "67dffa1f-19a3-4411-af3f-b161a47ee164",
   "metadata": {
    "tags": []
   },
   "outputs": [
    {
     "name": "stderr",
     "output_type": "stream",
     "text": [
      "2023-10-15 21:45:37,120\tINFO streaming_executor.py:93 -- Executing DAG InputDataBuffer[Input] -> TaskPoolMapOperator[FlatMap(extract_sections)->FlatMap(partial)] -> ActorPoolMapOperator[MapBatches(EmbedChunks->Limit[1])] -> LimitOperator[limit=1]\n",
      "2023-10-15 21:45:37,121\tINFO streaming_executor.py:94 -- Execution config: ExecutionOptions(resource_limits=ExecutionResources(cpu=None, gpu=None, object_store_memory=None), locality_with_output=False, preserve_order=False, actor_locality_enabled=True, verbose_progress=False)\n",
      "2023-10-15 21:45:37,121\tINFO streaming_executor.py:96 -- Tip: For detailed progress reporting, run `ray.data.DataContext.get_current().execution_options.verbose_progress = True`\n",
      "2023-10-15 21:45:37,134\tINFO actor_pool_map_operator.py:106 -- MapBatches(EmbedChunks->Limit[1]): Waiting for 1 pool actors to start...\n"
     ]
    },
    {
     "data": {
      "application/vnd.jupyter.widget-view+json": {
       "model_id": "",
       "version_major": 2,
       "version_minor": 0
      },
      "text/plain": [
       "Running 0:   0%|          | 0/1 [00:00<?, ?it/s]"
      ]
     },
     "metadata": {},
     "output_type": "display_data"
    },
    {
     "name": "stdout",
     "output_type": "stream",
     "text": [
      "embedding size: 768\n",
      "Reference#\n",
      "Monitor and debug your Ray applications and clusters using the API and CLI documented in these references.\n",
      "The guides include:\n",
      "State API\n",
      "State CLI\n",
      "System Metrics\n"
     ]
    }
   ],
   "source": [
    "# Sample\n",
    "sample = embedded_chunks.take(1)\n",
    "print (\"embedding size:\", len(sample[0][\"embeddings\"]))\n",
    "print (sample[0][\"text\"])"
   ]
  },
  {
   "cell_type": "markdown",
   "id": "09187588-e1dc-44c5-b88b-cc8ebe3f9c48",
   "metadata": {},
   "source": [
    "## Index data"
   ]
  },
  {
   "cell_type": "markdown",
   "id": "eb9f53f1-2720-4a47-8b2f-1b206c38c425",
   "metadata": {},
   "source": [
    "Now that we have our embedded chunks, we need to index (store) them somewhere so that we can retrieve them quickly for inference. While there are many popular vector database options, we're going to use [Postgres with pgvector](https://github.com/pgvector/pgvector) for it's simplificty and performance. We'll create a table (`document`) and write the (`text`, `source`, `embedding`) triplets for each embedded chunk we have.\n",
    "\n",
    "<img width=\"700\" src=\"https://images.ctfassets.net/xjan103pcp94/3z1ryYkOtUjj6N1IuavJPf/ae60dc4a10c94e2cc928c38701befb51/image2.png\">"
   ]
  },
  {
   "cell_type": "code",
   "execution_count": null,
   "id": "bb6bf17c-da04-4bd8-af2f-dc79e4e27913",
   "metadata": {
    "tags": []
   },
   "outputs": [],
   "source": [
    "import psycopg\n",
    "from pgvector.psycopg import register_vector"
   ]
  },
  {
   "cell_type": "code",
   "execution_count": null,
   "id": "c7ae20ca-1371-48d6-bc84-6d11a425c3f5",
   "metadata": {
    "tags": []
   },
   "outputs": [],
   "source": [
    "%%bash\n",
    "# Set up pgvector\n",
    "bash ../setup-pgvector.sh"
   ]
  },
  {
   "cell_type": "code",
   "execution_count": null,
   "id": "806b47aa-f3c1-44d3-b041-a3a4f0867653",
   "metadata": {
    "tags": []
   },
   "outputs": [
    {
     "name": "stderr",
     "output_type": "stream",
     "text": [
      "NOTICE:  table \"document\" does not exist, skipping\n"
     ]
    },
    {
     "name": "stdout",
     "output_type": "stream",
     "text": [
      "DROP TABLE\n",
      "CREATE TABLE\n",
      "SET\n",
      "SET\n",
      "SET\n",
      "SET\n",
      "SET\n",
      " set_config \n",
      "------------\n",
      " \n",
      "(1 row)\n",
      "\n",
      "SET\n",
      "SET\n",
      "SET\n",
      "SET\n",
      "ALTER TABLE\n",
      "ALTER TABLE\n"
     ]
    },
    {
     "name": "stderr",
     "output_type": "stream",
     "text": [
      "psql:/efs/shared_storage/goku/sql_dumps/gte-base_300_50.sql:20: ERROR:  relation \"public.data_document\" does not exist\n",
      "psql:/efs/shared_storage/goku/sql_dumps/gte-base_300_50.sql:22: ERROR:  relation \"public.data_document\" does not exist\n"
     ]
    },
    {
     "name": "stdout",
     "output_type": "stream",
     "text": [
      "DROP SEQUENCE\n",
      "DROP TABLE\n"
     ]
    },
    {
     "name": "stderr",
     "output_type": "stream",
     "text": [
      "psql:/efs/shared_storage/goku/sql_dumps/gte-base_300_50.sql:25: ERROR:  sequence \"data_document_id_seq\" does not exist\n",
      "psql:/efs/shared_storage/goku/sql_dumps/gte-base_300_50.sql:26: ERROR:  table \"data_document\" does not exist\n"
     ]
    },
    {
     "name": "stdout",
     "output_type": "stream",
     "text": [
      "DROP EXTENSION\n",
      "CREATE EXTENSION\n",
      "COMMENT\n",
      "SET\n",
      "SET\n",
      "CREATE TABLE\n",
      "ALTER TABLE\n",
      "CREATE SEQUENCE\n",
      "ALTER SEQUENCE\n",
      "ALTER SEQUENCE\n",
      "CREATE TABLE\n",
      "ALTER TABLE\n",
      "CREATE SEQUENCE\n",
      "ALTER SEQUENCE\n",
      "ALTER SEQUENCE\n",
      "ALTER TABLE\n",
      "ALTER TABLE\n",
      "COPY 40433\n",
      "COPY 32276\n",
      " setval \n",
      "--------\n",
      "  40433\n",
      "(1 row)\n",
      "\n",
      " setval \n",
      "--------\n",
      "  32276\n",
      "(1 row)\n",
      "\n",
      "ALTER TABLE\n",
      "ALTER TABLE\n",
      " count \n",
      "-------\n",
      " 32276\n",
      "(1 row)\n",
      "\n"
     ]
    }
   ],
   "source": [
    "%%bash\n",
    "# Drop table and load index\n",
    "psql \"$DB_CONNECTION_STRING\" -c \"DROP TABLE IF EXISTS document;\"\n",
    "sudo -u postgres psql -f ../migrations/vector-768.sql  # \"thenlper/gte-base\" dimension is 768\n",
    "export SQL_DUMP_FP=\"/efs/shared_storage/goku/sql_dumps/gte-base_300_50.sql\"\n",
    "psql \"$DB_CONNECTION_STRING\" -f $SQL_DUMP_FP  # load\n",
    "psql \"$DB_CONNECTION_STRING\" -c \"SELECT count(*) FROM document;\"  # num rows"
   ]
  },
  {
   "cell_type": "markdown",
   "id": "3fe36601-1269-482b-9bac-b52b32fb338e",
   "metadata": {},
   "source": [
    "If we don't have an index saved already, we can index the data and save it:"
   ]
  },
  {
   "cell_type": "code",
   "execution_count": null,
   "id": "21480e47-4a17-49d8-b4e7-c301e8040a69",
   "metadata": {
    "tags": []
   },
   "outputs": [],
   "source": [
    "class StoreResults:\n",
    "    def __call__(self, batch):\n",
    "        with psycopg.connect(os.environ[\"DB_CONNECTION_STRING\"]) as conn:\n",
    "            register_vector(conn)\n",
    "            with conn.cursor() as cur:\n",
    "                for text, source, embedding in zip(batch[\"text\"], batch[\"source\"], batch[\"embeddings\"]):\n",
    "                    cur.execute(\"INSERT INTO document (text, source, embedding) VALUES (%s, %s, %s)\", (text, source, embedding,),)\n",
    "        return {}"
   ]
  },
  {
   "cell_type": "markdown",
   "id": "4d4f119d-535d-4548-bb83-177e3bcefeed",
   "metadata": {},
   "source": [
    "And once again, we can use Ray Data’s [map_batches](https://docs.ray.io/en/latest/data/api/doc/ray.data.Dataset.map_batches.html) to perform this indexing in parallel:"
   ]
  },
  {
   "cell_type": "code",
   "execution_count": null,
   "id": "9c4582d9-40ba-4a94-81ac-259b3851f837",
   "metadata": {
    "tags": []
   },
   "outputs": [
    {
     "name": "stderr",
     "output_type": "stream",
     "text": [
      "2023-10-15 21:50:46,447\tINFO streaming_executor.py:93 -- Executing DAG InputDataBuffer[Input] -> TaskPoolMapOperator[FlatMap(extract_sections)->FlatMap(partial)] -> ActorPoolMapOperator[MapBatches(EmbedChunks)] -> ActorPoolMapOperator[MapBatches(StoreResults)]\n",
      "2023-10-15 21:50:46,449\tINFO streaming_executor.py:94 -- Execution config: ExecutionOptions(resource_limits=ExecutionResources(cpu=None, gpu=None, object_store_memory=None), locality_with_output=False, preserve_order=False, actor_locality_enabled=True, verbose_progress=False)\n",
      "2023-10-15 21:50:46,449\tINFO streaming_executor.py:96 -- Tip: For detailed progress reporting, run `ray.data.DataContext.get_current().execution_options.verbose_progress = True`\n",
      "2023-10-15 21:50:46,463\tINFO actor_pool_map_operator.py:106 -- MapBatches(EmbedChunks): Waiting for 1 pool actors to start...\n",
      "2023-10-15 21:50:50,826\tINFO actor_pool_map_operator.py:106 -- MapBatches(StoreResults): Waiting for 6 pool actors to start...\n"
     ]
    },
    {
     "data": {
      "application/vnd.jupyter.widget-view+json": {
       "model_id": "",
       "version_major": 2,
       "version_minor": 0
      },
      "text/plain": [
       "Running 0:   0%|          | 0/200 [00:00<?, ?it/s]"
      ]
     },
     "metadata": {},
     "output_type": "display_data"
    },
    {
     "name": "stderr",
     "output_type": "stream",
     "text": [
      "2023-10-15 21:52:44,978\tWARNING actor_pool_map_operator.py:265 -- Your batch size is too large. Currently, your batch size is 128. Your dataset contains 0, and Ray Data tried to parallelize it across 6 actors. To parallelize this fully across all 6 actors, set batch size to not exceed `0 / 6 = 0`.\n"
     ]
    },
    {
     "data": {
      "text/plain": [
       "0"
      ]
     },
     "execution_count": null,
     "metadata": {},
     "output_type": "execute_result"
    }
   ],
   "source": [
    "# Index data\n",
    "embedded_chunks.map_batches(\n",
    "    StoreResults,\n",
    "    batch_size=128,\n",
    "    num_cpus=1,\n",
    "    compute=ActorPoolStrategy(size=6),\n",
    ").count()"
   ]
  },
  {
   "cell_type": "code",
   "execution_count": null,
   "id": "40925cd6-41e8-4651-9692-aeb399b68af6",
   "metadata": {
    "tags": []
   },
   "outputs": [],
   "source": [
    "%%bash\n",
    "# Save index\n",
    "export SQL_DUMP_FP=\"/efs/shared_storage/goku/sql_dumps/gte-base_300_50.sql\"\n",
    "rm -rf $SQL_DUMP_FP\n",
    "mkdir -p $(dirname \"$SQL_DUMP_FP\") && touch $SQL_DUMP_FP\n",
    "sudo -u postgres pg_dump -c > $SQL_DUMP_FP  # save"
   ]
  },
  {
   "cell_type": "markdown",
   "id": "318798c3-d119-4eb5-ad81-b2834516151a",
   "metadata": {},
   "source": [
    "# Retrieval"
   ]
  },
  {
   "cell_type": "markdown",
   "id": "974cc146-c337-4478-a119-5daadedd340c",
   "metadata": {},
   "source": [
    "With our embedded chunks indexed in our vector database, we're ready to perform retrieval for a given query. We'll start by using the same embedding model we used to embed our text chunks to now embed the incoming query.\n",
    "\n",
    "<img width=\"1000\" src=\"https://images.ctfassets.net/xjan103pcp94/1hKBrFU2lyR5LLebFyq2ZL/8845c36ff98eb47005338de6ab6dbf50/image14.png\">"
   ]
  },
  {
   "cell_type": "code",
   "execution_count": null,
   "id": "480d4c49-5870-471e-a617-86f7d3fa13d0",
   "metadata": {
    "tags": []
   },
   "outputs": [],
   "source": [
    "import json\n",
    "import numpy as np"
   ]
  },
  {
   "cell_type": "code",
   "execution_count": null,
   "id": "39c3f410-89a2-4992-8cd1-63aca5bf9936",
   "metadata": {
    "tags": []
   },
   "outputs": [
    {
     "data": {
      "text/plain": [
       "768"
      ]
     },
     "execution_count": null,
     "metadata": {},
     "output_type": "execute_result"
    }
   ],
   "source": [
    "# Embed query\n",
    "embedding_model = HuggingFaceEmbeddings(model_name=embedding_model_name)\n",
    "query = \"What is the default batch size for map_batches?\"\n",
    "embedding = np.array(embedding_model.embed_query(query))\n",
    "len(embedding)"
   ]
  },
  {
   "cell_type": "markdown",
   "id": "cd3d604e-437c-4917-9503-cdc6a74df982",
   "metadata": {},
   "source": [
    "Then, we'll retrieve the top most revelant chunks by extracting the closest embedded chunks to our embedded query. We use cosine distance (`<=>`) but there are [many options](https://github.com/pgvector/pgvector#vector-operators) to choose from. Once we retrieve the top `num_chunks`, we can collect the text for each chunk and use it as context to generate a response."
   ]
  },
  {
   "cell_type": "code",
   "execution_count": null,
   "id": "073a796f-e0e7-46d3-8151-01f47befec4c",
   "metadata": {
    "tags": []
   },
   "outputs": [],
   "source": [
    "# Get context\n",
    "num_chunks = 5\n",
    "with psycopg.connect(os.environ[\"DB_CONNECTION_STRING\"]) as conn:\n",
    "    register_vector(conn)\n",
    "    with conn.cursor() as cur:\n",
    "        cur.execute(\"SELECT * FROM document ORDER BY embedding <=> %s LIMIT %s\", (embedding, num_chunks))\n",
    "        rows = cur.fetchall()\n",
    "        context = [{\"text\": row[1]} for row in rows]\n",
    "        sources = [row[2] for row in rows]"
   ]
  },
  {
   "cell_type": "code",
   "execution_count": null,
   "id": "b0197e98-5fee-4be0-bdf5-2d975216aa4b",
   "metadata": {
    "tags": []
   },
   "outputs": [
    {
     "name": "stdout",
     "output_type": "stream",
     "text": [
      "https://docs.ray.io/en/master/data/api/doc/ray.data.Dataset.map_batches.html#ray-data-dataset-map-batches\n",
      "entire blocks as batches (blocks may contain different numbers of rows).\n",
      "The actual size of the batch provided to fn may be smaller than\n",
      "batch_size if batch_size doesn’t evenly divide the block(s) sent\n",
      "to a given map task. Default batch_size is 4096 with “default”.\n",
      "\n",
      "https://docs.ray.io/en/master/data/transforming-data.html#configuring-batch-size\n",
      "batch_size.\n",
      "Note\n",
      "The default batch size depends on your resource type. If you’re using CPUs,\n",
      "the default batch size is 4096. If you’re using GPUs, you must specify an explicit\n",
      "batch size.\n",
      "\n",
      "https://docs.ray.io/en/master/data/batch_inference.html#configuring-batch-size\n",
      "# Specify that each input batch should be of size 2.\n",
      "ds.map_batches(assert_batch, batch_size=2)\n",
      "Caution\n",
      "The default batch_size of 4096 may be too large for datasets with large rows\n",
      "(for example, tables with many columns or a collection of large images).\n",
      "\n",
      "https://docs.ray.io/en/master/data/batch_inference.html#configuring-batch-size\n",
      "Configuring Batch Size#\n",
      "Configure the size of the input batch that’s passed to __call__ by setting the batch_size argument for ds.map_batches()\n",
      "\n",
      "https://docs.ray.io/en/master/tune/getting-started.html#setting-up-a-tuner-for-a-training-run-with-tune\n",
      "batch_size=64,\n",
      "        shuffle=True)\n",
      "\n"
     ]
    }
   ],
   "source": [
    "for i, item in enumerate(context):\n",
    "    print (sources[i])\n",
    "    print (item[\"text\"])\n",
    "    print ()"
   ]
  },
  {
   "cell_type": "markdown",
   "id": "6fc7d446-3936-4c4a-aa01-f6dc46991416",
   "metadata": {},
   "source": [
    "Let's wrap this into a convenient function:"
   ]
  },
  {
   "cell_type": "code",
   "execution_count": null,
   "id": "d26a88bd-fbf0-4023-bfc7-e0501073caeb",
   "metadata": {
    "tags": []
   },
   "outputs": [],
   "source": [
    "def semantic_search(query, embedding_model, k):\n",
    "    embedding = np.array(embedding_model.embed_query(query))\n",
    "    with psycopg.connect(os.environ[\"DB_CONNECTION_STRING\"]) as conn:\n",
    "        register_vector(conn)\n",
    "        with conn.cursor() as cur:\n",
    "            cur.execute(\"SELECT * FROM document ORDER BY embedding <=> %s LIMIT %s\", (embedding, k),)\n",
    "            rows = cur.fetchall()\n",
    "            semantic_context = [{\"id\": row[0], \"text\": row[1], \"source\": row[2]} for row in rows]\n",
    "    return semantic_context"
   ]
  },
  {
   "cell_type": "markdown",
   "id": "f5738d23-91e3-4016-826e-716872f76b62",
   "metadata": {
    "tags": []
   },
   "source": [
    "# Generation"
   ]
  },
  {
   "cell_type": "markdown",
   "id": "0bec2b7c-35be-40d1-9e12-29d7d6178d4d",
   "metadata": {},
   "source": [
    "We can now use the context to generate a response from our LLM. Without this relevant context that we retrieved, the LLM may not have been able to accurately answer our question. And as our data grows, we can just as easily embed and index any new data and be able to retrieve it to answer questions.\n",
    "\n",
    "<img width=\"500\" src=\"https://images.ctfassets.net/xjan103pcp94/38I8en8Tyf0cM4LUhjygoq/739d456c80841b4c28fe80f73ea5856b/image16.png\">"
   ]
  },
  {
   "cell_type": "code",
   "execution_count": null,
   "id": "b55cc1d7-e110-4d9d-abc4-36576db25f92",
   "metadata": {
    "tags": []
   },
   "outputs": [],
   "source": [
    "import openai\n",
    "import time"
   ]
  },
  {
   "cell_type": "code",
   "execution_count": null,
   "id": "6510f9dc-5870-4c9a-8ea0-7661d1914f8a",
   "metadata": {
    "tags": []
   },
   "outputs": [
    {
     "data": {
      "application/vnd.jupyter.widget-view+json": {
       "model_id": "3ee533035c38410b95c585684f75d799",
       "version_major": 2,
       "version_minor": 0
      },
      "text/plain": [
       "Downloading (…)okenizer_config.json:   0%|          | 0.00/28.0 [00:00<?, ?B/s]"
      ]
     },
     "metadata": {},
     "output_type": "display_data"
    },
    {
     "data": {
      "application/vnd.jupyter.widget-view+json": {
       "model_id": "508b13c241a6482588eae927fb70078c",
       "version_major": 2,
       "version_minor": 0
      },
      "text/plain": [
       "Downloading (…)solve/main/vocab.txt:   0%|          | 0.00/232k [00:00<?, ?B/s]"
      ]
     },
     "metadata": {},
     "output_type": "display_data"
    },
    {
     "data": {
      "application/vnd.jupyter.widget-view+json": {
       "model_id": "633b54e7b39741a9bea9ee3eb0e0f91b",
       "version_major": 2,
       "version_minor": 0
      },
      "text/plain": [
       "Downloading (…)/main/tokenizer.json:   0%|          | 0.00/466k [00:00<?, ?B/s]"
      ]
     },
     "metadata": {},
     "output_type": "display_data"
    },
    {
     "data": {
      "application/vnd.jupyter.widget-view+json": {
       "model_id": "f9f5aa05e5254a5c8dc80ee09bd169b0",
       "version_major": 2,
       "version_minor": 0
      },
      "text/plain": [
       "Downloading (…)lve/main/config.json:   0%|          | 0.00/570 [00:00<?, ?B/s]"
      ]
     },
     "metadata": {},
     "output_type": "display_data"
    }
   ],
   "source": [
    "from rag.generate import prepare_response\n",
    "from rag.utils import get_credentials"
   ]
  },
  {
   "cell_type": "code",
   "execution_count": null,
   "id": "697e65e8-4d69-4870-9f09-0e128008b94e",
   "metadata": {
    "tags": []
   },
   "outputs": [],
   "source": [
    "def generate_response(\n",
    "    llm, temperature=0.0, stream=True,\n",
    "    system_content=\"\", assistant_content=\"\", user_content=\"\", \n",
    "    max_retries=1, retry_interval=60):\n",
    "    \"\"\"Generate response from an LLM.\"\"\"\n",
    "    retry_count = 0\n",
    "    api_base, api_key = get_credentials(llm=llm)\n",
    "    while retry_count <= max_retries:\n",
    "        try:\n",
    "            response = openai.ChatCompletion.create(\n",
    "                model=llm,\n",
    "                temperature=temperature,\n",
    "                stream=stream,\n",
    "                api_base=api_base,\n",
    "                api_key=api_key,\n",
    "                messages=[\n",
    "                    {\"role\": \"system\", \"content\": system_content},\n",
    "                    {\"role\": \"assistant\", \"content\": assistant_content},\n",
    "                    {\"role\": \"user\", \"content\": user_content},\n",
    "                ],\n",
    "            )\n",
    "            return prepare_response(response=response, stream=stream)\n",
    "\n",
    "        except Exception as e:\n",
    "            print(f\"Exception: {e}\")\n",
    "            time.sleep(retry_interval)  # default is per-minute rate limits\n",
    "            retry_count += 1\n",
    "    return \"\""
   ]
  },
  {
   "cell_type": "markdown",
   "id": "8dfe6bd9-bad1-4b21-9aea-fc2e127ba3fc",
   "metadata": {},
   "source": [
    "**Note**: We’re using a temperature of 0.0 to enable reproducible experiments but you should adjust this based on your use case. For use cases that need to always be factually grounded, we recommend very low temperature values while more creative tasks can benefit from higher temperatures."
   ]
  },
  {
   "cell_type": "code",
   "execution_count": null,
   "id": "9de3685b-6839-445f-9baa-68a5e863562a",
   "metadata": {
    "tags": []
   },
   "outputs": [
    {
     "name": "stdout",
     "output_type": "stream",
     "text": [
      "  The default batch size for map_batches is 4096."
     ]
    }
   ],
   "source": [
    "# Generate response\n",
    "query = \"What is the default batch size for map_batches?\"\n",
    "response = generate_response(\n",
    "    llm=\"meta-llama/Llama-2-70b-chat-hf\",\n",
    "    temperature=0.0,\n",
    "    stream=True,\n",
    "    system_content=\"Answer the query using the context provided. Be succinct.\",\n",
    "    user_content=f\"query: {query}, context: {context}\")\n",
    "# Stream response\n",
    "for content in response:\n",
    "    print(content, end='', flush=True)"
   ]
  },
  {
   "cell_type": "markdown",
   "id": "77e0511e-d79c-4d54-a50f-163c11fc8643",
   "metadata": {},
   "source": [
    "## Agent"
   ]
  },
  {
   "cell_type": "markdown",
   "id": "bad51191-19d1-40d5-bbc8-72245fafd154",
   "metadata": {},
   "source": [
    "Let's combine the context retrieval and response generation together into a convenient query agent that we can use to easily generate our responses. This will take care of setting up our agent (embedding and LLM model), as well as the context retrieval, and pass it to our LLM for response generation."
   ]
  },
  {
   "cell_type": "code",
   "execution_count": null,
   "id": "dc002554-a525-48e0-8389-e60594d29221",
   "metadata": {
    "tags": []
   },
   "outputs": [],
   "source": [
    "from rag.embed import get_embedding_model\n",
    "from rag.utils import get_num_tokens, trim"
   ]
  },
  {
   "cell_type": "code",
   "execution_count": null,
   "id": "ffcc892a-ceee-487a-aecf-db116f53e89f",
   "metadata": {
    "tags": []
   },
   "outputs": [],
   "source": [
    "class QueryAgent:\n",
    "    def __init__(self, embedding_model_name=\"thenlper/gte-base\",\n",
    "                 llm=\"meta-llama/Llama-2-70b-chat-hf\", temperature=0.0, \n",
    "                 max_context_length=4096, system_content=\"\", assistant_content=\"\"):\n",
    "        \n",
    "        # Embedding model\n",
    "        self.embedding_model = get_embedding_model(\n",
    "            embedding_model_name=embedding_model_name, \n",
    "            model_kwargs={\"device\": \"cuda\"}, \n",
    "            encode_kwargs={\"device\": \"cuda\", \"batch_size\": 100})\n",
    "        \n",
    "        # Context length (restrict input length to 50% of total context length)\n",
    "        max_context_length = int(0.5*max_context_length)\n",
    "        \n",
    "        # LLM\n",
    "        self.llm = llm\n",
    "        self.temperature = temperature\n",
    "        self.context_length = max_context_length - get_num_tokens(system_content + assistant_content)\n",
    "        self.system_content = system_content\n",
    "        self.assistant_content = assistant_content\n",
    "\n",
    "    def __call__(self, query, num_chunks=5, stream=True):\n",
    "        # Get sources and context\n",
    "        contexts_results = semantic_search(\n",
    "            query=query, \n",
    "            embedding_model=self.embedding_model, \n",
    "            k=num_chunks)\n",
    "            \n",
    "        # Generate response\n",
    "        context = [item[\"text\"] for item in contexts_results]\n",
    "        sources = [item[\"source\"] for item in contexts_results]\n",
    "        user_content = f\"query: {query}, context: {context}\"\n",
    "        answer = generate_response(\n",
    "            llm=self.llm,\n",
    "            temperature=self.temperature,\n",
    "            stream=stream,\n",
    "            system_content=self.system_content,\n",
    "            assistant_content=self.assistant_content,\n",
    "            user_content=trim(user_content, self.context_length))\n",
    "\n",
    "        # Result\n",
    "        result = {\n",
    "            \"question\": query,\n",
    "            \"sources\": sources,\n",
    "            \"answer\": answer,\n",
    "            \"llm\": self.llm,\n",
    "        }\n",
    "        return result"
   ]
  },
  {
   "cell_type": "markdown",
   "id": "29fc2167-3f0b-4cac-96a0-67ecb9854f2c",
   "metadata": {},
   "source": [
    "With this, we can use our RAG application in just a few lines:"
   ]
  },
  {
   "cell_type": "code",
   "execution_count": null,
   "id": "e6e0125b-cc86-4811-aded-e77b661e068a",
   "metadata": {
    "tags": []
   },
   "outputs": [],
   "source": [
    "embedding_model_name=\"thenlper/gte-base\"\n",
    "llm=\"meta-llama/Llama-2-7b-chat-hf\""
   ]
  },
  {
   "cell_type": "code",
   "execution_count": null,
   "id": "ad3b1224-922b-40b5-9979-9075c6ef100e",
   "metadata": {
    "tags": []
   },
   "outputs": [
    {
     "name": "stdout",
     "output_type": "stream",
     "text": [
      "\n",
      "\n",
      " {\n",
      "  \"question\": \"What is the default batch size for map_batches?\",\n",
      "  \"sources\": [\n",
      "    \"https://docs.ray.io/en/master/data/api/doc/ray.data.Dataset.map_batches.html#ray-data-dataset-map-batches\",\n",
      "    \"https://docs.ray.io/en/master/data/transforming-data.html#configuring-batch-size\",\n",
      "    \"https://docs.ray.io/en/master/data/batch_inference.html#configuring-batch-size\",\n",
      "    \"https://docs.ray.io/en/master/data/batch_inference.html#configuring-batch-size\",\n",
      "    \"https://docs.ray.io/en/master/tune/getting-started.html#setting-up-a-tuner-for-a-training-run-with-tune\"\n",
      "  ],\n",
      "  \"answer\": \"  The default batch size for `map_batches` is 4096. However, this can be adjusted by specifying a different batch size when calling `map_batches`. The default batch size may be too large for datasets with large rows, so it's important to carefully configure the batch size based on the specific use case.\",\n",
      "  \"llm\": \"meta-llama/Llama-2-7b-chat-hf\"\n",
      "}\n"
     ]
    }
   ],
   "source": [
    "query = \"What is the default batch size for map_batches?\"\n",
    "system_content = \"Answer the query using the context provided. Be succinct.\"\n",
    "agent = QueryAgent(\n",
    "    embedding_model_name=embedding_model_name,\n",
    "    llm=llm,\n",
    "    max_context_length=MAX_CONTEXT_LENGTHS[llm],\n",
    "    system_content=system_content)\n",
    "result = agent(query=query, stream=False)\n",
    "print(\"\\n\\n\", json.dumps(result, indent=2))"
   ]
  },
  {
   "cell_type": "markdown",
   "id": "34feb8ca-5e72-4b12-8ab3-55ca5af05109",
   "metadata": {},
   "source": [
    "# Evaluation"
   ]
  },
  {
   "cell_type": "markdown",
   "id": "6676dbb2-a143-463c-8de2-9a2763e12059",
   "metadata": {},
   "source": [
    "So far, we've chosen typical/arbitrary values for the various parts of our RAG application. But if we were to change something, such as our chunking logic, embedding model, LLM, etc. how can we know that we have a better configuration than before? A generative task like this is very difficult to quantitatively assess and so we need to develop reliable ways to do so.\n",
    "\n",
    "Because we have many moving parts in our application, we need to perform both unit/component and end-to-end evaluation. Component-wise evaluation can involve evaluating our retrieval in isolation (is the best source in our set of retrieved chunks) and evaluating our LLMs response (given the best source, is the LLM able to produce a quality answer). And for end-to-end evaluation, we can assess the quality of the entire system (given the data sources, what is the quality of the response).\n",
    "We'll be asking our evaluator LLM to score the quality of the response between 1-5 using the context, however, we could also have it produce scores for other dimensions such as hallucination (is the generated answer using information only from the provided context), toxicity, etc.\n",
    "\n",
    "**Note**: We could have constrained the score to be binary (0/1), which might be more interpretable (ex. the response was either correct or incorrect). However, we introduced a higher variance in our scores to develop a deeper, fine-grained, understanding of how LLMs score responses (ex. LLM bias towards responses).\n",
    "\n",
    "\n",
    "\n",
    "<img width=\"1000\" src=\"https://images.ctfassets.net/xjan103pcp94/17UQdsEImsXOOdDlT06bvi/4a9b9e46e157541a1178b6938624176a/llm_evaluations.png\">"
   ]
  },
  {
   "cell_type": "code",
   "execution_count": null,
   "id": "7c6f7b9e-4b77-4b0c-8660-ba8047356415",
   "metadata": {
    "tags": []
   },
   "outputs": [],
   "source": [
    "# If running tests / small samples, set num_samples to <10\n",
    "EXPERIMENTS_DIR = Path(ROOT_DIR, \"experiments\")\n",
    "NUM_SAMPLES = None  # None = all samples"
   ]
  },
  {
   "cell_type": "markdown",
   "id": "4fa7a068-fc77-4928-bf58-52321616f9d5",
   "metadata": {},
   "source": [
    "## Evaluator"
   ]
  },
  {
   "cell_type": "markdown",
   "id": "0a19d3e8-b7e8-4d69-aa70-118af1fb1708",
   "metadata": {},
   "source": [
    "We're going to start by determining our evaluator. Given a response to a query and relevant context, our evaluator should be a trusted way to score/assess the quality of the response. But before we can determine our evaluator, we need a dataset of questions and the source where the answer comes from. We can use this dataset to ask our different evaluators to provide an answer and then rate their answer (ex. score between 1-5). We can then inspect this dataset to determine if our evaluator is unbiased and has sound reasoning for the scores that are assigned.\n",
    "\n",
    "**Note**: We’re evaluating the ability of our LLM to generate a response given the relevant context. This is a component-level evaluation (`quality_score (LLM)`) because we aren’t using retrieval to fetch the relevant context."
   ]
  },
  {
   "cell_type": "markdown",
   "id": "03acb7e0-7bcb-4e2f-8552-5fe182a278db",
   "metadata": {},
   "source": [
    "We'll start by manually creating our dataset (keep reading if you can’t manually create a dataset). We have a list of user queries and the ideal source to answer the query [datasets/eval-dataset-v1.jsonl](https://github.com/ray-project/llm-applications/blob/main/datasets/eval-dataset-v1.jsonl). We will our LLM app above to generate reference answer for each query/source pair using `gpt-4`."
   ]
  },
  {
   "cell_type": "code",
   "execution_count": null,
   "id": "fa6cab00-d68d-4745-a735-048d72d8e5d6",
   "metadata": {
    "tags": []
   },
   "outputs": [],
   "source": [
    "from bs4 import BeautifulSoup\n",
    "from IPython.display import JSON, clear_output, display\n",
    "from tqdm import tqdm\n",
    "import urllib.parse"
   ]
  },
  {
   "cell_type": "code",
   "execution_count": null,
   "id": "8c58d5dd-bd0f-40eb-99e3-ea305a925127",
   "metadata": {
    "tags": []
   },
   "outputs": [],
   "source": [
    "from rag.evaluate import extract_from_response\n",
    "from rag.data import fetch_text"
   ]
  },
  {
   "cell_type": "code",
   "execution_count": null,
   "id": "ca019cc9-3241-4453-b63d-ef7c44ba584a",
   "metadata": {
    "tags": []
   },
   "outputs": [],
   "source": [
    "# Load dataset\n",
    "with open(Path(ROOT_DIR, \"datasets/eval-dataset-v1.jsonl\"), \"r\") as f:\n",
    "    data = [json.loads(item) for item in list(f)]"
   ]
  },
  {
   "cell_type": "code",
   "execution_count": null,
   "id": "3cd9e509-1fe6-42ad-886f-0e118e8dd35d",
   "metadata": {
    "tags": []
   },
   "outputs": [
    {
     "data": {
      "text/plain": [
       "[{'question': 'I’m struggling a bit with Ray Data type conversions when I do map_batches. Any advice?',\n",
       "  'source': 'https://docs.ray.io/en/master/data/transforming-data.html#configuring-batch-format'},\n",
       " {'question': 'How does autoscaling work in a Ray Serve application?',\n",
       "  'source': 'https://docs.ray.io/en/master/serve/scaling-and-resource-allocation.html#autoscaling'},\n",
       " {'question': 'how do I get the address of a ray node',\n",
       "  'source': 'https://docs.ray.io/en/master/ray-core/miscellaneous.html#node-information'},\n",
       " {'question': 'Does Ray support NCCL?',\n",
       "  'source': 'https://docs.ray.io/en/master/ray-more-libs/ray-collective.html'},\n",
       " {'question': 'Is Ray integrated with DeepSpeed?',\n",
       "  'source': 'https://docs.ray.io/en/master/ray-air/examples/gptj_deepspeed_fine_tuning.html#fine-tuning-the-model-with-ray-air-a-name-train-a'}]"
      ]
     },
     "execution_count": null,
     "metadata": {},
     "output_type": "execute_result"
    }
   ],
   "source": [
    "data[:5]"
   ]
  },
  {
   "cell_type": "code",
   "execution_count": null,
   "id": "eaeb8f67-0fef-4b0e-a362-cceb04f3295b",
   "metadata": {
    "tags": []
   },
   "outputs": [
    {
     "data": {
      "text/plain": [
       "'\\nConfiguring batch format#\\nRay Data represents batches as dicts of NumPy ndarrays or pandas DataFrames. By\\ndefault, Ray Data represents batches as dicts of NumPy ndarrays.\\nTo configure the batch type, specify batch_format in\\nmap_batches(). You can return either format from your function.\\n\\n\\n\\nNumPy\\nfrom typing import Dict\\nimport numpy as np\\nimport ray\\n\\ndef increase_brightness(batch: Dict[str, np.ndarray]) -> Dict[str, np.ndarray]:\\n    batch[\"image\"] = np.clip(batch[\"image\"] + 4, 0, 255)\\n    return batch\\n\\nds = (\\n    ray.data.read_images(\"s3://anonymous@ray-example-data/image-datasets/simple\")\\n    .map_batches(increase_brightness, batch_format=\"numpy\")\\n)\\n\\n\\n\\n\\n\\npandas\\nimport pandas as pd\\nimport ray\\n\\ndef drop_nas(batch: pd.DataFrame) -> pd.DataFrame:\\n    return batch.dropna()\\n\\nds = (\\n    ray.data.read_csv(\"s3://anonymous@air-example-data/iris.csv\")\\n    .map_batches(drop_nas, batch_format=\"pandas\")\\n)\\n\\n\\n\\n\\n'"
      ]
     },
     "execution_count": null,
     "metadata": {},
     "output_type": "execute_result"
    }
   ],
   "source": [
    "# Sample\n",
    "uri = \"https://docs.ray.io/en/master/data/transforming-data.html#configuring-batch-format\"\n",
    "fetch_text(uri=uri)"
   ]
  },
  {
   "cell_type": "code",
   "execution_count": null,
   "id": "dec3460f-c07a-4a2f-95f7-d1ef85d1a064",
   "metadata": {
    "tags": []
   },
   "outputs": [],
   "source": [
    "# Content for inference\n",
    "system_content = \"\"\"\n",
    "    Answer the query using the context provided. Be succinct.\n",
    "    Then, you must {score} your response between 1 and 5.\n",
    "    You must return your response in a line with only the score.\n",
    "    Do not add any more details.\n",
    "    On a separate line provide your {reasoning} for the score as well.\n",
    "    Return your response following the exact format outlined below.\n",
    "    Do not add or remove anything.\n",
    "    And all of this must be in a valid JSON format.\n",
    "    \n",
    "    {\"answer\": answer,\n",
    "     \"score\": score,\n",
    "     \"reasoning\": reasoning}\n",
    "    \"\"\"\n",
    "assistant_content = \"\""
   ]
  },
  {
   "cell_type": "markdown",
   "id": "f95f9309-1d92-4e43-8de4-f5286d11d4af",
   "metadata": {},
   "source": [
    "We can extract the text from this context and pass it to our LLM to generate a response to the question. We’re also going to ask it to score the quality of its response for the query. To do this, we’ve defined a `QueryAgentWithContext` that inherits from `QueryAgent`, with the change that we’re providing the context and it doesn’t need to retrieve it."
   ]
  },
  {
   "cell_type": "code",
   "execution_count": null,
   "id": "7dc33d2e-51b1-4417-8f8d-3699d5840fc0",
   "metadata": {
    "tags": []
   },
   "outputs": [],
   "source": [
    "class QueryAgentWithContext(QueryAgent):\n",
    "    def __call__(self, query, context):\n",
    "        user_content = f\"query: {query}, context: {context}\"\n",
    "        response = generate_response(\n",
    "            llm=self.llm,\n",
    "            temperature=self.temperature,\n",
    "            stream=False,\n",
    "            system_content=self.system_content,\n",
    "            assistant_content=self.assistant_content,\n",
    "            user_content=user_content[: self.context_length])\n",
    "        return response"
   ]
  },
  {
   "cell_type": "code",
   "execution_count": null,
   "id": "63c2db65-36fc-48cb-8e86-18b96554f977",
   "metadata": {
    "tags": []
   },
   "outputs": [],
   "source": [
    "def get_references(data, llm, temperature, system_content, assistant_content, num_samples=None):\n",
    "    # Initialize agent\n",
    "    agent = QueryAgentWithContext(\n",
    "        llm=llm, \n",
    "        temperature=temperature,\n",
    "        system_content=system_content,\n",
    "        assistant_content=assistant_content)\n",
    "    \n",
    "    results = []\n",
    "    for row in tqdm(data[:num_samples]):\n",
    "        # Generate response\n",
    "        query = row[\"question\"]\n",
    "        context = fetch_text(uri=row[\"source\"])\n",
    "        response = agent(query=query, context=context)\n",
    "\n",
    "        # Extract from response\n",
    "        answer, score, reasoning = extract_from_response(response=response)\n",
    "        result = ({\n",
    "                \"question\": query,\n",
    "                \"source\": row[\"source\"],\n",
    "                \"answer\": answer,\n",
    "                \"score\": score,\n",
    "                \"reasoning\": reasoning,\n",
    "            })\n",
    "        results.append(result)\n",
    "        clear_output(wait=True)\n",
    "        display(JSON(json.dumps(result, indent=2)))\n",
    "    return results"
   ]
  },
  {
   "cell_type": "code",
   "execution_count": null,
   "id": "bd52ee15-d3fa-40a0-b3a1-2b28eca8db2e",
   "metadata": {
    "tags": []
   },
   "outputs": [],
   "source": [
    "# Refernces\n",
    "REFERENCES_FILE_PATH = Path(EXPERIMENTS_DIR, \"references\", \"gpt-4.json\")\n",
    "REFERENCES_FILE_PATH.parent.mkdir(parents=True, exist_ok=True)"
   ]
  },
  {
   "cell_type": "code",
   "execution_count": null,
   "id": "25cb4b98-ddc7-462e-8d6f-92f703bfc838",
   "metadata": {
    "tags": []
   },
   "outputs": [
    {
     "data": {
      "application/json": {
       "answer": "You can configure the batch type in Ray Data by specifying the 'batch_format' in the 'map_batches()' function. If you're working with NumPy ndarrays, your function should return a dict of NumPy ndarrays. If you're working with pandas DataFrames, your function should return a pandas DataFrame. Make sure your function is returning the correct type based on your specified 'batch_format'.",
       "question": "I’m struggling a bit with Ray Data type conversions when I do map_batches. Any advice?",
       "reasoning": "The context provides clear instructions on how to handle data type conversions when using the 'map_batches()' function in Ray Data. It explains that the function used should return the correct type based on the 'batch_format' specified, either a dict of NumPy ndarrays or a pandas DataFrame.",
       "score": 5,
       "source": "https://docs.ray.io/en/master/data/transforming-data.html#configuring-batch-format"
      },
      "text/plain": [
       "<IPython.core.display.JSON object>"
      ]
     },
     "metadata": {
      "application/json": {
       "expanded": false,
       "root": "root"
      }
     },
     "output_type": "display_data"
    },
    {
     "name": "stderr",
     "output_type": "stream",
     "text": [
      "100%|██████████| 1/1 [00:12<00:00, 12.55s/it]"
     ]
    },
    {
     "name": "stdout",
     "output_type": "stream",
     "text": [
      "5.0\n"
     ]
    },
    {
     "name": "stderr",
     "output_type": "stream",
     "text": [
      "\n"
     ]
    }
   ],
   "source": [
    "# gpt-4\n",
    "results = get_references(\n",
    "    data=data, num_samples=NUM_SAMPLES, llm=\"gpt-4\", temperature=0.0, \n",
    "    system_content=system_content, assistant_content=assistant_content)\n",
    "print (np.mean([float(result[\"score\"]) for result in results if result[\"score\"]]))"
   ]
  },
  {
   "cell_type": "code",
   "execution_count": null,
   "id": "0b8356fb-2a34-4697-b478-36911b582e99",
   "metadata": {
    "tags": []
   },
   "outputs": [],
   "source": [
    "# Save to file\n",
    "with open(REFERENCES_FILE_PATH, \"w\") as fp:\n",
    "    json.dump(results, fp, indent=4)"
   ]
  },
  {
   "cell_type": "markdown",
   "id": "4c522532-98c2-46e9-b262-1747145f34e1",
   "metadata": {},
   "source": [
    "We can now create a dataset with query, source, response, score and reasoning. We can inspect this to determine if our evaluator is of high quality. We found that `gpt-4` was a high quality evaluator based on the scores and reasonings it provided. We performed the same evaluation with other LLMs (ex. `Llama-2-70b`) and we found that they lacked the appropriate reasoning and were very generous with responses from themselves.\n",
    "\n",
    "**Note**: A more thorough evaluation would also test for the following by asking the evaluator to compare responses from different LLMs across the following:\n",
    "- position (which responses we show first) \n",
    "- verbosity (longer responses are favored) \n",
    "- nepotism (ex. GPT4 prefers GPT 3.5, etc.)\n"
   ]
  },
  {
   "cell_type": "code",
   "execution_count": null,
   "id": "dceefac3-e86c-4f2b-96ee-99e3f026692f",
   "metadata": {
    "tags": []
   },
   "outputs": [],
   "source": [
    "EVALUATOR = \"gpt-4\""
   ]
  },
  {
   "cell_type": "markdown",
   "id": "36a5e137-1f4a-4c31-b1af-0c9e48131f82",
   "metadata": {},
   "source": [
    "## Cold start"
   ]
  },
  {
   "cell_type": "markdown",
   "id": "67a7f87b-9f90-40c7-85df-2e0c287a5144",
   "metadata": {},
   "source": [
    "We may not always have a prepared dataset of questions and the best source to answer that question readily available. To address this cold start problem, we could use an LLM to look at our text chunks and generate questions that the specific chunk would answer. This provides us with quality questions and the exact source the answer is in. However, this dataset generation method could be a bit noisy. The generated questions may not always have high alignment to what our users may ask. And the specific chunk we say is the best source may also have that exact information in other chunks. Nonetheless, this is a great way to start our development process while we collect + manually label a high quality dataset.\n",
    "\n",
    "<img width=\"800\" src=\"https://images.ctfassets.net/xjan103pcp94/3QR9zkjtpgeqK8XKPteTav/76aa9e7743330e7fcf73b07332a7ddf2/image10.png\">"
   ]
  },
  {
   "cell_type": "code",
   "execution_count": null,
   "id": "30844ad6-adb6-43d8-af54-0604e7942816",
   "metadata": {
    "tags": []
   },
   "outputs": [],
   "source": [
    "# Prompt\n",
    "num_questions = 3\n",
    "system_content = f\"\"\"\n",
    "Create {num_questions} questions using only the context provided.\n",
    "End each question with a '?' character and then in a newline write the answer to that question using only the context provided.\n",
    "Separate each question/answer pair by a newline.\n",
    "\"\"\""
   ]
  },
  {
   "cell_type": "code",
   "execution_count": null,
   "id": "51b0e827-5eaa-4c52-b52e-0d46f39a3666",
   "metadata": {
    "tags": []
   },
   "outputs": [],
   "source": [
    "# Generate questions\n",
    "synthetic_data = []\n",
    "for chunk in chunks[:1]:  # small samples\n",
    "    response = generate_response(\n",
    "        llm=\"gpt-4\",\n",
    "        temperature=0.0,\n",
    "        stream=False,\n",
    "        system_content=system_content,\n",
    "        user_content=f\"context: {chunk.page_content}\")\n",
    "    entries = response.split(\"\\n\\n\")\n",
    "    for entry in entries:\n",
    "        question, answer = entry.split(\"\\n\")\n",
    "        synthetic_data.append({\"question\": question, \"source\": chunk.metadata[\"source\"], \"answer\": answer})"
   ]
  },
  {
   "cell_type": "code",
   "execution_count": null,
   "id": "f083eaf6-6c0e-4e8d-a4a2-cc32bea470af",
   "metadata": {
    "tags": []
   },
   "outputs": [
    {
     "data": {
      "text/plain": [
       "[{'question': 'What is the Ray Dashboard used for?',\n",
       "  'source': 'https://docs.ray.io/en/master/ray-observability/getting-started.html#ray-dashboard',\n",
       "  'answer': 'The Ray Dashboard is used for monitoring and debugging Ray applications.'},\n",
       " {'question': 'What does the visual representation of the Ray Dashboard allow users to do?',\n",
       "  'source': 'https://docs.ray.io/en/master/ray-observability/getting-started.html#ray-dashboard',\n",
       "  'answer': 'The visual representation of the Ray Dashboard allows users to track the performance of applications and troubleshoot issues.'},\n",
       " {'question': 'Is the Ray Dashboard web-based?',\n",
       "  'source': 'https://docs.ray.io/en/master/ray-observability/getting-started.html#ray-dashboard',\n",
       "  'answer': 'Yes, the Ray Dashboard is web-based.'}]"
      ]
     },
     "execution_count": null,
     "metadata": {},
     "output_type": "execute_result"
    }
   ],
   "source": [
    "synthetic_data[:3]"
   ]
  },
  {
   "cell_type": "markdown",
   "id": "5b029edf-e018-427f-a1c9-2b4bf689d09c",
   "metadata": {},
   "source": [
    "## Experiments"
   ]
  },
  {
   "cell_type": "markdown",
   "id": "8dea24ed-0a47-47a6-9881-0af1ea8c5691",
   "metadata": {},
   "source": [
    "With our evaluator set, we're ready to start experimenting with the various components in our LLM application. While we could perform this as a large [hyperparameter tuning experiment](https://docs.ray.io/en/latest/tune/index.html), where we can search across promising combinations of values/decisions, we're going to evaluate one decision at a time and set the best value for the next experiment.\n",
    "\n",
    "**Note**: this approach is slightly imperfect because many of our decisions are not indepedent (ex. `chunk_size` and `num_chunks` should ideally be evaluated across many combinations of values).\n",
    "\n",
    "<img width=\"700\" src=\"https://images.ctfassets.net/xjan103pcp94/2LlTUhNFzfLM775IVSxjkX/af49d7b4e0fdd4a482d29cf6eab5067f/image13.png\">"
   ]
  },
  {
   "cell_type": "markdown",
   "id": "f8b51fd3-7a86-41dd-91bb-adcb83bf7269",
   "metadata": {},
   "source": [
    "### Utilities"
   ]
  },
  {
   "cell_type": "markdown",
   "id": "07b3f59f-f79b-4cdb-b55f-6d1d5d245628",
   "metadata": {},
   "source": [
    "Before we start our experiments, we’re going to define a few more utility functions. Our evaluation workflow will use our evaluator to assess the end-to-end quality (`quality_score (overall)`) of our application since the response depends on the retrieved context and the LLM. But we’ll also include a `retrieval_score` to measure the quality of our retrieval process (chunking + embedding). Our logic for determining the `retrieval_score` registers a success if the best source is anywhere in our retrieved num_chunks sources. We don't account for order, exact page section, etc. but we could add those constraints to have a more conservative retrieval score.\n",
    "\n",
    "\n",
    "<img width=\"700\" src=\"https://images.ctfassets.net/xjan103pcp94/2lhpSUNrMmi7WAHpd3wslR/15facf649e30571e8d806d354f475f0b/image6.png\">"
   ]
  },
  {
   "cell_type": "markdown",
   "id": "a42a1ebb-b3d2-48d7-9d9f-bf5231cfe5b8",
   "metadata": {},
   "source": [
    "We'll set where our labeled data and reference reports are located. We'll be using the former to generate responses and the latter dataset to evaluate those responses."
   ]
  },
  {
   "cell_type": "code",
   "execution_count": null,
   "id": "c084e6dd-b8b7-4492-9346-a3455e26e96f",
   "metadata": {
    "tags": []
   },
   "outputs": [],
   "source": [
    "import matplotlib.pyplot as plt\n",
    "from rag.generate import generate_responses\n",
    "from rag.evaluate import evaluate_responses"
   ]
  },
  {
   "cell_type": "markdown",
   "id": "3734e048-033c-46c3-834f-5cc4b380e00a",
   "metadata": {},
   "source": [
    "Let's define a function to determine our retrieval score, which registers a success if the best source is anywhere in our retrieval `num_chunks` sources. We don't account for order, exact page section, etc. but we could add those constraints to have a more conservative retreival score."
   ]
  },
  {
   "cell_type": "code",
   "execution_count": null,
   "id": "73a57c87-8ef0-4d45-9594-34ca07ff7210",
   "metadata": {
    "tags": []
   },
   "outputs": [],
   "source": [
    "def get_retrieval_score(references, generated):\n",
    "    matches = np.zeros(len(references))\n",
    "    for i in range(len(references)):\n",
    "        reference_source = references[i][\"source\"].split(\"#\")[0]\n",
    "        if not reference_source:\n",
    "            matches[i] = 1\n",
    "            continue\n",
    "        for source in generated[i][\"sources\"]:\n",
    "            # sections don't have to perfectly match\n",
    "            if reference_source == source.split(\"#\")[0]:\n",
    "                matches[i] = 1\n",
    "                continue\n",
    "    retrieval_score = np.mean(matches)\n",
    "    return retrieval_score"
   ]
  },
  {
   "cell_type": "markdown",
   "id": "7a7c708e-8fd1-4560-b65f-cf62d0034722",
   "metadata": {},
   "source": [
    "We'll define one encompassing function that will generate and evaluate the responses so that we can run these experiments with one function call. Regardless of what configuration(s) we want to evaluate, we’ll need to first generate responses using that configuration and then evaluate those responses using our evaluator:"
   ]
  },
  {
   "cell_type": "code",
   "execution_count": null,
   "id": "66a76e95-9c1b-488f-bd9f-750a176d3d77",
   "metadata": {
    "tags": []
   },
   "outputs": [],
   "source": [
    "def run_experiment(\n",
    "    experiment_name,\n",
    "    chunk_size, chunk_overlap, num_chunks,\n",
    "    embedding_model_name, llm, evaluator,\n",
    "    docs_dir, experiments_dir, references_fp,\n",
    "    generation_system_content=\"Answer the query using the context provided. Be succinct.\",\n",
    "    use_lexical_search=False,\n",
    "    lexical_search_k=1,\n",
    "    use_reranking=False,\n",
    "    rerank_threshold=0.3,\n",
    "    rerank_k=7,\n",
    "    num_samples=None,\n",
    "    sql_dump_fp=None):\n",
    "    \"\"\"Generate responses and evaluate them.\"\"\"\n",
    "    \n",
    "    # Generate responses\n",
    "    generate_responses(\n",
    "        experiment_name=experiment_name, \n",
    "        chunk_size=chunk_size, \n",
    "        chunk_overlap=chunk_overlap, \n",
    "        num_chunks=num_chunks,\n",
    "        embedding_model_name=embedding_model_name,\n",
    "        use_lexical_search=use_lexical_search,\n",
    "        lexical_search_k=lexical_search_k,\n",
    "        use_reranking=use_reranking,\n",
    "        rerank_threshold=rerank_threshold,\n",
    "        rerank_k=rerank_k,\n",
    "        llm=llm, \n",
    "        temperature=0.0, \n",
    "        max_context_length=MAX_CONTEXT_LENGTHS[llm], \n",
    "        system_content=generation_system_content,\n",
    "        assistant_content=\"\",\n",
    "        docs_dir=docs_dir,\n",
    "        experiments_dir=experiments_dir,\n",
    "        references_fp=references_fp,\n",
    "        num_samples=num_samples,\n",
    "        sql_dump_fp=sql_dump_fp)\n",
    "\n",
    "    # Evaluate responses\n",
    "    evaluation_system_content = \"\"\"\n",
    "        Your job is to rate the quality of our generated answer {generated_answer}\n",
    "        given a query {query} and a reference answer {reference_answer}.\n",
    "        Your score has to be between 1 and 5.\n",
    "        You must return your response in a line with only the score.\n",
    "        Do not return answers in any other format.\n",
    "        On a separate line provide your reasoning for the score as well.\n",
    "        \"\"\"\n",
    "    evaluate_responses(\n",
    "        experiment_name=experiment_name,\n",
    "        evaluator=evaluator, \n",
    "        temperature=0.0, \n",
    "        max_context_length=MAX_CONTEXT_LENGTHS[evaluator],\n",
    "        system_content=evaluation_system_content,\n",
    "        assistant_content=\"\",\n",
    "        experiments_dir=experiments_dir,\n",
    "        references_fp=references_fp,\n",
    "        responses_fp=str(Path(experiments_dir, \"responses\", f\"{experiment_name}.json\")),\n",
    "        num_samples=num_samples)"
   ]
  },
  {
   "cell_type": "code",
   "execution_count": null,
   "id": "169201fd-aa78-4459-a55f-04c97f1938aa",
   "metadata": {
    "tags": []
   },
   "outputs": [],
   "source": [
    "def print_experiment(experiment_name, experiments_dir, evaluator=EVALUATOR, verbose=True):\n",
    "    eval_fp = Path(experiments_dir, \"evaluations\", f\"{experiment_name}_{evaluator}.json\")\n",
    "    with open(eval_fp, \"r\") as fp:\n",
    "        d = json.load(fp)\n",
    "    retrieval_score = d[\"retrieval_score\"]\n",
    "    quality_score = d[\"quality_score\"]\n",
    "    if verbose:\n",
    "        print (experiment_name)\n",
    "        print (\"  retrieval score:\", retrieval_score)\n",
    "        print (\"  quality score:\", quality_score)\n",
    "        print ()\n",
    "    return {\"retrieval_score\": retrieval_score, \"quality_score\": quality_score}"
   ]
  },
  {
   "cell_type": "code",
   "execution_count": null,
   "id": "6f44e646-740e-47b7-a878-e15fb432394d",
   "metadata": {
    "tags": []
   },
   "outputs": [],
   "source": [
    "def plot_scores(scores):\n",
    "    # Prepare data for plotting\n",
    "    experiment_names = list(scores.keys())\n",
    "    retrieval_scores = [scores[experiment_name][\"retrieval_score\"] for experiment_name in experiment_names]\n",
    "    quality_scores = [scores[experiment_name][\"quality_score\"] for experiment_name in experiment_names]\n",
    "    \n",
    "    # Plotting\n",
    "    plt.figure(figsize=(10, 3))\n",
    "    for i, experiment_name in enumerate(experiment_names):\n",
    "        plt.scatter(quality_scores[i], retrieval_scores[i], label=experiment_name)\n",
    "        plt.text(quality_scores[i]+0.005, retrieval_scores[i]+0.005, experiment_name, ha=\"right\")\n",
    "        \n",
    "    # Add labels and title\n",
    "    plt.xlabel(\"Quality Score\")\n",
    "    plt.ylabel(\"Retrieval Score\")\n",
    "    plt.legend(title=\"Experiments\")\n",
    "    \n",
    "    # Show the plot\n",
    "    plt.show()"
   ]
  },
  {
   "cell_type": "code",
   "execution_count": null,
   "id": "8accfe8a-5041-4b94-a225-9e34a73ac5b8",
   "metadata": {
    "tags": []
   },
   "outputs": [],
   "source": [
    "llm = \"gpt-3.5-turbo\"\n",
    "embedding_model_name = \"thenlper/gte-base\""
   ]
  },
  {
   "cell_type": "markdown",
   "id": "6b31ebee-f839-4aaa-b328-72cee088c830",
   "metadata": {
    "tags": []
   },
   "source": [
    "### Context"
   ]
  },
  {
   "cell_type": "markdown",
   "id": "e89f56c4-2629-4ff7-b57c-f319170937de",
   "metadata": {},
   "source": [
    "We're first going to test if the additonal context we provide is helpful at all. This is to validate that the RAG system is indeed worth the effort. We can do this by settings `num_chunks=0` (no context) and comparing that to `num_chunks=5`."
   ]
  },
  {
   "cell_type": "code",
   "execution_count": null,
   "id": "91cefda6-0ec7-40a2-afc0-b8af2bdd3332",
   "metadata": {
    "tags": []
   },
   "outputs": [],
   "source": [
    "# Without context\n",
    "num_chunks = 0\n",
    "experiment_name = f\"without-context\"\n",
    "embedding_model_name = \"thenlper/gte-base\"\n",
    "run_experiment(\n",
    "    experiment_name=experiment_name, \n",
    "    chunk_size=300, \n",
    "    chunk_overlap=50,\n",
    "    num_chunks=num_chunks,\n",
    "    embedding_model_name=embedding_model_name,\n",
    "    llm=llm,\n",
    "    evaluator=EVALUATOR,\n",
    "    docs_dir=DOCS_DIR, \n",
    "    experiments_dir=EXPERIMENTS_DIR, \n",
    "    references_fp=REFERENCES_FILE_PATH,\n",
    "    num_samples=NUM_SAMPLES)"
   ]
  },
  {
   "cell_type": "code",
   "execution_count": null,
   "id": "a819c26a-9e05-484b-8e57-edfd26a84d4d",
   "metadata": {
    "tags": []
   },
   "outputs": [
    {
     "data": {
      "application/json": {
       "generated_answer": "If you are struggling with Ray Data type conversions when using `map_batches`, here is some advice:\n\nRay Data represents batches as NumPy arrays or pandas DataFrames. You can configure the batch type by specifying `batch_format` in the `map_batches` method. By default, Ray Data represents batches as dicts of NumPy ndarrays.\n\nTo inspect the inputs to `map_batches`, you can use the `map_batches` method. This method is useful for inspecting the inputs before performing any operations.\n\nIf you want to configure the batch type, you can specify `batch_format` in the `map_batches` method. You can choose to represent batches as dicts of NumPy ndarrays or pandas DataFrames. You can return either format from your function.\n\nI hope this advice helps you with your Ray Data type conversions when using `map_batches`.",
       "question": "I’m struggling a bit with Ray Data type conversions when I do map_batches. Any advice?",
       "reasoning": "The generated answer provides a detailed explanation and advice on how to handle Ray Data type conversions when using `map_batches`. It correctly mentions the use of `batch_format` and the different formats that can be used. However, it repeats some information, which could have been avoided. The reference answer is more concise and to the point, but the generated answer still provides useful and accurate information.",
       "reference_answer": "You can specify the batch format in the map_batches() function. If you're working with NumPy ndarrays, your function should accept and return a dictionary of ndarrays. If you're working with pandas DataFrames, your function should accept and return a DataFrame. Make sure your function is correctly handling the specified batch format.",
       "score": 4,
       "sources": [
        "https://docs.ray.io/en/master/data/api/doc/ray.data.Dataset.take_batch.html#ray-data-dataset-take-batch",
        "https://docs.ray.io/en/master/data/api/doc/ray.data.Dataset.take_batch.html#ray-data-dataset-take-batch",
        "https://docs.ray.io/en/master/data/api/doc/ray.data.Dataset.map_batches.html#ray-data-dataset-map-batches",
        "https://docs.ray.io/en/master/data/api/doc/ray.data.Dataset.map_batches.html#ray-data-dataset-map-batches",
        "https://docs.ray.io/en/master/data/transforming-data.html#configuring-batch-format"
       ]
      },
      "text/plain": [
       "<IPython.core.display.JSON object>"
      ]
     },
     "metadata": {
      "application/json": {
       "expanded": false,
       "root": "root"
      }
     },
     "output_type": "display_data"
    },
    {
     "name": "stderr",
     "output_type": "stream",
     "text": [
      "100%|██████████| 1/1 [00:04<00:00,  4.54s/it]\n"
     ]
    }
   ],
   "source": [
    "# With context\n",
    "num_chunks = 5\n",
    "experiment_name = \"with-context\"\n",
    "embedding_model_name = \"thenlper/gte-base\"\n",
    "run_experiment(\n",
    "    experiment_name=experiment_name, \n",
    "    chunk_size=300, \n",
    "    chunk_overlap=50, \n",
    "    num_chunks=num_chunks,\n",
    "    embedding_model_name=embedding_model_name,\n",
    "    llm=llm,\n",
    "    evaluator=EVALUATOR,\n",
    "    docs_dir=DOCS_DIR, \n",
    "    experiments_dir=EXPERIMENTS_DIR, \n",
    "    references_fp=REFERENCES_FILE_PATH,\n",
    "    num_samples=NUM_SAMPLES)"
   ]
  },
  {
   "cell_type": "code",
   "execution_count": null,
   "id": "8327cf28-5114-4e93-b769-014108dd743a",
   "metadata": {
    "tags": []
   },
   "outputs": [
    {
     "name": "stdout",
     "output_type": "stream",
     "text": [
      "without-context\n",
      "  retrieval score: 0.0\n",
      "  quality score: 3.110169491525424\n",
      "\n",
      "with-context\n",
      "  retrieval score: 0.5254237288135594\n",
      "  quality score: 3.4491525423728815\n",
      "\n"
     ]
    },
    {
     "data": {
      "image/png": "[encoded data removed]",
      "text/plain": [
       "<Figure size 1000x300 with 1 Axes>"
      ]
     },
     "metadata": {},
     "output_type": "display_data"
    }
   ],
   "source": [
    "scores = {}\n",
    "for experiment_name in [\"without-context\", \"with-context\"]:\n",
    "    scores[experiment_name] = print_experiment(experiment_name, EXPERIMENTS_DIR)\n",
    "plot_scores(scores=scores)"
   ]
  },
  {
   "cell_type": "markdown",
   "id": "df01f761-d3a7-4783-9fa7-57f62679b548",
   "metadata": {},
   "source": [
    "**Sanity check**: the retrieval score for without-context is zero since we’re using any context.\n",
    "\n",
    "As we can see, using context (RAG) does indeed help in the quality of our answers (and by a meaningful margin)."
   ]
  },
  {
   "cell_type": "markdown",
   "id": "6acc3a24-007d-4add-b0dd-5832351c6d63",
   "metadata": {
    "tags": []
   },
   "source": [
    "### Chunk size"
   ]
  },
  {
   "cell_type": "markdown",
   "id": "11775f23-89ef-432d-a00d-2a11ffaebf67",
   "metadata": {},
   "source": [
    "Next, we'll access various chunk sizes. Smaller chunks (but not too small!) are able to encapsulate atomic concepts which yields more precise retrieval. While larger chunks may be more noisy. Popular strategies include using small chunks but retrieving a bit of the [surrounding chunks](https://gpt-index.readthedocs.io/en/latest/end_to_end_tutorials/dev_practices/production_rag.html#decoupling-chunks-used-for-retrieval-vs-chunks-used-for-synthesis) around it (since it may have relevnat info) or store [mulitple embeddings](https://python.langchain.com/docs/modules/data_connection/retrievers/multi_vector) per document (ex. summary embedding per document)."
   ]
  },
  {
   "cell_type": "code",
   "execution_count": null,
   "id": "64b691b8-b2ea-4f77-857a-09e50053699c",
   "metadata": {
    "tags": []
   },
   "outputs": [],
   "source": [
    "experiment_names = []\n",
    "chunk_sizes = [100, 300, 500, 700, 900]"
   ]
  },
  {
   "cell_type": "code",
   "execution_count": null,
   "id": "53c054d1-9e4d-4688-b4b9-cf5a39b382c3",
   "metadata": {
    "tags": []
   },
   "outputs": [],
   "source": [
    "for chunk_size in chunk_sizes:\n",
    "    experiment_name = f\"chunk-size-{chunk_size}\"\n",
    "    experiment_names.append(experiment_name)\n",
    "    run_experiment(\n",
    "        experiment_name=experiment_name, \n",
    "        chunk_size=chunk_size, \n",
    "        chunk_overlap=50, \n",
    "        num_chunks=5,\n",
    "        embedding_model_name=embedding_model_name,\n",
    "        llm=llm,\n",
    "        evaluator=EVALUATOR,\n",
    "        docs_dir=DOCS_DIR, \n",
    "        experiments_dir=EXPERIMENTS_DIR, \n",
    "        references_fp=REFERENCES_FILE_PATH,\n",
    "        num_samples=NUM_SAMPLES)"
   ]
  },
  {
   "cell_type": "code",
   "execution_count": null,
   "id": "5155e8b6-5a52-4154-b05e-12af5a0e413d",
   "metadata": {
    "tags": []
   },
   "outputs": [
    {
     "name": "stdout",
     "output_type": "stream",
     "text": [
      "chunk-size-100\n",
      "  retrieval score: 0.4180790960451977\n",
      "  quality score: 3.073446327683616\n",
      "\n",
      "chunk-size-300\n",
      "  retrieval score: 0.5254237288135594\n",
      "  quality score: 3.3983050847457625\n",
      "\n",
      "chunk-size-500\n",
      "  retrieval score: 0.5480225988700564\n",
      "  quality score: 3.5338983050847457\n",
      "\n",
      "chunk-size-700\n",
      "  retrieval score: 0.519774011299435\n",
      "  quality score: 3.573446327683616\n",
      "\n",
      "chunk-size-900\n",
      "  retrieval score: 0.5706214689265536\n",
      "  quality score: 3.531073446327684\n",
      "\n"
     ]
    },
    {
     "data": {
      "image/png": "[encoded data removed]",
      "text/plain": [
       "<Figure size 1000x300 with 1 Axes>"
      ]
     },
     "metadata": {},
     "output_type": "display_data"
    }
   ],
   "source": [
    "scores = {}\n",
    "for experiment_name in experiment_names:\n",
    "    scores[experiment_name] = print_experiment(experiment_name, EXPERIMENTS_DIR)\n",
    "plot_scores(scores=scores)"
   ]
  },
  {
   "cell_type": "markdown",
   "id": "680569cb-d1b3-464e-b771-1f5dd3d0cc66",
   "metadata": {},
   "source": [
    "It appears that larger chunk sizes do help but tapers off (too much context might be too noisy). Larger chunk sizes [aren’t always better](https://arxiv.org/abs/2307.03172).\n",
    "\n",
    "**Note**: If we were to use larger chunk sizes (ours is based on characters), keep in mind that [most](https://huggingface.co/spaces/mteb/leaderboard) open source embedding models have a maximum sequence length of 512 sub-word tokens. This means that if our chunk contains more than 512 sub-word tokens (4 chars ≈ 1 token), the embedding wouldn't account for it anyway (unless we finetune our embedding model to have longer sequence lengths)."
   ]
  },
  {
   "cell_type": "code",
   "execution_count": null,
   "id": "04df6ec4-7edf-4a27-93ae-7ee2b3ff7241",
   "metadata": {
    "tags": []
   },
   "outputs": [],
   "source": [
    "CHUNK_SIZE = 700\n",
    "CHUNK_OVERLAP = 50"
   ]
  },
  {
   "cell_type": "markdown",
   "id": "fc80dd05-ced6-49b4-a193-c52fcebc118e",
   "metadata": {
    "tags": []
   },
   "source": [
    "### Number of chunks"
   ]
  },
  {
   "cell_type": "markdown",
   "id": "84fbb854-b016-4c42-97bc-56c7eebfa3dd",
   "metadata": {},
   "source": [
    "Next, we'll experiment with the number of chunks to use. More chunks will allow us to add more context but too many could potentially introduce a lot of noise.\n",
    "\n",
    "**Note**: The `chunk_size` we chose multiplied by the `num_chunks` below fits inside the LLM's context length. We're experimenting with the chunk size and number of chunks as if they were indepdent variables but they area heavily related. Especially since all of our LLMs have a finite maximum context length. So ideally, we would tune for a combination if `chunk_size` * `num_chunks`."
   ]
  },
  {
   "cell_type": "code",
   "execution_count": null,
   "id": "03926725-4dac-43ad-880b-80825d3b958c",
   "metadata": {
    "tags": []
   },
   "outputs": [],
   "source": [
    "experiment_names = []\n",
    "num_chunks_list = [1, 3, 5, 7, 9]"
   ]
  },
  {
   "cell_type": "code",
   "execution_count": null,
   "id": "c514d9c7-e16d-44c4-88b7-72a49b5c4197",
   "metadata": {
    "tags": []
   },
   "outputs": [],
   "source": [
    "for num_chunks in num_chunks_list:\n",
    "    experiment_name = f\"num-chunks-{num_chunks}\"\n",
    "    experiment_names.append(experiment_name)\n",
    "    run_experiment(\n",
    "        experiment_name=experiment_name, \n",
    "        chunk_size=CHUNK_SIZE, \n",
    "        chunk_overlap=CHUNK_OVERLAP, \n",
    "        num_chunks=num_chunks,\n",
    "        embedding_model_name=embedding_model_name,\n",
    "        llm=llm,\n",
    "        evaluator=EVALUATOR,\n",
    "        docs_dir=DOCS_DIR, \n",
    "        experiments_dir=EXPERIMENTS_DIR, \n",
    "        references_fp=REFERENCES_FILE_PATH,\n",
    "        num_samples=NUM_SAMPLES)"
   ]
  },
  {
   "cell_type": "code",
   "execution_count": null,
   "id": "d688ed6b-2e32-4c80-b83f-e5ebbca88ea6",
   "metadata": {
    "tags": []
   },
   "outputs": [
    {
     "name": "stdout",
     "output_type": "stream",
     "text": [
      "num-chunks-1\n",
      "  retrieval score: 0.20903954802259886\n",
      "  quality score: 3.1045197740112993\n",
      "\n",
      "num-chunks-3\n",
      "  retrieval score: 0.4406779661016949\n",
      "  quality score: 3.477401129943503\n",
      "\n",
      "num-chunks-5\n",
      "  retrieval score: 0.5480225988700564\n",
      "  quality score: 3.5706214689265536\n",
      "\n",
      "num-chunks-7\n",
      "  retrieval score: 0.6214689265536724\n",
      "  quality score: 3.6016949152542375\n",
      "\n",
      "num-chunks-9\n",
      "  retrieval score: 0.6779661016949152\n",
      "  quality score: 3.437853107344633\n",
      "\n"
     ]
    },
    {
     "data": {
      "image/png": "[encoded data removed]",
      "text/plain": [
       "<Figure size 1000x300 with 1 Axes>"
      ]
     },
     "metadata": {},
     "output_type": "display_data"
    }
   ],
   "source": [
    "scores = {}\n",
    "for experiment_name in experiment_names:\n",
    "    scores[experiment_name] = print_experiment(experiment_name, EXPERIMENTS_DIR)\n",
    "plot_scores(scores=scores)"
   ]
  },
  {
   "cell_type": "markdown",
   "id": "ee986a80-8659-4344-bb22-71bb62b32946",
   "metadata": {},
   "source": [
    "Increasing our number of chunks improves our retrieval and quality scores. We had to stop testing at 7 chunks since our `chunk_size` is 500 tokens and `Llama-2-70b`'s maximum content length is 4096 tokens (we also have to account for the system, assistant and user content to our LLM). This is a compelling reason to invest in extending context size via RoPE scaling (rotary position embeddings), etc. But it also seems that the benefit of increasing the number of chunks is starting to taper off.\n"
   ]
  },
  {
   "cell_type": "code",
   "execution_count": null,
   "id": "fbe4828f-9639-4957-898e-27dd0ce3ee32",
   "metadata": {
    "tags": []
   },
   "outputs": [],
   "source": [
    "NUM_CHUNKS = 7"
   ]
  },
  {
   "cell_type": "markdown",
   "id": "1a04dff3-5323-419f-a290-849c96899292",
   "metadata": {},
   "source": [
    "### Embedding models"
   ]
  },
  {
   "cell_type": "markdown",
   "id": "df10c471-22b5-479c-bbbd-59ff3835d7b9",
   "metadata": {},
   "source": [
    "So far, we've used [thenlper/gte-base](https://huggingface.co/thenlper/gte-base) as our embedding model because it's a relatively small (0.22 GB) and performant option. But now, let's explore other popular options such as the current leader on the [MTEB leaderboard](https://huggingface.co/spaces/mteb/leaderboard), [BAAI/bge-large-en](https://huggingface.co/BAAI/bge-large-en) (1.34 GB), [thenlper/gte-large](https://huggingface.co/thenlper/gte-large) (a larger version of `gte-base`), and OpenAI's [text-embedding-ada-002](https://openai.com/blog/new-and-improved-embedding-model)."
   ]
  },
  {
   "cell_type": "code",
   "execution_count": null,
   "id": "198ec597-8aaf-4c45-a275-2094211eebb4",
   "metadata": {
    "tags": []
   },
   "outputs": [],
   "source": [
    "experiment_names = []\n",
    "embedding_model_names = [\"thenlper/gte-base\", \"thenlper/gte-large\", \"BAAI/bge-large-en\", \"text-embedding-ada-002\"]"
   ]
  },
  {
   "cell_type": "code",
   "execution_count": null,
   "id": "1913f50c-ef13-487d-beeb-77ee38f91067",
   "metadata": {
    "tags": []
   },
   "outputs": [
    {
     "data": {
      "application/json": {
       "generated_answer": "To kill a specific Serve replica, you can use the `ray.kill()` function with the replica handle. In the provided context, the code snippet `ray.kill(replica_handle, no_restart=True)` is used to kill the replica with the handle `replica_handle`. The `no_restart=True` argument ensures that the replica is not restarted.",
       "question": "how do I kill a specific serve replica",
       "reasoning": "The generated answer provides a detailed and technical response on how to kill a specific Serve replica, which is relevant to the query. However, it does not align with the reference answer which states that there is no information provided in the context. The generated answer seems to assume some knowledge about the context which is not provided in the question or reference answer.",
       "reference_answer": "The context does not provide information on how to kill a specific serve replica.",
       "score": 4,
       "sources": [
        "https://docs.ray.io/en/master/serve/production-guide/fault-tolerance.html#deployment-replica-failure",
        "https://docs.ray.io/en/master/serve/advanced-guides/dev-workflow.html#local-development-with-http-requests",
        "https://docs.ray.io/en/master/serve/api/index.html#delete-api-serve-deployments",
        "https://docs.ray.io/en/master/serve/production-guide/fault-tolerance.html#deployment-replica-failure",
        "https://docs.ray.io/en/master/serve/production-guide/fault-tolerance.html#serve-controller-failure",
        "https://docs.ray.io/en/master/serve/scaling-and-resource-allocation.html#autoscaling",
        "https://docs.ray.io/en/master/serve/advanced-guides/dev-workflow.html#local-development-with-http-requests"
       ]
      },
      "text/plain": [
       "<IPython.core.display.JSON object>"
      ]
     },
     "metadata": {
      "application/json": {
       "expanded": false,
       "root": "root"
      }
     },
     "output_type": "display_data"
    },
    {
     "name": "stderr",
     "output_type": "stream",
     "text": [
      "100%|██████████| 177/177 [17:05<00:00,  5.80s/it]\n"
     ]
    }
   ],
   "source": [
    "for embedding_model_name in embedding_model_names:\n",
    "    experiment_name = f\"{embedding_model_name.split('/')[-1]}\"\n",
    "    experiment_names.append(experiment_name)\n",
    "    run_experiment(\n",
    "        experiment_name=experiment_name, \n",
    "        chunk_size=CHUNK_SIZE, \n",
    "        chunk_overlap=CHUNK_OVERLAP, \n",
    "        num_chunks=NUM_CHUNKS,\n",
    "        embedding_model_name=embedding_model_name,\n",
    "        llm=llm,\n",
    "        evaluator=EVALUATOR,\n",
    "        docs_dir=DOCS_DIR, \n",
    "        experiments_dir=EXPERIMENTS_DIR, \n",
    "        references_fp=REFERENCES_FILE_PATH,\n",
    "        num_samples=NUM_SAMPLES)"
   ]
  },
  {
   "cell_type": "code",
   "execution_count": null,
   "id": "60ec4e25-b11c-4ee1-a9a9-ce29eb6dc81e",
   "metadata": {
    "tags": []
   },
   "outputs": [
    {
     "name": "stdout",
     "output_type": "stream",
     "text": [
      "gte-base\n",
      "  retrieval score: 0.6214689265536724\n",
      "  quality score: 3.57909604519774\n",
      "\n",
      "gte-large\n",
      "  retrieval score: 0.6892655367231638\n",
      "  quality score: 3.5847457627118646\n",
      "\n",
      "bge-large-en\n",
      "  retrieval score: 0.4406779661016949\n",
      "  quality score: 3.3446327683615817\n",
      "\n",
      "text-embedding-ada-002\n",
      "  retrieval score: 0.5988700564971752\n",
      "  quality score: 3.5112994350282487\n",
      "\n"
     ]
    },
    {
     "data": {
      "image/png": "[encoded data removed]",
      "text/plain": [
       "<Figure size 1000x300 with 1 Axes>"
      ]
     },
     "metadata": {},
     "output_type": "display_data"
    }
   ],
   "source": [
    "scores = {}\n",
    "for experiment_name in experiment_names:\n",
    "    scores[experiment_name] = print_experiment(experiment_name, EXPERIMENTS_DIR)\n",
    "plot_scores(scores=scores)"
   ]
  },
  {
   "cell_type": "markdown",
   "id": "7fd24b35-1db3-4326-ab0c-c4b484fb5aea",
   "metadata": {},
   "source": [
    "This is an interesting outcome because the #1 (`BAAI/bge-large-en`) on the current leaderboard isn't necessarily the best for our specific task. Using the smaller `thenlper/gte-large` produced the best retrieval and quality scores in our experiments."
   ]
  },
  {
   "cell_type": "code",
   "execution_count": null,
   "id": "845ad771-65e1-44cf-813f-3aa167c07e31",
   "metadata": {
    "tags": []
   },
   "outputs": [],
   "source": [
    "EMBEDDING_MODEL_NAME = \"thenlper/gte-large\""
   ]
  },
  {
   "cell_type": "markdown",
   "id": "8b21b32f-bacb-4703-b16c-d4a7014779dc",
   "metadata": {},
   "source": [
    "### OSS vs. closed LLMs"
   ]
  },
  {
   "cell_type": "markdown",
   "id": "f393785f-17da-45eb-bf69-1483f74a370e",
   "metadata": {},
   "source": [
    "We're now going to use the best configurations from above to evaluate different choices for the main LLM.\n",
    "\n",
    "**Note**:\n",
    "- We've been using a specific LLM so far to decide on the configuration so that specific LLM's performance here will be a bit biased.\n",
    "- This list is not exhaustive and even for the LLMs we use, there are versions with longer context windows available."
   ]
  },
  {
   "cell_type": "code",
   "execution_count": null,
   "id": "a91c87cb-ba0d-4044-9616-b2cbad239587",
   "metadata": {
    "tags": []
   },
   "outputs": [],
   "source": [
    "experiment_names = []\n",
    "llms = [\"gpt-3.5-turbo\",\n",
    "        \"gpt-4\",\n",
    "        \"meta-llama/Llama-2-7b-chat-hf\", \n",
    "        \"meta-llama/Llama-2-13b-chat-hf\", \n",
    "        \"meta-llama/Llama-2-70b-chat-hf\",\n",
    "        \"codellama/CodeLlama-34b-Instruct-hf\",\n",
    "        \"mistralai/Mistral-7B-Instruct-v0.1\"]"
   ]
  },
  {
   "cell_type": "code",
   "execution_count": null,
   "id": "072e8114-23ba-402e-a03d-594089e9b4d5",
   "metadata": {
    "tags": []
   },
   "outputs": [
    {
     "data": {
      "application/json": {
       "generated_answer": " To kill a specific replica of a Ray Serve deployment, you can use the `ray.kill()` function with the replica handle. The replica handle can be obtained using the `ray.get_actor()` function. For example, to kill the replica with the handle `replica_handle`, you can run `ray.kill(replica_handle, no_restart=True)`.",
       "reasoning": "The generated answer provides a detailed and technical response on how to kill a specific serve replica, which is in line with the query. However, the reference answer states that there is no context provided, which suggests that the generated answer might be too specific or technical. The generated answer could be improved by providing a more general response or asking for more context.",
       "reference_answer": "The context does not provide information on how to kill a specific serve replica.",
       "score": 4.5,
       "sources": [
        "https://docs.ray.io/en/master/serve/production-guide/fault-tolerance.html#deployment-replica-failure",
        "https://docs.ray.io/en/master/serve/production-guide/fault-tolerance.html#deployment-replica-failure",
        "https://docs.ray.io/en/master/serve/advanced-guides/dev-workflow.html#local-development-with-http-requests",
        "https://docs.ray.io/en/master/serve/api/index.html#delete-api-serve-deployments",
        "https://docs.ray.io/en/master/serve/production-guide/fault-tolerance.html#deployment-replica-failure",
        "https://docs.ray.io/en/master/serve/scaling-and-resource-allocation.html#autoscaling",
        "https://docs.ray.io/en/master/serve/production-guide/fault-tolerance.html#worker-node-failure"
       ],
       "user_content": "how do I kill a specific serve replica"
      },
      "text/plain": [
       "<IPython.core.display.JSON object>"
      ]
     },
     "metadata": {
      "application/json": {
       "expanded": false,
       "root": "root"
      }
     },
     "output_type": "display_data"
    },
    {
     "name": "stderr",
     "output_type": "stream",
     "text": [
      "100%|██████████| 177/177 [24:37<00:00,  8.35s/it]\n"
     ]
    }
   ],
   "source": [
    "for llm in llms:\n",
    "    experiment_name = f\"{llm.split('/')[-1].lower()}\"\n",
    "    experiment_names.append(experiment_name)\n",
    "    run_experiment(\n",
    "        experiment_name=experiment_name, \n",
    "        chunk_size=CHUNK_SIZE, \n",
    "        chunk_overlap=CHUNK_OVERLAP, \n",
    "        num_chunks=NUM_CHUNKS,\n",
    "        embedding_model_name=EMBEDDING_MODEL_NAME,\n",
    "        llm=llm,\n",
    "        evaluator=EVALUATOR,\n",
    "        docs_dir=DOCS_DIR, \n",
    "        experiments_dir=EXPERIMENTS_DIR, \n",
    "        references_fp=REFERENCES_FILE_PATH,\n",
    "        num_samples=NUM_SAMPLES)"
   ]
  },
  {
   "cell_type": "code",
   "execution_count": null,
   "id": "ed3c6d7c-6ee6-40ea-8ae4-97d954cdbfaf",
   "metadata": {
    "tags": []
   },
   "outputs": [],
   "source": [
    "for llm in llms:\n",
    "    experiment_name = f\"{llm.split('/')[-1].lower()}\"\n",
    "    experiment_names.append(experiment_name)"
   ]
  },
  {
   "cell_type": "code",
   "execution_count": null,
   "id": "a8afbfe1-b129-408a-8ce0-8f321c585174",
   "metadata": {
    "tags": []
   },
   "outputs": [
    {
     "name": "stdout",
     "output_type": "stream",
     "text": [
      "gpt-3.5-turbo\n",
      "  retrieval score: 0.6892655367231638\n",
      "  quality score: 3.5508474576271185\n",
      "\n",
      "gpt-4\n",
      "  retrieval score: 0.6892655367231638\n",
      "  quality score: 3.7457627118644066\n",
      "\n",
      "llama-2-7b-chat-hf\n",
      "  retrieval score: 0.6892655367231638\n",
      "  quality score: 2.867231638418079\n",
      "\n",
      "llama-2-13b-chat-hf\n",
      "  retrieval score: 0.6892655367231638\n",
      "  quality score: 3.367231638418079\n",
      "\n",
      "llama-2-70b-chat-hf\n",
      "  retrieval score: 0.6892655367231638\n",
      "  quality score: 3.5847457627118646\n",
      "\n",
      "codellama-34b-instruct-hf\n",
      "  retrieval score: 0.6892655367231638\n",
      "  quality score: 3.6016949152542375\n",
      "\n",
      "mistral-7b-instruct-v0.1\n",
      "  retrieval score: 0.6892655367231638\n",
      "  quality score: 3.4548022598870056\n",
      "\n"
     ]
    }
   ],
   "source": [
    "scores = {}\n",
    "for experiment_name in experiment_names:\n",
    "    scores[experiment_name] = print_experiment(experiment_name, EXPERIMENTS_DIR)"
   ]
  },
  {
   "cell_type": "markdown",
   "id": "9add6de4-bc41-4f94-ba5a-edc3d81309a4",
   "metadata": {
    "tags": []
   },
   "source": [
    "**Sanity check**: the retrieval scores are all the same because the LLM we choose doesn’t impact that part of our application."
   ]
  },
  {
   "cell_type": "markdown",
   "id": "97d1cd68-f77a-4f13-9454-3add1fc65158",
   "metadata": {},
   "source": [
    "`codellama-34b` outperforms our OSS LLMs, as expected since it's `llama-2` that has been further trained on coding datasets. And our use case here often involves queries or contexts related to code. It also outperforms `gpt-3.5-turbo` and quite close to `gpt-4`'s performance."
   ]
  },
  {
   "cell_type": "code",
   "execution_count": null,
   "id": "0275cb71-6876-404a-bdbe-f79347162696",
   "metadata": {
    "tags": []
   },
   "outputs": [],
   "source": [
    "LLM = \"codellama/CodeLlama-34b-Instruct-hf\""
   ]
  },
  {
   "cell_type": "markdown",
   "id": "5ab5aca0-212b-4e82-97af-1ed95130ebc6",
   "metadata": {},
   "source": [
    "**Note**: Some of our LLMs have much larger context lengths, ex. `gpt-4` is 8192 tokens and `gpt-3.5-turbo-16k` is 16,384 tokens. We could increase the number of chunks that we use for these since we saw that increasing `num_chunks` continued to improve the retrieval and quality scores. However, we will keep this value fixed for now since the performance started to taper off anyway and so we can compare these performances under the exact same configurations. "
   ]
  },
  {
   "cell_type": "markdown",
   "id": "16420a7d-445a-48da-a4c1-5238c4061f6e",
   "metadata": {
    "tags": []
   },
   "source": [
    "# Fine-tuning"
   ]
  },
  {
   "cell_type": "markdown",
   "id": "285c9d07-1658-4779-9e13-801c0c77186a",
   "metadata": {},
   "source": [
    "Everything we have explored so far involves optimizing for how our data is preprocessed and using our models (embedding, LLM, etc.) as is. However, it's also worth exploring fine-tuning our models with data unique to our use case. This could help us better represent our data and ultimately increase our retrieval and quality scores. In this section, we're going to fine-tune our embedding model. The intuition here is that it may be worth it to learn a more contextual representation of our tokens than the default embedding models can. This can especially be impactful if we have a lot of:\n",
    "- new tokens that the default tokenization process creates subtokens out of that lose the significance of the token\n",
    "- existing tokens that have contextually different meanings in our use case\n",
    "\n",
    "<img width=\"800\" src=\"https://images.ctfassets.net/xjan103pcp94/4G5324lsDZwq0jES7uBH0l/a715cd50af7061e1b3c57ec3e8038f05/rag-based-llm-applications-finetune-embeddings.png\">\n",
    "\n",
    "\n",
    "**Note**: we won't be exploring fine-tuning our LLM in this section because our previous [experiments](https://www.anyscale.com/blog/fine-tuning-llama-2-a-comprehensive-case-study-for-tailoring-models-to-unique-applications) ([LoRa vs. full parameter](https://www.anyscale.com/blog/fine-tuning-llms-lora-or-full-parameter-an-in-depth-analysis-with-llama-2)) have shown that fine-tuning has helped tremendously with [form not facts](https://www.anyscale.com/blog/fine-tuning-is-for-form-not-facts), which in our case won't help too much (compared to for ex. SQL generation). However, your use cases might benefit from fine-tuning, so be sure to check out our [Anyscale Endpoints fine-tuning](https://www.anyscale.com/endpoints) to easily tune and serve models (fully hosted or private on your cloud)."
   ]
  },
  {
   "cell_type": "markdown",
   "id": "56747523-2ef7-489e-bba3-089a29ca25c5",
   "metadata": {},
   "source": [
    "## Synthetic dataset"
   ]
  },
  {
   "cell_type": "markdown",
   "id": "e3f35bef-5f68-4483-86d9-413ec4d5ea8f",
   "metadata": {},
   "source": [
    "Our first step will be to create a dataset to fine-tune our embedding model on. Our current embedding models have been trained via self-supervised learning (word2vec, GloVe, next/masked token prediction, etc.) and so we will continue fine-tuning with a self-supervised workflow. We're going to reuse a very similar approach as our cold start QA dataset section earlier so that we can map sections in our data to questions. The fine-tuning task here will be for the model to determine which sections in our dataset maps best to the input query. This optimization task will allow our embedding model to learn better representations of tokens in our dataset.\n",
    "\n",
    "**Note**: While we could create a dataset mapping section titles with section text, we are creating a synthetic Q&A dataset because it will be most representative of the types of data we want to learn how to embed."
   ]
  },
  {
   "cell_type": "markdown",
   "id": "5bb8c5c1-3bab-4539-9b79-cb9931a57c15",
   "metadata": {},
   "source": [
    "Our prompt is going to be a bit different because we want to generate a variety of different questions and we're going to use `llama-70b` here so that we can scale this QA generation process (and avoid any rate limits). To be thorough, we're going to generate one question from every section in our dataset so that we can try to capture as many unique tokens as possible."
   ]
  },
  {
   "cell_type": "code",
   "execution_count": null,
   "id": "4de030ee-22bc-45ba-a6ad-2f82f6e04434",
   "metadata": {
    "tags": []
   },
   "outputs": [],
   "source": [
    "system_content = f\"\"\"\n",
    "Create one question using only the context provided starting with \"What\", \"How\" or \"Why\".\n",
    "Only respond with the question, don't say anything else (unecessary starting words, hints, etc.)\n",
    "\"\"\""
   ]
  },
  {
   "cell_type": "code",
   "execution_count": null,
   "id": "0224a7ef-25ab-4d81-a6e8-a1532822e0d7",
   "metadata": {
    "tags": []
   },
   "outputs": [
    {
     "name": "stderr",
     "output_type": "stream",
     "text": [
      "100%|██████████| 5727/5727 [2:45:43<00:00,  1.74s/it]  \n"
     ]
    },
    {
     "data": {
      "text/plain": [
       "5727"
      ]
     },
     "execution_count": null,
     "metadata": {},
     "output_type": "execute_result"
    }
   ],
   "source": [
    "# Generate questions\n",
    "embedding_qa = []\n",
    "sections = sections_ds.take_all()\n",
    "max_context_length = int(0.5*MAX_CONTEXT_LENGTHS[LLM]-get_num_tokens(system_content))\n",
    "for section in tqdm(sections):\n",
    "    user_content = trim(\n",
    "        text=f\"context: {section['text']}\", \n",
    "        max_context_length=max_context_length)\n",
    "    response = generate_response(\n",
    "        llm=\"meta-llama/Llama-2-70b-chat-hf\",\n",
    "        temperature=0.0,\n",
    "        stream=False,\n",
    "        system_content=system_content,\n",
    "        user_content=user_content,\n",
    "        max_retries=1)\n",
    "    if response:\n",
    "        embedding_qa.append({\"question\": response, \"source\": section[\"source\"]})\n",
    "print (len(embedding_qa))"
   ]
  },
  {
   "cell_type": "code",
   "execution_count": null,
   "id": "65ed5a1c-a55f-426d-a839-04385bd9268d",
   "metadata": {
    "tags": []
   },
   "outputs": [],
   "source": [
    "# Path\n",
    "EMBEDDING_QA_FILE_PATH = Path(ROOT_DIR, \"datasets\", \"embedding_qa.json\")\n",
    "EMBEDDING_QA_FILE_PATH.parent.mkdir(parents=True, exist_ok=True)"
   ]
  },
  {
   "cell_type": "code",
   "execution_count": null,
   "id": "98298e4e-b681-45eb-8ea4-37d66cdf8685",
   "metadata": {
    "tags": []
   },
   "outputs": [],
   "source": [
    "# Save to file\n",
    "with open(EMBEDDING_QA_FILE_PATH, \"w\") as fp:\n",
    "    json.dump(embedding_qa, fp, indent=4)"
   ]
  },
  {
   "cell_type": "markdown",
   "id": "62ecc4c4-79da-4b9c-a9c3-7cdfb53615c3",
   "metadata": {},
   "source": [
    "## Training data"
   ]
  },
  {
   "cell_type": "markdown",
   "id": "3826c940-a40b-42ea-a50e-0297c78b6929",
   "metadata": {},
   "source": [
    "We're now going to split our dataset into training and validation splits."
   ]
  },
  {
   "cell_type": "code",
   "execution_count": null,
   "id": "2c4a7e67-6f17-4607-ae27-ab3253c7ae33",
   "metadata": {
    "tags": []
   },
   "outputs": [],
   "source": [
    "from sentence_transformers import InputExample"
   ]
  },
  {
   "cell_type": "code",
   "execution_count": null,
   "id": "ba0b81ee-20eb-4721-af49-64544c36dc26",
   "metadata": {
    "tags": []
   },
   "outputs": [],
   "source": [
    "# Load from file\n",
    "with open(EMBEDDING_QA_FILE_PATH, \"r\") as fp:\n",
    "    embedding_qa = json.load(fp)"
   ]
  },
  {
   "cell_type": "code",
   "execution_count": null,
   "id": "c7fadbbf-28ba-4fcc-baa2-e9df78af3c67",
   "metadata": {
    "tags": []
   },
   "outputs": [],
   "source": [
    "# Split counts\n",
    "num_train_samples = int(len(embedding_qa)*0.8)\n",
    "emb_qa_train = embedding_qa[:num_train_samples]\n",
    "emb_qa_val = embedding_qa[num_train_samples:]"
   ]
  },
  {
   "cell_type": "code",
   "execution_count": null,
   "id": "a4c6cad8-8859-4710-a01f-8aff5e8b923b",
   "metadata": {
    "tags": []
   },
   "outputs": [
    {
     "name": "stderr",
     "output_type": "stream",
     "text": [
      " 62%|██████▏   | 2826/4581 [02:18<01:00, 28.79it/s]"
     ]
    },
    {
     "name": "stdout",
     "output_type": "stream",
     "text": [
      "\u001b[2m\u001b[1m\u001b[36m(autoscaler +3m42s)\u001b[0m Tip: use `ray status` to view detailed cluster status. To disable these messages, set RAY_SCHEDULER_EVENTS=0.\n"
     ]
    },
    {
     "name": "stderr",
     "output_type": "stream",
     "text": [
      "100%|██████████| 4581/4581 [03:37<00:00, 21.09it/s]\n"
     ]
    }
   ],
   "source": [
    "# Training dataset\n",
    "train_dataset = []\n",
    "for item in tqdm(emb_qa_train):\n",
    "    query = item[\"question\"]\n",
    "    source_text = fetch_text(item[\"source\"])\n",
    "    example = InputExample(texts=[query, source_text])\n",
    "    train_dataset.append(example)"
   ]
  },
  {
   "cell_type": "markdown",
   "id": "cfebe1c5-8a76-41df-9c16-aa9757e8e553",
   "metadata": {},
   "source": [
    "## Validation"
   ]
  },
  {
   "cell_type": "markdown",
   "id": "4cf33abf-6031-4829-8121-8dbde6b84570",
   "metadata": {},
   "source": [
    "Our validation evaluation criteria involves an information retrieval (IR) evaluator that will retrieve the top k similar documents from the corpus for each query. The [InformationRetrievalEvaluator](https://www.sbert.net/docs/package_reference/evaluation.html#sentence_transformers.evaluation.InformationRetrievalEvaluator) requires the following inputs:\n",
    "\n",
    "- queries: `Dict[str, str]`  #  qid => query\n",
    "- corpus: `Dict[str, str]`  #  cid => doc\n",
    "- relevant_docs: `Dict[str, Set[str]]`  #  qid => Set[cid]\n",
    "\n",
    "**Note**: While our dataset may have multiple valid sections for a particular query, we will treat all other sections besides the one used to generate the query, as negative samples. This isn't an ideal scenario but the noise introduced is minimal, especially since we are using this to tune a representation layer (and not for a classification task)."
   ]
  },
  {
   "cell_type": "code",
   "execution_count": null,
   "id": "fccb9bc9-bd51-4289-9576-c822a7d85ca6",
   "metadata": {
    "tags": []
   },
   "outputs": [],
   "source": [
    "from sentence_transformers.evaluation import InformationRetrievalEvaluator"
   ]
  },
  {
   "cell_type": "code",
   "execution_count": null,
   "id": "678540b5-4f1c-441b-8a64-fb1860fd6c55",
   "metadata": {
    "tags": []
   },
   "outputs": [
    {
     "name": "stderr",
     "output_type": "stream",
     "text": [
      "100%|██████████| 1146/1146 [01:29<00:00, 12.79it/s]\n"
     ]
    }
   ],
   "source": [
    "# Validation dataset\n",
    "queries, corpus, relevant_docs = {}, {}, {}\n",
    "for i, item in tqdm(enumerate(emb_qa_val), total=len(emb_qa_val)):\n",
    "    queries[f\"qid_{i}\"] = item[\"question\"]\n",
    "    corpus[f\"cid_{i}\"] = fetch_text(item[\"source\"])\n",
    "    relevant_docs[f\"qid_{i}\"] = set([f\"cid_{i}\"])\n",
    "evaluator = InformationRetrievalEvaluator(queries, corpus, relevant_docs)"
   ]
  },
  {
   "cell_type": "markdown",
   "id": "57a1d156-c6b6-4488-afd7-ec7fe6add16b",
   "metadata": {
    "tags": []
   },
   "source": [
    "## Embedding model"
   ]
  },
  {
   "cell_type": "markdown",
   "id": "dfcf2c7d-20b0-4363-b8e5-a0b314a9c95f",
   "metadata": {},
   "source": [
    "Now we're ready to initialize our embedding model for fine-tuning."
   ]
  },
  {
   "cell_type": "code",
   "execution_count": null,
   "id": "0141b57e-72e7-42f4-8ab9-9ebd1c401de2",
   "metadata": {
    "tags": []
   },
   "outputs": [],
   "source": [
    "from sentence_transformers import SentenceTransformer"
   ]
  },
  {
   "cell_type": "code",
   "execution_count": null,
   "id": "3291d4e9-aed7-44f3-9742-6270682e9025",
   "metadata": {
    "tags": []
   },
   "outputs": [
    {
     "data": {
      "text/plain": [
       "SentenceTransformer(\n",
       "  (0): Transformer({'max_seq_length': 512, 'do_lower_case': False}) with Transformer model: BertModel \n",
       "  (1): Pooling({'word_embedding_dimension': 1024, 'pooling_mode_cls_token': False, 'pooling_mode_mean_tokens': True, 'pooling_mode_max_tokens': False, 'pooling_mode_mean_sqrt_len_tokens': False})\n",
       "  (2): Normalize()\n",
       ")"
      ]
     },
     "execution_count": null,
     "metadata": {},
     "output_type": "execute_result"
    }
   ],
   "source": [
    "embedding_model = SentenceTransformer(EMBEDDING_MODEL_NAME)\n",
    "embedding_model"
   ]
  },
  {
   "cell_type": "markdown",
   "id": "4a64dc32-6dbc-4f1e-b950-d4ffa797912c",
   "metadata": {
    "tags": []
   },
   "source": [
    "## Resize Tokenizer"
   ]
  },
  {
   "cell_type": "markdown",
   "id": "871a9c3a-c60f-4ff0-9d1a-3025fdad56be",
   "metadata": {},
   "source": [
    "While our tokenizer can represent new subtokens that are part of the vocabulary, it might be very helpful to explicitly add new tokens to our base model (BertModel) in our cast to our transformer. And then we can use [resize_token_embeddings](https://huggingface.co/docs/transformers/main_classes/model#transformers.PreTrainedModel.resize_token_embeddings) to adjust the model's embedding layer prior to fine-tuning. This can be very useful for contextual use cases, especially if many tokens are new or existing tokens have a very different meaning in our context."
   ]
  },
  {
   "cell_type": "code",
   "execution_count": null,
   "id": "fb431961-ee8f-46ca-9325-96eca41d0da0",
   "metadata": {
    "tags": []
   },
   "outputs": [],
   "source": [
    "import re"
   ]
  },
  {
   "cell_type": "code",
   "execution_count": null,
   "id": "806dbfcf-bb69-4d38-9fc6-afa6c3f62694",
   "metadata": {
    "tags": []
   },
   "outputs": [],
   "source": [
    "def get_unique_words(texts):\n",
    "    all_text = \" \".join(texts)  # join all texts\n",
    "    all_text = all_text.replace(\"_\", \" \")  # replace underscores (ex. variable names)\n",
    "    words = re.findall(r'\\b[a-zA-Z]+\\b', all_text)  # only letters\n",
    "    words = [word.lower() for word in words]  # lower\n",
    "    return set(words)"
   ]
  },
  {
   "cell_type": "code",
   "execution_count": null,
   "id": "f85c5818-3526-4171-b4f8-4e529b81cc9b",
   "metadata": {
    "tags": []
   },
   "outputs": [
    {
     "name": "stderr",
     "output_type": "stream",
     "text": [
      "100%|██████████| 11204/11204 [00:00<00:00, 1815592.55it/s]\n"
     ]
    }
   ],
   "source": [
    "# Get tokens that are OOV (out of vocabulary)\n",
    "new_words = []\n",
    "vocab = embedding_model.tokenizer.get_vocab().keys()\n",
    "texts = [section[\"text\"] for section in sections_ds.take_all()]\n",
    "unique_words = get_unique_words(texts=texts)\n",
    "for word in tqdm(unique_words):\n",
    "    if word not in vocab:\n",
    "        new_words.append(word)"
   ]
  },
  {
   "cell_type": "code",
   "execution_count": null,
   "id": "a0ee4cfe-7989-4957-9fbe-6fd1360ab504",
   "metadata": {
    "tags": []
   },
   "outputs": [
    {
     "name": "stdout",
     "output_type": "stream",
     "text": [
      "5790\n",
      "['dilation', 'azurealiyunvsphere', 'rlmoduleconfig', 'multipledispatch', 'specifying', 'pycaret', 'duelingqmodel', 'callable', 'autoscaling', 'iterators']\n"
     ]
    }
   ],
   "source": [
    "# Inspect\n",
    "print (len(new_words))\n",
    "print (new_words[:10])"
   ]
  },
  {
   "cell_type": "code",
   "execution_count": null,
   "id": "30fc2d0c-1ecd-499f-aa06-918464a45b1e",
   "metadata": {
    "tags": []
   },
   "outputs": [
    {
     "name": "stdout",
     "output_type": "stream",
     "text": [
      "30522\n",
      "36312\n"
     ]
    }
   ],
   "source": [
    "# Add new words to tokenizer\n",
    "print (len(embedding_model.tokenizer))\n",
    "embedding_model.tokenizer.add_tokens(new_words)\n",
    "print (len(embedding_model.tokenizer))"
   ]
  },
  {
   "cell_type": "code",
   "execution_count": null,
   "id": "97dd942a-74d2-4650-a87a-f102b75ed206",
   "metadata": {
    "tags": []
   },
   "outputs": [
    {
     "name": "stdout",
     "output_type": "stream",
     "text": [
      "Embedding(30522, 1024, padding_idx=0)\n",
      "Embedding(36312, 1024, padding_idx=0)\n"
     ]
    }
   ],
   "source": [
    "# Resize tokenizer\n",
    "print (embedding_model._modules[\"0\"]._modules[\"auto_model\"]._modules[\"embeddings\"]._modules[\"word_embeddings\"])\n",
    "embedding_model._modules[\"0\"]._modules[\"auto_model\"].resize_token_embeddings(len(embedding_model.tokenizer))\n",
    "embedding_model._modules[\"0\"]._modules[\"auto_model\"]._modules[\"embeddings\"]._modules[\"word_embeddings\"].padding_idx = 0\n",
    "print (embedding_model._modules[\"0\"]._modules[\"auto_model\"]._modules[\"embeddings\"]._modules[\"word_embeddings\"])"
   ]
  },
  {
   "cell_type": "markdown",
   "id": "cf482bee-b507-4166-bf53-60a50984c5d0",
   "metadata": {},
   "source": [
    "## Fine-tuning options"
   ]
  },
  {
   "cell_type": "markdown",
   "id": "3e0f8ada-a80d-480a-be2f-90a54e4a2f37",
   "metadata": {},
   "source": [
    "There are many different ways to fine-tune our embedding model. We can tune either:\n",
    "- the entire model (full parameter), including the embedding layer and all subsequent encoder layers (attention, etc.)\n",
    "- only the embedding layer (as we're trying to better represent our unique subtokens)\n",
    "\n",
    "But regardless of our fine-tuning approach, we'll be using [MultipleNegativesRankingLoss](https://www.sbert.net/docs/package_reference/losses.html#multiplenegativesrankingloss) as our loss function. It will use the data points (`InputExample(texts=[query, source_text])` in our training data as positive pairs and all other combinations as negative pairs. And the objective will be to increase the cosine similarity (default `similarity_fct`) for our positive pair and decrease it for the other pairs."
   ]
  },
  {
   "cell_type": "code",
   "execution_count": null,
   "id": "9810f112-b3f5-4767-ba8b-d4b556b51db8",
   "metadata": {
    "tags": []
   },
   "outputs": [],
   "source": [
    "# Custom callback to view validation performance\n",
    "def val_callback(score, epoch, steps):\n",
    "    print (f\"EPOCH: {epoch}, VAL SCORE:{score:.4f}\\n\")"
   ]
  },
  {
   "cell_type": "markdown",
   "id": "2c4da2aa-b618-4581-8e06-c36ed819da55",
   "metadata": {},
   "source": [
    "### Full parameter"
   ]
  },
  {
   "cell_type": "markdown",
   "id": "e47066d0-e7e2-47d8-8e55-6f295ece02a0",
   "metadata": {},
   "source": [
    "Our full parameter fine-tuning approach will tune all of the following weights:"
   ]
  },
  {
   "cell_type": "code",
   "execution_count": null,
   "id": "aaa5da86-626c-4387-9a83-c73e7c51419d",
   "metadata": {
    "tags": []
   },
   "outputs": [
    {
     "data": {
      "text/plain": [
       "OrderedDict([('auto_model',\n",
       "              BertModel(\n",
       "                (embeddings): BertEmbeddings(\n",
       "                  (word_embeddings): Embedding(30522, 1024, padding_idx=0)\n",
       "                  (position_embeddings): Embedding(512, 1024)\n",
       "                  (token_type_embeddings): Embedding(2, 1024)\n",
       "                  (LayerNorm): LayerNorm((1024,), eps=1e-12, elementwise_affine=True)\n",
       "                  (dropout): Dropout(p=0.1, inplace=False)\n",
       "                )\n",
       "                (encoder): BertEncoder(\n",
       "                  (layer): ModuleList(\n",
       "                    (0-23): 24 x BertLayer(\n",
       "                      (attention): BertAttention(\n",
       "                        (self): BertSelfAttention(\n",
       "                          (query): Linear(in_features=1024, out_features=1024, bias=True)\n",
       "                          (key): Linear(in_features=1024, out_features=1024, bias=True)\n",
       "                          (value): Linear(in_features=1024, out_features=1024, bias=True)\n",
       "                          (dropout): Dropout(p=0.1, inplace=False)\n",
       "                        )\n",
       "                        (output): BertSelfOutput(\n",
       "                          (dense): Linear(in_features=1024, out_features=1024, bias=True)\n",
       "                          (LayerNorm): LayerNorm((1024,), eps=1e-12, elementwise_affine=True)\n",
       "                          (dropout): Dropout(p=0.1, inplace=False)\n",
       "                        )\n",
       "                      )\n",
       "                      (intermediate): BertIntermediate(\n",
       "                        (dense): Linear(in_features=1024, out_features=4096, bias=True)\n",
       "                        (intermediate_act_fn): GELUActivation()\n",
       "                      )\n",
       "                      (output): BertOutput(\n",
       "                        (dense): Linear(in_features=4096, out_features=1024, bias=True)\n",
       "                        (LayerNorm): LayerNorm((1024,), eps=1e-12, elementwise_affine=True)\n",
       "                        (dropout): Dropout(p=0.1, inplace=False)\n",
       "                      )\n",
       "                    )\n",
       "                  )\n",
       "                )\n",
       "                (pooler): BertPooler(\n",
       "                  (dense): Linear(in_features=1024, out_features=1024, bias=True)\n",
       "                  (activation): Tanh()\n",
       "                )\n",
       "              ))])"
      ]
     },
     "execution_count": null,
     "metadata": {},
     "output_type": "execute_result"
    }
   ],
   "source": [
    "embedding_model._modules[\"0\"]._modules"
   ]
  },
  {
   "cell_type": "code",
   "execution_count": null,
   "id": "ea3b63f0-428b-4642-a0db-6e23939db67f",
   "metadata": {},
   "outputs": [],
   "source": [
    "from sentence_transformers.losses import MultipleNegativesRankingLoss\n",
    "from torch.utils.data import DataLoader"
   ]
  },
  {
   "cell_type": "code",
   "execution_count": null,
   "id": "dcdcf10f-71cd-4502-bd6d-d979e01691a9",
   "metadata": {
    "tags": []
   },
   "outputs": [],
   "source": [
    "# Training setup\n",
    "num_epochs = 2\n",
    "batch_size = 4\n",
    "train_dataloader = DataLoader(train_dataset, batch_size=batch_size)\n",
    "loss = MultipleNegativesRankingLoss(embedding_model) # MNR Loss\n",
    "warmup_steps = int(0.1 * num_epochs * len(train_dataloader))  # not used"
   ]
  },
  {
   "cell_type": "code",
   "execution_count": null,
   "id": "ecb202a6-d8ac-47d6-a505-7f6ed74d4d44",
   "metadata": {
    "tags": []
   },
   "outputs": [
    {
     "data": {
      "application/vnd.jupyter.widget-view+json": {
       "model_id": "f07b56dcc4f1495c8baaf8861d08cd2e",
       "version_major": 2,
       "version_minor": 0
      },
      "text/plain": [
       "Epoch:   0%|          | 0/2 [00:00<?, ?it/s]"
      ]
     },
     "metadata": {},
     "output_type": "display_data"
    },
    {
     "data": {
      "application/vnd.jupyter.widget-view+json": {
       "model_id": "2f8a3c918c284c5594e7792f8646b9bb",
       "version_major": 2,
       "version_minor": 0
      },
      "text/plain": [
       "Iteration:   0%|          | 0/1146 [00:00<?, ?it/s]"
      ]
     },
     "metadata": {},
     "output_type": "display_data"
    },
    {
     "name": "stdout",
     "output_type": "stream",
     "text": [
      "EPOCH: 0, VAL SCORE:0.5271\n",
      "\n"
     ]
    },
    {
     "data": {
      "application/vnd.jupyter.widget-view+json": {
       "model_id": "567fb322981b42e981c3e501a2f3ffa4",
       "version_major": 2,
       "version_minor": 0
      },
      "text/plain": [
       "Iteration:   0%|          | 0/1146 [00:00<?, ?it/s]"
      ]
     },
     "metadata": {},
     "output_type": "display_data"
    },
    {
     "name": "stdout",
     "output_type": "stream",
     "text": [
      "EPOCH: 1, VAL SCORE:0.5276\n",
      "\n"
     ]
    }
   ],
   "source": [
    "# Train\n",
    "experiment_name = \"gte-large-fine-tuned-fp\"\n",
    "gte_large_ft_path = str(Path(EFS_DIR, experiment_name))\n",
    "embedding_model.fit(\n",
    "    train_objectives=[(train_dataloader, loss)],\n",
    "    epochs=num_epochs,\n",
    "    warmup_steps=0,\n",
    "    optimizer_params={\"lr\": 1e-8},\n",
    "    weight_decay=0,\n",
    "    output_path=gte_large_ft_path,\n",
    "    show_progress_bar=True,\n",
    "    evaluator=evaluator,\n",
    "    callback=val_callback)"
   ]
  },
  {
   "cell_type": "code",
   "execution_count": null,
   "id": "df298a82-42ba-413c-bc7e-3b8050bf1c3e",
   "metadata": {
    "tags": []
   },
   "outputs": [],
   "source": [
    "# Clean up\n",
    "import gc\n",
    "import torch\n",
    "del embedding_model, loss\n",
    "gc.collect()\n",
    "torch.cuda.empty_cache()"
   ]
  },
  {
   "cell_type": "markdown",
   "id": "660c77bf-23a6-4690-b7b4-17dda0532cde",
   "metadata": {},
   "source": [
    "Now we're ready to actually apply this fine-tuned embedding model on our test evaluation dataset. We can simply pass in our model artifact directory for the `embedding_model_name` because [HuggingFaceEmbeddings](https://api.python.langchain.com/en/latest/embeddings/langchain.embeddings.huggingface.HuggingFaceEmbeddings.html) accepts a string that can be either a directory or the model's name. If a directory matches with the input string, then it will load the model from that location first before trying to search on HF's hub."
   ]
  },
  {
   "cell_type": "code",
   "execution_count": null,
   "id": "2fecbe01-3b88-4124-9128-1fa0a04ec2cb",
   "metadata": {
    "tags": []
   },
   "outputs": [
    {
     "data": {
      "application/json": {
       "generated_answer": "To kill a specific Serve replica, you can use the `ray.kill()` function with the replica handle. In the provided context, the code snippet `ray.kill(replica_handle, no_restart=True)` is used to kill the replica with the handle `replica_handle`. The `no_restart=True` argument ensures that the replica is not restarted.",
       "question": "how do I kill a specific serve replica",
       "reasoning": "The generated answer provides a detailed and technical response on how to kill a specific serve replica, which is helpful and informative. However, the reference answer suggests that the context does not provide enough information to answer the question, which indicates a possible mismatch. The generated answer seems to assume knowledge of the Ray framework, which may not be applicable in all contexts.",
       "reference_answer": "The context does not provide information on how to kill a specific serve replica.",
       "score": 4.5,
       "sources": [
        "https://docs.ray.io/en/master/serve/production-guide/fault-tolerance.html#deployment-replica-failure",
        "https://docs.ray.io/en/master/serve/advanced-guides/dev-workflow.html#local-development-with-http-requests",
        "https://docs.ray.io/en/master/serve/api/index.html#delete-api-serve-deployments",
        "https://docs.ray.io/en/master/serve/production-guide/fault-tolerance.html#deployment-replica-failure",
        "https://docs.ray.io/en/master/serve/production-guide/fault-tolerance.html#serve-controller-failure",
        "https://docs.ray.io/en/master/serve/scaling-and-resource-allocation.html#autoscaling",
        "https://docs.ray.io/en/master/serve/advanced-guides/dev-workflow.html#local-development-with-http-requests"
       ]
      },
      "text/plain": [
       "<IPython.core.display.JSON object>"
      ]
     },
     "metadata": {
      "application/json": {
       "expanded": false,
       "root": "root"
      }
     },
     "output_type": "display_data"
    },
    {
     "name": "stderr",
     "output_type": "stream",
     "text": [
      "100%|██████████| 177/177 [14:35<00:00,  4.95s/it]\n"
     ]
    }
   ],
   "source": [
    "sql_dump_fp = Path(EFS_DIR, \"sql_dumps\", f\"{experiment_name}_{CHUNK_SIZE}_{CHUNK_OVERLAP}.sql\")\n",
    "run_experiment(\n",
    "    experiment_name=experiment_name, \n",
    "    chunk_size=CHUNK_SIZE, \n",
    "    chunk_overlap=CHUNK_OVERLAP, \n",
    "    num_chunks=NUM_CHUNKS,\n",
    "    embedding_model_name=EMBEDDING_MODEL_NAME,\n",
    "    llm=llm,  # use same llm as we did for embedding model experiments\n",
    "    evaluator=EVALUATOR,\n",
    "    docs_dir=DOCS_DIR, \n",
    "    experiments_dir=EXPERIMENTS_DIR, \n",
    "    references_fp=REFERENCES_FILE_PATH,\n",
    "    num_samples=NUM_SAMPLES,\n",
    "    sql_dump_fp=sql_dump_fp)"
   ]
  },
  {
   "cell_type": "code",
   "execution_count": null,
   "id": "271f0c48-1962-4ef8-adaf-ce0fe9dc4525",
   "metadata": {
    "tags": []
   },
   "outputs": [],
   "source": [
    "embedding_model_names.append(experiment_name)\n",
    "experiment_names = []\n",
    "for embedding_model_name in embedding_model_names:\n",
    "    experiment_names.append(f\"{embedding_model_name.split('/')[-1]}\")"
   ]
  },
  {
   "cell_type": "code",
   "execution_count": null,
   "id": "3b4a3565-264c-4047-9cee-37dbc27ace8d",
   "metadata": {
    "tags": []
   },
   "outputs": [
    {
     "name": "stdout",
     "output_type": "stream",
     "text": [
      "gte-base\n",
      "  retrieval score: 0.6214689265536724\n",
      "  quality score: 3.57909604519774\n",
      "\n",
      "gte-large\n",
      "  retrieval score: 0.6892655367231638\n",
      "  quality score: 3.5847457627118646\n",
      "\n",
      "bge-large-en\n",
      "  retrieval score: 0.4406779661016949\n",
      "  quality score: 3.3446327683615817\n",
      "\n",
      "text-embedding-ada-002\n",
      "  retrieval score: 0.5988700564971752\n",
      "  quality score: 3.5112994350282487\n",
      "\n",
      "gte-large-fine-tuned-fp\n",
      "  retrieval score: 0.6892655367231638\n",
      "  quality score: 3.536723163841808\n",
      "\n"
     ]
    },
    {
     "data": {
      "image/png": "[encoded data removed]",
      "text/plain": [
       "<Figure size 1000x300 with 1 Axes>"
      ]
     },
     "metadata": {},
     "output_type": "display_data"
    }
   ],
   "source": [
    "scores = {}\n",
    "for experiment_name in experiment_names:\n",
    "    scores[experiment_name] = print_experiment(experiment_name, EXPERIMENTS_DIR)\n",
    "plot_scores(scores=scores)"
   ]
  },
  {
   "cell_type": "markdown",
   "id": "77dcce5c-953f-4dca-a589-862bb476e98f",
   "metadata": {},
   "source": [
    "This didn't really improve our overall application's retrieval or quality score. This doesn't necessarily mean that fine-tuning is not useful but might not always be worth the effort.\n",
    "- synthetic data is not exactly like the types of questions that users ask (might be worth creating a dataset of more realistic queries or prompt tuning for more synthetic data that is more representative of user queries).\n",
    "- fine-tuning the entire embedding model on our small embedding dataset might be causing **overfitting**.\n",
    "- our experiment's evaluation is on a small dataset so slightly tuning embeddings via MNR may not increase retrieval recall much/if at all."
   ]
  },
  {
   "cell_type": "markdown",
   "id": "baad7054-5af6-4f4b-8257-af9f9172bd26",
   "metadata": {},
   "source": [
    "### Embedding layer"
   ]
  },
  {
   "cell_type": "markdown",
   "id": "ca2b2107-a086-4b48-86a6-94728ddbd822",
   "metadata": {},
   "source": [
    "To help mitigate the overfitting, we can avoid retraining the entire embedding model and freeze all layers except for the embedding layer (word/subtoken embedding only, not the positional or token type layers)."
   ]
  },
  {
   "cell_type": "code",
   "execution_count": null,
   "id": "95b5566c-f5de-4d26-854c-4a4cde38b695",
   "metadata": {
    "tags": []
   },
   "outputs": [
    {
     "data": {
      "text/plain": [
       "BertEmbeddings(\n",
       "  (word_embeddings): Embedding(30522, 1024, padding_idx=0)\n",
       "  (position_embeddings): Embedding(512, 1024)\n",
       "  (token_type_embeddings): Embedding(2, 1024)\n",
       "  (LayerNorm): LayerNorm((1024,), eps=1e-12, elementwise_affine=True)\n",
       "  (dropout): Dropout(p=0.1, inplace=False)\n",
       ")"
      ]
     },
     "execution_count": null,
     "metadata": {},
     "output_type": "execute_result"
    }
   ],
   "source": [
    "embedding_model._modules[\"0\"]._modules[\"auto_model\"]._modules[\"embeddings\"]"
   ]
  },
  {
   "cell_type": "code",
   "execution_count": null,
   "id": "e4ae9f3b-366e-42de-9ad7-32510df31770",
   "metadata": {
    "tags": []
   },
   "outputs": [],
   "source": [
    "import torch\n",
    "import torch.nn as nn"
   ]
  },
  {
   "cell_type": "code",
   "execution_count": null,
   "id": "11850eaa-3d93-496a-b74a-fffa5c390db0",
   "metadata": {
    "tags": []
   },
   "outputs": [],
   "source": [
    "# Clean up\n",
    "import gc\n",
    "import torch\n",
    "del embedding_model, loss\n",
    "gc.collect()\n",
    "torch.cuda.empty_cache()"
   ]
  },
  {
   "cell_type": "code",
   "execution_count": null,
   "id": "9d7fa520-2bf1-4f42-a008-359047913d42",
   "metadata": {
    "tags": []
   },
   "outputs": [
    {
     "data": {
      "text/plain": [
       "SentenceTransformer(\n",
       "  (0): Transformer({'max_seq_length': 512, 'do_lower_case': False}) with Transformer model: BertModel \n",
       "  (1): Pooling({'word_embedding_dimension': 1024, 'pooling_mode_cls_token': False, 'pooling_mode_mean_tokens': True, 'pooling_mode_max_tokens': False, 'pooling_mode_mean_sqrt_len_tokens': False})\n",
       "  (2): Normalize()\n",
       ")"
      ]
     },
     "execution_count": null,
     "metadata": {},
     "output_type": "execute_result"
    }
   ],
   "source": [
    "# Reinitialize base embedding model\n",
    "embedding_model = SentenceTransformer(EMBEDDING_MODEL_NAME)\n",
    "embedding_model"
   ]
  },
  {
   "cell_type": "code",
   "execution_count": null,
   "id": "6b03f5ed-b938-47d0-95fb-67ee08aaa324",
   "metadata": {
    "tags": []
   },
   "outputs": [],
   "source": [
    "# Unfreeze embedding layers\n",
    "for param in embedding_model._modules[\"0\"]._modules[\"auto_model\"]._modules[\"embeddings\"].parameters():\n",
    "    param.requires_grad = True"
   ]
  },
  {
   "cell_type": "code",
   "execution_count": null,
   "id": "b6157d3d-103e-4287-bf70-cca745e797bb",
   "metadata": {
    "tags": []
   },
   "outputs": [],
   "source": [
    "# Freeze Bert encoder layers\n",
    "for param in embedding_model._modules[\"0\"]._modules[\"auto_model\"]._modules[\"encoder\"].parameters():\n",
    "    param.requires_grad = False"
   ]
  },
  {
   "cell_type": "code",
   "execution_count": null,
   "id": "9506f22c-f192-4384-83db-0aa108494f7b",
   "metadata": {
    "tags": []
   },
   "outputs": [],
   "source": [
    "# Training setup\n",
    "num_epochs = 2\n",
    "batch_size = 4\n",
    "train_dataloader = DataLoader(train_dataset, batch_size=batch_size)\n",
    "loss = MultipleNegativesRankingLoss(embedding_model)\n",
    "warmup_steps = int(0.1 * num_epochs * len(train_dataloader))  # not used"
   ]
  },
  {
   "cell_type": "code",
   "execution_count": null,
   "id": "ff787441-13fc-4d18-8eca-d76f691f0940",
   "metadata": {
    "tags": []
   },
   "outputs": [
    {
     "data": {
      "application/vnd.jupyter.widget-view+json": {
       "model_id": "d0d6f8b2907646d4b82b9ef2d84336fe",
       "version_major": 2,
       "version_minor": 0
      },
      "text/plain": [
       "Epoch:   0%|          | 0/2 [00:00<?, ?it/s]"
      ]
     },
     "metadata": {},
     "output_type": "display_data"
    },
    {
     "data": {
      "application/vnd.jupyter.widget-view+json": {
       "model_id": "2d329a599740443d8e227c0c2825c99e",
       "version_major": 2,
       "version_minor": 0
      },
      "text/plain": [
       "Iteration:   0%|          | 0/1146 [00:00<?, ?it/s]"
      ]
     },
     "metadata": {},
     "output_type": "display_data"
    },
    {
     "name": "stdout",
     "output_type": "stream",
     "text": [
      "EPOCH: 0, VAL SCORE:0.7982\n",
      "\n"
     ]
    },
    {
     "data": {
      "application/vnd.jupyter.widget-view+json": {
       "model_id": "dd9f487eec234dd0a571cc2296917648",
       "version_major": 2,
       "version_minor": 0
      },
      "text/plain": [
       "Iteration:   0%|          | 0/1146 [00:00<?, ?it/s]"
      ]
     },
     "metadata": {},
     "output_type": "display_data"
    },
    {
     "name": "stdout",
     "output_type": "stream",
     "text": [
      "EPOCH: 1, VAL SCORE:0.7973\n",
      "\n"
     ]
    }
   ],
   "source": [
    "# Train\n",
    "experiment_name = \"gte-large-fine-tuned-el\"\n",
    "gte_large_ft_path = str(Path(EFS_DIR, experiment_name))\n",
    "embedding_model.fit(\n",
    "    train_objectives=[(train_dataloader, loss)],\n",
    "    epochs=num_epochs,\n",
    "    warmup_steps=0,\n",
    "    optimizer_params={\"lr\": 1e-5},\n",
    "    weight_decay=0,\n",
    "    output_path=gte_large_ft_path,\n",
    "    show_progress_bar=True,\n",
    "    evaluator=evaluator,\n",
    "    callback=val_callback)"
   ]
  },
  {
   "cell_type": "code",
   "execution_count": null,
   "id": "15778bc3-8ff0-409e-8396-fc2acb6d7e9b",
   "metadata": {
    "tags": []
   },
   "outputs": [
    {
     "data": {
      "application/json": {
       "generated_answer": "To kill a specific Serve replica, you can use the `ray.kill()` function with the replica handle. In the provided context, the code snippet `ray.kill(replica_handle, no_restart=True)` is used to kill the replica with the handle `replica_handle`. The `no_restart=True` argument ensures that the replica is not restarted.",
       "question": "how do I kill a specific serve replica",
       "reasoning": "The generated answer provides a detailed and technical response on how to kill a specific Serve replica, which is relevant to the query. However, it contradicts the reference answer which states that the context does not provide enough information. The generated answer seems to assume some knowledge about the context which is not provided in the question or reference answer.",
       "reference_answer": "The context does not provide information on how to kill a specific serve replica.",
       "score": 4,
       "sources": [
        "https://docs.ray.io/en/master/serve/production-guide/fault-tolerance.html#deployment-replica-failure",
        "https://docs.ray.io/en/master/serve/advanced-guides/dev-workflow.html#local-development-with-http-requests",
        "https://docs.ray.io/en/master/serve/api/index.html#delete-api-serve-deployments",
        "https://docs.ray.io/en/master/serve/production-guide/fault-tolerance.html#deployment-replica-failure",
        "https://docs.ray.io/en/master/serve/production-guide/fault-tolerance.html#serve-controller-failure",
        "https://docs.ray.io/en/master/serve/scaling-and-resource-allocation.html#autoscaling",
        "https://docs.ray.io/en/master/serve/advanced-guides/dev-workflow.html#local-development-with-http-requests"
       ]
      },
      "text/plain": [
       "<IPython.core.display.JSON object>"
      ]
     },
     "metadata": {
      "application/json": {
       "expanded": false,
       "root": "root"
      }
     },
     "output_type": "display_data"
    },
    {
     "name": "stderr",
     "output_type": "stream",
     "text": [
      "100%|██████████| 177/177 [16:01<00:00,  5.43s/it]\n"
     ]
    }
   ],
   "source": [
    "# Experiment\n",
    "sql_dump_fp = Path(EFS_DIR, \"sql_dumps\", f\"{experiment_name}_{CHUNK_SIZE}_{CHUNK_OVERLAP}.sql\")\n",
    "run_experiment(\n",
    "    experiment_name=experiment_name, \n",
    "    chunk_size=CHUNK_SIZE,\n",
    "    chunk_overlap=CHUNK_OVERLAP, \n",
    "    num_chunks=NUM_CHUNKS,\n",
    "    embedding_model_name=EMBEDDING_MODEL_NAME,\n",
    "    llm=llm,  # use same llm as we did for embedding model experiments\n",
    "    evaluator=EVALUATOR,\n",
    "    docs_dir=DOCS_DIR, \n",
    "    experiments_dir=EXPERIMENTS_DIR, \n",
    "    references_fp=REFERENCES_FILE_PATH,\n",
    "    num_samples=NUM_SAMPLES,\n",
    "    sql_dump_fp=sql_dump_fp)"
   ]
  },
  {
   "cell_type": "code",
   "execution_count": null,
   "id": "3fcd9a29-2e15-46ac-9443-3e87632888a6",
   "metadata": {
    "tags": []
   },
   "outputs": [],
   "source": [
    "embedding_model_names.append(experiment_name)\n",
    "experiment_names = []\n",
    "for embedding_model_name in embedding_model_names:\n",
    "    experiment_names.append(f\"{embedding_model_name.split('/')[-1]}\")"
   ]
  },
  {
   "cell_type": "code",
   "execution_count": null,
   "id": "4eb87087-437f-4a76-9890-e47f457d81be",
   "metadata": {
    "tags": []
   },
   "outputs": [
    {
     "name": "stdout",
     "output_type": "stream",
     "text": [
      "gte-base\n",
      "  retrieval score: 0.6214689265536724\n",
      "  quality score: 3.57909604519774\n",
      "\n",
      "gte-large\n",
      "  retrieval score: 0.6892655367231638\n",
      "  quality score: 3.5847457627118646\n",
      "\n",
      "bge-large-en\n",
      "  retrieval score: 0.4406779661016949\n",
      "  quality score: 3.3446327683615817\n",
      "\n",
      "text-embedding-ada-002\n",
      "  retrieval score: 0.5988700564971752\n",
      "  quality score: 3.5112994350282487\n",
      "\n",
      "gte-large-fine-tuned-el\n",
      "  retrieval score: 0.6892655367231638\n",
      "  quality score: 3.5338983050847457\n",
      "\n",
      "gte-large-fine-tuned-fp\n",
      "  retrieval score: 0.6892655367231638\n",
      "  quality score: 3.536723163841808\n",
      "\n"
     ]
    },
    {
     "data": {
      "image/png": "[encoded data removed]",
      "text/plain": [
       "<Figure size 1000x300 with 1 Axes>"
      ]
     },
     "metadata": {},
     "output_type": "display_data"
    }
   ],
   "source": [
    "scores = {}\n",
    "for experiment_name in experiment_names:\n",
    "    scores[experiment_name] = print_experiment(experiment_name, EXPERIMENTS_DIR)\n",
    "plot_scores(scores=scores)"
   ]
  },
  {
   "cell_type": "markdown",
   "id": "044e2e42-f6eb-494e-89db-a617bc72da8b",
   "metadata": {},
   "source": [
    "Much better validation scores and overall better performance but it's not worth the effort compared to using our base gte-large embedding model. This again can be improved with larger/higher quality datasets and perhaps even a larger testing dataset to capture small improvements in our retrieval scores.\n",
    "\n",
    "**Note**: even though the retrieval scores are the same, the quality scores differ due to the order in which the new embedding models determine the top k relevant chunks."
   ]
  },
  {
   "cell_type": "markdown",
   "id": "b5e41783-6f45-4bdc-8a1b-fe3329f7b101",
   "metadata": {
    "tags": []
   },
   "source": [
    "# Prompt engineering"
   ]
  },
  {
   "cell_type": "markdown",
   "id": "dbb495d1-557e-41eb-8c27-fe8cea02e7b5",
   "metadata": {
    "tags": []
   },
   "source": [
    "There's too much we can do when it comes to engineering the prompt (x-of-thought, multimodal, self-refine, query decomposition, etc.) so we're going to try out just a few interesting ideas. We're going to allow the LLM to ignore anything not relevant. The idea here is to show how quickly we can go from prompt engineering to evaluation report.\n",
    "\n",
    "<img width=\"800\" src=\"https://images.ctfassets.net/xjan103pcp94/6nMOu5sm3jploFUXeKxog2/a6272a581ddece641e21be391bead79f/rag-based-llm-applications-prompt-engineering.png\">"
   ]
  },
  {
   "cell_type": "code",
   "execution_count": null,
   "id": "1de8e133-52fc-42d8-ac3d-51e8557ed563",
   "metadata": {
    "tags": []
   },
   "outputs": [
    {
     "data": {
      "text/plain": [
       "\"Answer the query using the context provided. Be succinct. Contexts are organized in a list of dictionaries [{'text': <context>}, {'text': <context>}, ...]. Feel free to ignore any contexts in the list that don't seem relevant to the query. \""
      ]
     },
     "execution_count": null,
     "metadata": {},
     "output_type": "execute_result"
    }
   ],
   "source": [
    "generation_system_content = \"Answer the query using the context provided. Be succinct. \"  # original system content\n",
    "generation_system_content += \"Contexts are organized in a list of dictionaries [{'text': <context>}, {'text': <context>}, ...]. \"\n",
    "generation_system_content += \"Feel free to ignore any contexts in the list that don't seem relevant to the query. \"\n",
    "generation_system_content"
   ]
  },
  {
   "cell_type": "code",
   "execution_count": null,
   "id": "f618682c-33fb-45d2-8247-883e3136f829",
   "metadata": {
    "tags": []
   },
   "outputs": [
    {
     "data": {
      "application/json": {
       "generated_answer": " To kill a specific serve replica, you can use the `ray.kill` function and pass in the replica handle. You can get the replica handle by using the `ray.get_actor` function and passing in the replica's name and namespace.\n\nHere's an example of how you can kill a specific serve replica:\n```\n>>> import ray\n>>> replica_handle = ray.get_actor(\"SERVE_REPLICA::SleepyPid#RlRptP\", namespace=\"serve\")\n>>> ray.kill(replica_handle, no_restart=True)\n```\nIn this example, we first get the replica handle using `ray.get_actor`. We then pass the replica handle to `ray.kill` along with the `no_restart` parameter set to `True`. This will kill the replica and prevent it from restarting.\n\nNote that killing a replica will not affect the other replicas in the deployment. The other replicas will continue to process requests as usual.",
       "question": "how do I kill a specific serve replica",
       "reasoning": "The generated answer is comprehensive and provides a detailed step-by-step guide on how to kill a specific serve replica. It also includes a code example for better understanding. The reference answer does not provide any useful information, making the generated answer superior.",
       "reference_answer": "The context does not provide information on how to kill a specific serve replica.",
       "score": 5,
       "sources": [
        "https://docs.ray.io/en/master/serve/production-guide/fault-tolerance.html#deployment-replica-failure",
        "https://docs.ray.io/en/master/serve/advanced-guides/dev-workflow.html#local-development-with-http-requests",
        "https://docs.ray.io/en/master/serve/api/index.html#delete-api-serve-deployments",
        "https://docs.ray.io/en/master/serve/production-guide/fault-tolerance.html#deployment-replica-failure",
        "https://docs.ray.io/en/master/serve/production-guide/fault-tolerance.html#serve-controller-failure",
        "https://docs.ray.io/en/master/serve/scaling-and-resource-allocation.html#autoscaling",
        "https://docs.ray.io/en/master/serve/advanced-guides/dev-workflow.html#local-development-with-http-requests"
       ]
      },
      "text/plain": [
       "<IPython.core.display.JSON object>"
      ]
     },
     "metadata": {
      "application/json": {
       "expanded": false,
       "root": "root"
      }
     },
     "output_type": "display_data"
    },
    {
     "name": "stderr",
     "output_type": "stream",
     "text": [
      "100%|██████████| 177/177 [13:43<00:00,  4.65s/it]\n"
     ]
    }
   ],
   "source": [
    "# Evaluate\n",
    "experiment_name = \"prompt-ignore-contexts\"\n",
    "run_experiment(\n",
    "    experiment_name=experiment_name, \n",
    "    chunk_size=CHUNK_SIZE, \n",
    "    chunk_overlap=CHUNK_OVERLAP, \n",
    "    num_chunks=NUM_CHUNKS,\n",
    "    embedding_model_name=EMBEDDING_MODEL_NAME,\n",
    "    llm=LLM,\n",
    "    evaluator=EVALUATOR,\n",
    "    docs_dir=DOCS_DIR, \n",
    "    experiments_dir=EXPERIMENTS_DIR, \n",
    "    references_fp=REFERENCES_FILE_PATH,\n",
    "    generation_system_content=generation_system_content,  # new prompt\n",
    "    num_samples=NUM_SAMPLES)"
   ]
  },
  {
   "cell_type": "code",
   "execution_count": null,
   "id": "8913f69e-25d1-4354-aaa0-13fb46778c83",
   "metadata": {
    "tags": []
   },
   "outputs": [
    {
     "name": "stdout",
     "output_type": "stream",
     "text": [
      "prompt-ignore-contexts\n",
      "  retrieval score: 0.6892655367231638\n",
      "  quality score: 3.559322033898305\n",
      "\n"
     ]
    },
    {
     "data": {
      "text/plain": [
       "{'retrieval_score': 0.6892655367231638, 'quality_score': 3.559322033898305}"
      ]
     },
     "execution_count": null,
     "metadata": {},
     "output_type": "execute_result"
    }
   ],
   "source": [
    "# Results\n",
    "print_experiment(experiment_name, EXPERIMENTS_DIR)"
   ]
  },
  {
   "cell_type": "markdown",
   "id": "2674a08a-1447-42e6-84bf-72777a660392",
   "metadata": {},
   "source": [
    "It seems this specific prompt engineering effort didn't help improve the quality of our system. As we mentioned earlier, there are too many other ways we can engineer our prompt and we encourage you to explore more. What’s important here is that we have a **clean and simple way to evaluate anything** that we want to experiment with. However, we have empirically found that improving the quality of our retrieval system and the data flywheel (where we fix our documentation itself) has had a much larger impact on the overall quality of our system."
   ]
  },
  {
   "cell_type": "markdown",
   "id": "6f3fcd85-01ac-4cd4-8dc1-cf864bb646ef",
   "metadata": {
    "tags": []
   },
   "source": [
    "# Lexical search"
   ]
  },
  {
   "cell_type": "markdown",
   "id": "63edccae-c7b5-4452-b97c-5d3e53b6a1cb",
   "metadata": {},
   "source": [
    "We're going to now supplement our vector embedding based search with traditional lexical search, which searches for exact token matches between our query and document chunks. Our intuition here is that lexical search can help identify chunks with exact keyword matches where semantic representation may fail to capture. Especially for tokens that are out-of-vocabulary (and so represented via subtokens) with our embedding model. But our embeddings based approach is still very advantageous for capturing implicit meaning, and so we're going to combine several retrieval chunks from both vector embeddings based search and lexical search.\n",
    "\n",
    "<img width=\"800\" src=\"https://images.ctfassets.net/xjan103pcp94/9eBIE4iw7SmTtVvANbkAq/8913fcbd10fc66fd8b59278642155609/rag-based-llm-applications-lexical-search.png\">"
   ]
  },
  {
   "cell_type": "code",
   "execution_count": null,
   "id": "b29782e2-786a-4665-aa13-d9339ef3dad4",
   "metadata": {
    "tags": []
   },
   "outputs": [],
   "source": [
    "# Env vars\n",
    "os.environ[\"EMBEDDING_DIM\"] = f\"{EMBEDDING_DIMENSIONS[EMBEDDING_MODEL_NAME]}\"\n",
    "os.environ[\"SQL_DUMP_FP\"] = str(Path(EFS_DIR, \"sql_dumps\", f\"{EMBEDDING_MODEL_NAME.split('/')[-1]}_{CHUNK_SIZE}_{CHUNK_OVERLAP}.sql\"))"
   ]
  },
  {
   "cell_type": "code",
   "execution_count": null,
   "id": "7b85823f-f6fa-480a-8b24-0da188a55a2f",
   "metadata": {
    "tags": []
   },
   "outputs": [],
   "source": [
    "%%bash\n",
    "# Ensure the right index in built in-memory\n",
    "psql \"$DB_CONNECTION_STRING\" -c \"DROP TABLE IF EXISTS document;\"\n",
    "sudo -u postgres psql -f ../migrations/vector-${EMBEDDING_DIM}.sql\n",
    "psql \"$DB_CONNECTION_STRING\" -f $SQL_DUMP_FP  # load"
   ]
  },
  {
   "cell_type": "code",
   "execution_count": null,
   "id": "c07fb08c-b395-4a77-9968-581d63aacca0",
   "metadata": {
    "tags": []
   },
   "outputs": [],
   "source": [
    "# Get chunks\n",
    "with psycopg.connect(os.environ[\"DB_CONNECTION_STRING\"]) as conn:\n",
    "    register_vector(conn)\n",
    "    with conn.cursor() as cur:\n",
    "        cur.execute(\"SELECT id, text, source FROM document\")\n",
    "        chunks = cur.fetchall()"
   ]
  },
  {
   "cell_type": "markdown",
   "id": "19e62598-3116-466e-8a60-fc571ce698df",
   "metadata": {},
   "source": [
    "## BM25"
   ]
  },
  {
   "cell_type": "markdown",
   "id": "65023148-7fd1-4383-b28c-b417103e716d",
   "metadata": {},
   "source": [
    "Let's apply lexical search using [BM25](https://en.wikipedia.org/wiki/Okapi_BM25), which is a ranking algorithm that rewards unique token matches between our query and contexts."
   ]
  },
  {
   "cell_type": "code",
   "execution_count": null,
   "id": "206e3523-f651-425d-817a-ee359700cac9",
   "metadata": {
    "tags": []
   },
   "outputs": [],
   "source": [
    "import re\n",
    "from rank_bm25 import BM25Okapi"
   ]
  },
  {
   "cell_type": "code",
   "execution_count": null,
   "id": "f05f3014-710c-4edd-b6c9-d94299a7d33e",
   "metadata": {
    "tags": []
   },
   "outputs": [],
   "source": [
    "# BM25 index\n",
    "texts = [re.sub(r\"[^a-zA-Z0-9]\", \" \", chunk[1]).lower().split() for chunk in chunks]\n",
    "lexical_index = BM25Okapi(texts)"
   ]
  },
  {
   "cell_type": "markdown",
   "id": "fc5470e0-8430-4cf2-8b59-7f6c2674c25b",
   "metadata": {},
   "source": [
    "Similar to our `semantic_search` function to retrieve the relevant context, we can implement a search function to use our lexical index to retrieve relevant context."
   ]
  },
  {
   "cell_type": "code",
   "execution_count": null,
   "id": "698222a6-2b4e-4b8d-bb64-551ae09595bb",
   "metadata": {
    "tags": []
   },
   "outputs": [],
   "source": [
    "def lexical_search(index, query, chunks, k):\n",
    "    query_tokens = query.lower().split()  # preprocess query\n",
    "    scores = index.get_scores(query_tokens)  # get best matching (BM) scores\n",
    "    indices = sorted(range(len(scores)), key=lambda i: -scores[i])[:k]  # sort and get top k\n",
    "    lexical_context = [{\n",
    "            \"id\": chunks[i][0], \n",
    "            \"text\": chunks[i][1], \n",
    "            \"source\": chunks[i][2], \n",
    "            \"score\": scores[i]} for i in indices]\n",
    "    return lexical_context"
   ]
  },
  {
   "cell_type": "code",
   "execution_count": null,
   "id": "ca7734e4-ea44-483c-93ed-e7e6f646caf8",
   "metadata": {
    "tags": []
   },
   "outputs": [
    {
     "name": "stdout",
     "output_type": "stream",
     "text": [
      "https://docs.ray.io/en/master/data/transforming-data.html#configuring-batch-size\n",
      "Configuring batch size#\n",
      "Increasing batch_size improves the performance of vectorized transformations like\n",
      "NumPy functions and model inference. However, if your batch size is too large, your\n",
      "program might run out of memory. If you encounter an out-of-memory error, decrease your\n",
      "batch_size.\n",
      "Note\n",
      "The default batch size depends on your resource type. If you’re using CPUs,\n",
      "the default batch size is 4096. If you’re using GPUs, you must specify an explicit\n",
      "batch size.\n",
      "\n",
      "https://docs.ray.io/en/master/serve/advanced-guides/dyn-req-batch.html#enable-batching-for-your-deployment\n",
      "max_batch_size controls the size of the batch.\n",
      "Once the first request arrives, the batching decorator will wait for a full batch (up to max_batch_size) until batch_wait_timeout_s is reached. If the timeout is reached, the batch will be sent to the model regardless the batch size.\n",
      "Tip\n",
      "You can reconfigure your batch_wait_timeout_s and max_batch_size parameters using the set_batch_wait_timeout_s and set_max_batch_size methods:\n",
      "from typing import Dict\n",
      "\n",
      "https://docs.ray.io/en/master/train/getting-started-pytorch.html#setting-up-your-dataset\n",
      "...\n",
      "Tip\n",
      "Keep in mind that DataLoader takes in a batch_size which is the batch size for each worker.\n",
      "The global batch size can be calculated from the worker batch size (and vice-versa) with the following equation:\n",
      "global_batch_size = worker_batch_size * ray.train.get_context().get_world_size()\n",
      "\n"
     ]
    }
   ],
   "source": [
    "# Retrieve top-k docs\n",
    "k = 3\n",
    "query = \"What is the default batch size for map_batches?\"\n",
    "top_docs = lexical_search(lexical_index, query, chunks, k=k)\n",
    "for item in top_docs:\n",
    "    print (item[\"source\"])\n",
    "    print (item[\"text\"])\n",
    "    print ()"
   ]
  },
  {
   "cell_type": "markdown",
   "id": "6c884bbc-76e5-40ed-b7d5-2a5733fc9c86",
   "metadata": {},
   "source": [
    "## Semantic"
   ]
  },
  {
   "cell_type": "markdown",
   "id": "d9785a5f-7e62-4727-9dda-d038d640f105",
   "metadata": {},
   "source": [
    "Comparing this with the retrieved sources with our existing vector embedding based search shows that the two approaches, while different, both retrieved relevant sources. So, we're going to combine both approaches and feed it into the context for our LLM for generation."
   ]
  },
  {
   "cell_type": "code",
   "execution_count": null,
   "id": "6711aa7b-7e2a-43d2-9043-e03dc7a32ba0",
   "metadata": {
    "tags": []
   },
   "outputs": [],
   "source": [
    "# Embed query\n",
    "embedding_model = HuggingFaceEmbeddings(model_name=EMBEDDING_MODEL_NAME)\n",
    "embedding = np.array(embedding_model.embed_query(query))\n",
    "len(embedding)"
   ]
  },
  {
   "cell_type": "code",
   "execution_count": null,
   "id": "7afafafe-5df4-4087-8f28-bd79d6d931e2",
   "metadata": {
    "tags": []
   },
   "outputs": [],
   "source": [
    "# Get context\n",
    "with psycopg.connect(os.environ[\"DB_CONNECTION_STRING\"]) as conn:\n",
    "    register_vector(conn)\n",
    "    with conn.cursor() as cur:\n",
    "        cur.execute(\"SELECT * FROM document ORDER BY embedding <=> %s LIMIT %s\", (embedding, k))\n",
    "        rows = cur.fetchall()\n",
    "        context = [{\"text\": row[1]} for row in rows]\n",
    "        sources = [row[2] for row in rows]"
   ]
  },
  {
   "cell_type": "code",
   "execution_count": null,
   "id": "1698b140-f3a3-4026-ad4a-c378192dfc47",
   "metadata": {
    "tags": []
   },
   "outputs": [
    {
     "name": "stdout",
     "output_type": "stream",
     "text": [
      "https://docs.ray.io/en/master/data/api/doc/ray.data.Dataset.map_batches.html#ray-data-dataset-map-batches\n",
      "to a given map task. Default batch_size is 4096 with “default”.\n",
      "compute – Either “tasks” (default) to use Ray Tasks or an\n",
      "ActorPoolStrategy to use an autoscaling actor pool.\n",
      "batch_format – If \"default\" or \"numpy\", batches are\n",
      "Dict[str, numpy.ndarray]. If \"pandas\", batches are\n",
      "pandas.DataFrame.\n",
      "zero_copy_batch – Whether fn should be provided zero-copy, read-only\n",
      "batches. If this is True and no copy is required for the\n",
      "batch_format conversion, the batch is a zero-copy, read-only\n",
      "\n",
      "https://docs.ray.io/en/master/data/transforming-data.html#configuring-batch-size\n",
      "Configuring batch size#\n",
      "Increasing batch_size improves the performance of vectorized transformations like\n",
      "NumPy functions and model inference. However, if your batch size is too large, your\n",
      "program might run out of memory. If you encounter an out-of-memory error, decrease your\n",
      "batch_size.\n",
      "Note\n",
      "The default batch size depends on your resource type. If you’re using CPUs,\n",
      "the default batch size is 4096. If you’re using GPUs, you must specify an explicit\n",
      "batch size.\n",
      "\n",
      "https://docs.ray.io/en/master/serve/advanced-guides/dyn-req-batch.html#tips-for-fine-tuning-batching-parameters\n",
      "Tips for fine-tuning batching parameters#\n",
      "max_batch_size ideally should be a power of 2 (2, 4, 8, 16, …) because CPUs and GPUs are both optimized for data of these shapes. Large batch sizes incur a high memory cost as well as latency penalty for the first few requests.\n",
      "\n"
     ]
    }
   ],
   "source": [
    "for i, item in enumerate(context):\n",
    "    print (sources[i])\n",
    "    print (item[\"text\"])\n",
    "    print ()"
   ]
  },
  {
   "cell_type": "markdown",
   "id": "d100290c-fdaa-4d57-877f-01f621698433",
   "metadata": {},
   "source": [
    "## Experiment"
   ]
  },
  {
   "cell_type": "markdown",
   "id": "c76aebae-f7ae-469c-bfcf-319b588d78ae",
   "metadata": {},
   "source": [
    "Now let's incorporate this into our retrieval workflow by add it to our `generate.py/QueryAgent` class. The main change will be to include the additional sources from lexical search:\n",
    "```python\n",
    "def QueryAgent():\n",
    "    def __init__(use_lexical_search=True, chunks=[...], **kwargs):\n",
    "        # Lexical search\n",
    "        self.chunks = chunks\n",
    "        self.lexical_index = None\n",
    "        if use_lexical_search:\n",
    "            texts = [re.sub(r\"[^a-zA-Z0-9]\", \" \", chunk[1]).lower().split() for chunk in chunks]\n",
    "            self.lexical_index = BM25Okapi(texts)\n",
    "        \n",
    "    def __call__(lexical_search_k=1, **kwargs):\n",
    "        # Add lexical search results\n",
    "        if self.lexical_index:\n",
    "            lexical_context = lexical_search(\n",
    "                index=self.lexical_index, query=query, chunks=self.chunks, k=lexical_search_k)\n",
    "            # Insert after <lexical_search_k> worth of semantic results\n",
    "            context_results[lexical_search_k:lexical_search_k] = lexical_context\n",
    "```"
   ]
  },
  {
   "cell_type": "code",
   "execution_count": null,
   "id": "95e2cdf8-4c53-414c-b302-990fc79b25e1",
   "metadata": {
    "tags": []
   },
   "outputs": [],
   "source": [
    "experiment_names = []\n",
    "lexical_search_k_list = [1, 3, 5]"
   ]
  },
  {
   "cell_type": "code",
   "execution_count": null,
   "id": "9a4af0a6-b939-4caf-978c-d9d6861d7125",
   "metadata": {
    "tags": []
   },
   "outputs": [
    {
     "data": {
      "application/json": {
       "generated_answer": " To kill a specific serve replica, you can use the `ray.kill` function and pass the replica handle as an argument. You can get the replica handle by using the `ray.get_actor` function and passing the replica's name and namespace as arguments.\n\nFor example, to kill a replica named \"SleepyPid\" in the \"serve\" namespace, you can use the following code:\n```\nimport ray\n\nreplica_handle = ray.get_actor(\"SERVE_REPLICA::SleepyPid\", namespace=\"serve\")\nray.kill(replica_handle, no_restart=True)\n```\nThis will kill the replica and prevent it from restarting. If you want to kill the replica and allow it to restart, you can omit the `no_restart` argument or set it to `False`.\n\nNote that killing a replica will not affect the other replicas in the deployment. The other replicas will continue to process requests as usual.",
       "question": "how do I kill a specific serve replica",
       "reasoning": "The generated answer is comprehensive and provides a detailed step-by-step guide on how to kill a specific serve replica. It even includes a code example and additional information about the effects of killing a replica. The reference answer does not provide any useful information, so the generated answer is significantly better.",
       "reference_answer": "The context does not provide information on how to kill a specific serve replica.",
       "score": 5,
       "sources": [
        "https://docs.ray.io/en/master/serve/production-guide/fault-tolerance.html#deployment-replica-failure",
        "https://docs.ray.io/en/master/serve/advanced-guides/dev-workflow.html#local-development-with-http-requests",
        "https://docs.ray.io/en/master/serve/api/index.html#delete-api-serve-deployments",
        "https://docs.ray.io/en/master/serve/production-guide/fault-tolerance.html#deployment-replica-failure",
        "https://docs.ray.io/en/master/serve/production-guide/fault-tolerance.html#serve-controller-failure",
        "https://docs.ray.io/en/master/serve/scaling-and-resource-allocation.html#autoscaling",
        "https://docs.ray.io/en/master/serve/advanced-guides/dev-workflow.html#local-development-with-http-requests",
        "https://docs.ray.io/en/master/serve/production-guide/fault-tolerance.html#deployment-replica-failure",
        "https://docs.ray.io/en/master/tune/faq.html#ray-tune-faq",
        "https://docs.ray.io/en/master/tune/faq.html#ray-tune-faq",
        "https://docs.ray.io/en/master/serve/production-guide/fault-tolerance.html#replica-health-checking",
        "https://docs.ray.io/en/master/tune/faq.html#ray-tune-faq"
       ]
      },
      "text/plain": [
       "<IPython.core.display.JSON object>"
      ]
     },
     "metadata": {
      "application/json": {
       "expanded": false,
       "root": "root"
      }
     },
     "output_type": "display_data"
    },
    {
     "name": "stderr",
     "output_type": "stream",
     "text": [
      "100%|██████████| 177/177 [18:49<00:00,  6.38s/it]\n"
     ]
    }
   ],
   "source": [
    "# Experiment\n",
    "use_lexical_search = True\n",
    "for lexical_search_k in lexical_search_k_list:\n",
    "    experiment_name = f\"lexical-search-bm25-{lexical_search_k}\"\n",
    "    experiment_names.append(experiment_name)\n",
    "    run_experiment(\n",
    "        experiment_name=experiment_name, \n",
    "        chunk_size=CHUNK_SIZE, \n",
    "        chunk_overlap=CHUNK_OVERLAP, \n",
    "        num_chunks=NUM_CHUNKS,\n",
    "        embedding_model_name=EMBEDDING_MODEL_NAME,\n",
    "        llm=LLM,\n",
    "        evaluator=EVALUATOR,\n",
    "        docs_dir=DOCS_DIR, \n",
    "        experiments_dir=EXPERIMENTS_DIR, \n",
    "        references_fp=REFERENCES_FILE_PATH,\n",
    "        use_lexical_search=use_lexical_search,\n",
    "        lexical_search_k=lexical_search_k,\n",
    "        num_samples=NUM_SAMPLES)"
   ]
  },
  {
   "cell_type": "code",
   "execution_count": null,
   "id": "aecb240f-dc95-48ab-bec9-cfea285467c2",
   "metadata": {
    "tags": []
   },
   "outputs": [
    {
     "name": "stdout",
     "output_type": "stream",
     "text": [
      "lexical-search-bm25-1\n",
      "  retrieval score: 0.7005649717514124\n",
      "  quality score: 3.6271186440677967\n",
      "\n",
      "lexical-search-bm25-3\n",
      "  retrieval score: 0.711864406779661\n",
      "  quality score: 3.559322033898305\n",
      "\n",
      "lexical-search-bm25-5\n",
      "  retrieval score: 0.7288135593220338\n",
      "  quality score: 3.483050847457627\n",
      "\n"
     ]
    },
    {
     "data": {
      "image/png": "[encoded data removed]",
      "text/plain": [
       "<Figure size 1000x300 with 1 Axes>"
      ]
     },
     "metadata": {},
     "output_type": "display_data"
    }
   ],
   "source": [
    "scores = {}\n",
    "for experiment_name in experiment_names:\n",
    "    scores[experiment_name] = print_experiment(experiment_name, EXPERIMENTS_DIR)\n",
    "plot_scores(scores=scores)"
   ]
  },
  {
   "cell_type": "code",
   "execution_count": null,
   "id": "f2998e54-4bd2-432d-8948-ac57abe31640",
   "metadata": {
    "tags": []
   },
   "outputs": [],
   "source": [
    "USE_LEXICAL_SEARCH = True\n",
    "LEXICAL_SEARCH_K = 1"
   ]
  },
  {
   "cell_type": "markdown",
   "id": "743b6854-6a92-4201-884f-7bf83ac6bfe6",
   "metadata": {},
   "source": [
    "Seems like the most relevant source from lexical search was impactful while adding more (k=3 or 5) was adding more noise than value (this was true even with the few samples we inspected). By combining semantic search (embeddings) with lexical search (BM25), we were able to improve our retrieval and quality scores!\n",
    "\n",
    "**Note**: This was just one aspect (keyword matching) of lexical search that we explored but there are many other useful features such as filtering, counts, etc. It's also worth exploring how we combine the lexical search results with semantic search results."
   ]
  },
  {
   "cell_type": "code",
   "execution_count": null,
   "id": "adaabae4-ff77-4623-993e-aceaabe116c6",
   "metadata": {},
   "outputs": [
    {
     "data": {
      "text/plain": [
       "[('gpt-4',\n",
       "  {'retrieval_score': 0.6892655367231638,\n",
       "   'quality_score': 3.7457627118644066}),\n",
       " ('lexical-search-bm25-1',\n",
       "  {'retrieval_score': 0.7005649717514124,\n",
       "   'quality_score': 3.6271186440677967}),\n",
       " ('codellama-34b-instruct-hf',\n",
       "  {'retrieval_score': 0.6892655367231638,\n",
       "   'quality_score': 3.6016949152542375})]"
      ]
     },
     "execution_count": null,
     "metadata": {},
     "output_type": "execute_result"
    }
   ],
   "source": [
    "# Top experiments\n",
    "top_n = 3\n",
    "experiment_results = {}\n",
    "all_experiments = [d for d in Path(EXPERIMENTS_DIR, \"evaluations\").iterdir() if d.is_file()]\n",
    "for experiment_fp in all_experiments:\n",
    "    with open(str(experiment_fp), \"r\") as fp:\n",
    "        results = json.load(fp)\n",
    "    experiment_results[results[\"config\"][\"experiment_name\"]] = {\n",
    "        \"retrieval_score\": results[\"retrieval_score\"], \n",
    "        \"quality_score\": results[\"quality_score\"]}\n",
    "sorted(experiment_results.items(), key=lambda i: (i[1].get(\"quality_score\", float('inf')), i[1].get(\"retrieval_score\")), reverse=True)[:top_n]"
   ]
  },
  {
   "cell_type": "markdown",
   "id": "f121c6ab-a434-4ced-91a8-ba41d637451f",
   "metadata": {},
   "source": [
    "**Note**: The other experiments besides `lexical-search-bm25-1` here are with semantic search only and adding lexical search here would improve the quality as it did in our latest experiment."
   ]
  },
  {
   "cell_type": "markdown",
   "id": "140e2b7f-f8a1-4d9c-a479-f9eefbd21451",
   "metadata": {
    "tags": []
   },
   "source": [
    "# Reranking"
   ]
  },
  {
   "cell_type": "markdown",
   "id": "bd99d5da-b9ee-40e2-99b8-3b43f2820618",
   "metadata": {},
   "source": [
    "So far with all of our approaches, we've used an embedding model (+ lexical search) to identify the top k relevant chunks in our dataset. The number of chunks (k) has been a small number because we found that adding too many chunks did not help and our LLMs have restricted context lengths. However, this was all under the assumption that the top k retrieved chunks were truly the most relevant chunks and that their order was correct as well. What if increasing the number of chunks didn't help because some relevant chunks were much lower in the ordered list. And, semantic representations, while very rich, were not trained for this specific task. \n",
    "\n",
    "In this section, we implement reranking so that we can use our semantic and lexical search methods to cast a much wider net over our dataset (retrieve many chunks) and then rerank the order based on the user's query. The intuition here is that we can account for gaps in our semantic representations with ranking specific to our use case. We'll train a supervised model that predicts which part of our [documentation](https://docs.ray.io/) is most relevant for a given user's query. We'll use this prediction to then rerank the relevant chunks so that chunks from this part of our documentation are moved to the top of the list.\n",
    "\n",
    "<img width=\"800\" src=\"https://images.ctfassets.net/xjan103pcp94/4bmoRNSzxtOyfToCtl68xq/d9727c41a3d435d1821eea5ab67c1e97/rag-based-llm-applications-reranking.png\">"
   ]
  },
  {
   "cell_type": "markdown",
   "id": "da391621-c587-4453-b365-6f25a049b3e3",
   "metadata": {
    "tags": []
   },
   "source": [
    "## Dataset"
   ]
  },
  {
   "cell_type": "markdown",
   "id": "1eba3ee9-fe06-4a2d-998f-d51cdd075cd7",
   "metadata": {},
   "source": [
    "We're going to reuse the QA dataset we created in our fine-tuning section because that dataset has questions that map with specific sections."
   ]
  },
  {
   "cell_type": "code",
   "execution_count": null,
   "id": "83c3d888-1f71-4561-8d9c-787ae03a5e3b",
   "metadata": {
    "tags": []
   },
   "outputs": [],
   "source": [
    "import re\n",
    "from collections import Counter\n",
    "import pandas as pd\n",
    "from sklearn.model_selection import train_test_split"
   ]
  },
  {
   "cell_type": "code",
   "execution_count": null,
   "id": "964f649e-8ba2-4866-b6a5-af5df2d1e17f",
   "metadata": {
    "tags": []
   },
   "outputs": [],
   "source": [
    "def get_tag(url):\n",
    "    return re.findall(r\"docs\\.ray\\.io/en/master/([^/]+)\", url)[0].split(\"#\")[0]"
   ]
  },
  {
   "cell_type": "code",
   "execution_count": null,
   "id": "9f82ad86-e310-4ba4-b351-c513cf78c0ab",
   "metadata": {
    "tags": []
   },
   "outputs": [
    {
     "data": {
      "text/html": [
       "<div>\n",
       "<style scoped>\n",
       "    .dataframe tbody tr th:only-of-type {\n",
       "        vertical-align: middle;\n",
       "    }\n",
       "\n",
       "    .dataframe tbody tr th {\n",
       "        vertical-align: top;\n",
       "    }\n",
       "\n",
       "    .dataframe thead th {\n",
       "        text-align: right;\n",
       "    }\n",
       "</style>\n",
       "<table border=\"1\" class=\"dataframe\">\n",
       "  <thead>\n",
       "    <tr style=\"text-align: right;\">\n",
       "      <th></th>\n",
       "      <th>question</th>\n",
       "      <th>source</th>\n",
       "      <th>tag</th>\n",
       "      <th>section</th>\n",
       "    </tr>\n",
       "  </thead>\n",
       "  <tbody>\n",
       "    <tr>\n",
       "      <th>2914</th>\n",
       "      <td>ray.data.datasource.ParquetMetadataProvider.__...</td>\n",
       "      <td>https://docs.ray.io/en/master/data/api/doc/ray...</td>\n",
       "      <td>data</td>\n",
       "      <td>ray.data.datasource.ParquetMetadataProvider.__...</td>\n",
       "    </tr>\n",
       "    <tr>\n",
       "      <th>1688</th>\n",
       "      <td>ray.runtime_env.RuntimeEnvConfig.clear.html#ra...</td>\n",
       "      <td>https://docs.ray.io/en/master/ray-core/api/doc...</td>\n",
       "      <td>ray-core</td>\n",
       "      <td>ray.runtime_env.RuntimeEnvConfig.clear.html#ra...</td>\n",
       "    </tr>\n",
       "    <tr>\n",
       "      <th>618</th>\n",
       "      <td>faq.html#how can i run multiple ray tune jobs ...</td>\n",
       "      <td>https://docs.ray.io/en/master/tune/faq.html#ho...</td>\n",
       "      <td>tune</td>\n",
       "      <td>faq.html#how-can-i-run-multiple-ray-tune-jobs-...</td>\n",
       "    </tr>\n",
       "    <tr>\n",
       "      <th>5136</th>\n",
       "      <td>ray.rllib.algorithms.algorithm_config.Algorith...</td>\n",
       "      <td>https://docs.ray.io/en/master/rllib/package_re...</td>\n",
       "      <td>rllib</td>\n",
       "      <td>ray.rllib.algorithms.algorithm_config.Algorith...</td>\n",
       "    </tr>\n",
       "    <tr>\n",
       "      <th>5092</th>\n",
       "      <td>ray.rllib.policy.Policy.loss.html#ray rllib po...</td>\n",
       "      <td>https://docs.ray.io/en/master/rllib/package_re...</td>\n",
       "      <td>rllib</td>\n",
       "      <td>ray.rllib.policy.Policy.loss.html#ray-rllib-po...</td>\n",
       "    </tr>\n",
       "  </tbody>\n",
       "</table>\n",
       "</div>"
      ],
      "text/plain": [
       "                                               question  \\\n",
       "2914  ray.data.datasource.ParquetMetadataProvider.__...   \n",
       "1688  ray.runtime_env.RuntimeEnvConfig.clear.html#ra...   \n",
       "618   faq.html#how can i run multiple ray tune jobs ...   \n",
       "5136  ray.rllib.algorithms.algorithm_config.Algorith...   \n",
       "5092  ray.rllib.policy.Policy.loss.html#ray rllib po...   \n",
       "\n",
       "                                                 source       tag  \\\n",
       "2914  https://docs.ray.io/en/master/data/api/doc/ray...      data   \n",
       "1688  https://docs.ray.io/en/master/ray-core/api/doc...  ray-core   \n",
       "618   https://docs.ray.io/en/master/tune/faq.html#ho...      tune   \n",
       "5136  https://docs.ray.io/en/master/rllib/package_re...     rllib   \n",
       "5092  https://docs.ray.io/en/master/rllib/package_re...     rllib   \n",
       "\n",
       "                                                section  \n",
       "2914  ray.data.datasource.ParquetMetadataProvider.__...  \n",
       "1688  ray.runtime_env.RuntimeEnvConfig.clear.html#ra...  \n",
       "618   faq.html#how-can-i-run-multiple-ray-tune-jobs-...  \n",
       "5136  ray.rllib.algorithms.algorithm_config.Algorith...  \n",
       "5092  ray.rllib.policy.Policy.loss.html#ray-rllib-po...  "
      ]
     },
     "execution_count": null,
     "metadata": {},
     "output_type": "execute_result"
    }
   ],
   "source": [
    "# Load data\n",
    "from pathlib import Path\n",
    "df = pd.read_json(Path(ROOT_DIR, \"datasets\", \"embedding_qa.json\"))\n",
    "df[\"tag\"] = df.source.map(get_tag)\n",
    "df[\"section\"] = df.source.map(lambda source: source.split(\"/\")[-1])\n",
    "df[\"question\"] = df.apply(lambda row: f\"{row['section'].replace('-', ' ')} {row['question']}\", axis=1)\n",
    "df.sample(n=5)"
   ]
  },
  {
   "cell_type": "code",
   "execution_count": null,
   "id": "d264d8c6-83df-4eb2-90b8-aaec0b9c71e0",
   "metadata": {
    "tags": []
   },
   "outputs": [
    {
     "data": {
      "text/plain": [
       "Counter({'rllib': 1269,\n",
       "         'tune': 979,\n",
       "         'train': 697,\n",
       "         'cluster': 690,\n",
       "         'data': 652,\n",
       "         'ray-core': 557,\n",
       "         'serve': 302,\n",
       "         'ray-observability': 175,\n",
       "         'ray-contribute': 95,\n",
       "         'workflows': 82,\n",
       "         'ray-air': 74,\n",
       "         'ray-more-libs': 66,\n",
       "         'ray-overview': 46,\n",
       "         'rllib-env.html': 17,\n",
       "         'installation.html': 16,\n",
       "         'tune.html': 5,\n",
       "         'joblib.html': 3,\n",
       "         'ray-references': 2})"
      ]
     },
     "execution_count": null,
     "metadata": {},
     "output_type": "execute_result"
    }
   ],
   "source": [
    "Counter(df.tag)"
   ]
  },
  {
   "cell_type": "code",
   "execution_count": null,
   "id": "4bca87cb-dbea-47f7-9d0a-e2c84d1ff75b",
   "metadata": {
    "tags": []
   },
   "outputs": [
    {
     "data": {
      "text/plain": [
       "Counter({'rllib': 1269,\n",
       "         'tune': 979,\n",
       "         'train': 697,\n",
       "         'cluster': 690,\n",
       "         'data': 652,\n",
       "         'ray-core': 557,\n",
       "         'other': 406,\n",
       "         'serve': 302,\n",
       "         'ray-observability': 175})"
      ]
     },
     "execution_count": null,
     "metadata": {},
     "output_type": "execute_result"
    }
   ],
   "source": [
    "# Map only what we want to keep\n",
    "tags_to_keep = [\"rllib\", \"tune\", \"train\", \"cluster\", \"ray-core\", \"data\", \"serve\", \"ray-observability\"]\n",
    "df[\"tag\"] = df.tag.apply(lambda x: x if x in tags_to_keep else \"other\")\n",
    "Counter(df.tag)"
   ]
  },
  {
   "cell_type": "code",
   "execution_count": null,
   "id": "911fbafb-a613-4d8e-81f5-3355680b6960",
   "metadata": {
    "tags": []
   },
   "outputs": [],
   "source": [
    "# Train and test data splits\n",
    "test_size = 0.2\n",
    "train_df, test_df = train_test_split(df, stratify=df.tag, test_size=test_size, random_state=1234)"
   ]
  },
  {
   "cell_type": "markdown",
   "id": "b4d571a6-7d65-4a42-9843-3c20bc0db667",
   "metadata": {},
   "source": [
    "## Modeling"
   ]
  },
  {
   "cell_type": "markdown",
   "id": "442dd107-cd60-4191-b62d-7c3b0049b377",
   "metadata": {},
   "source": [
    "While we could train more complex models that are BERT-based, etc. we're going to see how logistic regression performs first."
   ]
  },
  {
   "cell_type": "code",
   "execution_count": null,
   "id": "e142099b-7db8-4386-a90d-b71462ec7128",
   "metadata": {
    "tags": []
   },
   "outputs": [],
   "source": [
    "import json\n",
    "from sklearn.feature_extraction.text import CountVectorizer, HashingVectorizer, TfidfVectorizer\n",
    "from sklearn.linear_model import LogisticRegression\n",
    "from sklearn.metrics import precision_recall_fscore_support\n",
    "from sklearn.pipeline import Pipeline\n",
    "from sklearn.preprocessing import FunctionTransformer\n",
    "from transformers import BertTokenizer\n",
    "from tqdm import tqdm"
   ]
  },
  {
   "cell_type": "markdown",
   "id": "9d495080-662d-41fb-8c47-557e663cc900",
   "metadata": {},
   "source": [
    "We'll start by creating some preprocessing functions to better represent our data. For example, our documentation has many variables that are camel cased (ex. `RayDeepSpeedStrategy`). When a tokenizer is used on this, we often lose the individual tokens that we know to be useful and, instead, random subtokens are created.\n",
    "\n",
    "**Note**: we didn't omnisciently know to create these unique preprocessing functions! This is all a result of methodical iteration. We train a model → view incorrect data points → view how the data was represented (ex. subtokenization) → update preprocessing → iterate ↺"
   ]
  },
  {
   "cell_type": "code",
   "execution_count": null,
   "id": "73279b7d-da6c-4aa2-aed1-b4c0473445c7",
   "metadata": {
    "tags": []
   },
   "outputs": [],
   "source": [
    "def split_camel_case_in_sentences(sentences):\n",
    "    def split_camel_case_word(word):\n",
    "        return re.sub(\"([a-z0-9])([A-Z])\", r\"\\1 \\2\", word)\n",
    "    processed_sentences = []\n",
    "    for sentence in sentences:\n",
    "        processed_words = []   \n",
    "        for word in sentence.split():\n",
    "            processed_words.extend(split_camel_case_word(word).split())\n",
    "        processed_sentences.append(\" \".join(processed_words))\n",
    "    return processed_sentences"
   ]
  },
  {
   "cell_type": "code",
   "execution_count": null,
   "id": "6309b2a2-c429-43c5-81b1-d85664b9d6e9",
   "metadata": {
    "tags": []
   },
   "outputs": [],
   "source": [
    "# Tokenizer\n",
    "tokenizer = BertTokenizer.from_pretrained(\"bert-base-uncased\")"
   ]
  },
  {
   "cell_type": "code",
   "execution_count": null,
   "id": "effd5550-7dec-4393-a467-e8a35f468f6a",
   "metadata": {
    "tags": []
   },
   "outputs": [],
   "source": [
    "def preprocess(texts):\n",
    "    texts = split_camel_case_in_sentences(texts)  # camelcase\n",
    "    texts = [tokenizer.tokenize(text) for text in texts]  # subtokens\n",
    "    texts = [\" \".join(word for word in text) for text in texts]\n",
    "    return texts"
   ]
  },
  {
   "cell_type": "code",
   "execution_count": null,
   "id": "87e87d64-e57a-4561-afec-76cfa45362c6",
   "metadata": {
    "tags": []
   },
   "outputs": [
    {
     "name": "stdout",
     "output_type": "stream",
     "text": [
      "['ray deep speed strategy']\n",
      "['what is the default batch _ size for map _ batch ##es ?']\n"
     ]
    }
   ],
   "source": [
    "print (preprocess([\"RayDeepSpeedStrategy\"]))\n",
    "print (preprocess([\"What is the default batch_size for map_batches?\"]))"
   ]
  },
  {
   "cell_type": "code",
   "execution_count": null,
   "id": "06cf1e5c-1e25-4c63-b7ed-1ed731727e13",
   "metadata": {
    "tags": []
   },
   "outputs": [
    {
     "data": {
      "text/html": [
       "<style>#sk-container-id-1 {color: black;}#sk-container-id-1 pre{padding: 0;}#sk-container-id-1 div.sk-toggleable {background-color: white;}#sk-container-id-1 label.sk-toggleable__label {cursor: pointer;display: block;width: 100%;margin-bottom: 0;padding: 0.3em;box-sizing: border-box;text-align: center;}#sk-container-id-1 label.sk-toggleable__label-arrow:before {content: \"▸\";float: left;margin-right: 0.25em;color: #696969;}#sk-container-id-1 label.sk-toggleable__label-arrow:hover:before {color: black;}#sk-container-id-1 div.sk-estimator:hover label.sk-toggleable__label-arrow:before {color: black;}#sk-container-id-1 div.sk-toggleable__content {max-height: 0;max-width: 0;overflow: hidden;text-align: left;background-color: #f0f8ff;}#sk-container-id-1 div.sk-toggleable__content pre {margin: 0.2em;color: black;border-radius: 0.25em;background-color: #f0f8ff;}#sk-container-id-1 input.sk-toggleable__control:checked~div.sk-toggleable__content {max-height: 200px;max-width: 100%;overflow: auto;}#sk-container-id-1 input.sk-toggleable__control:checked~label.sk-toggleable__label-arrow:before {content: \"▾\";}#sk-container-id-1 div.sk-estimator input.sk-toggleable__control:checked~label.sk-toggleable__label {background-color: #d4ebff;}#sk-container-id-1 div.sk-label input.sk-toggleable__control:checked~label.sk-toggleable__label {background-color: #d4ebff;}#sk-container-id-1 input.sk-hidden--visually {border: 0;clip: rect(1px 1px 1px 1px);clip: rect(1px, 1px, 1px, 1px);height: 1px;margin: -1px;overflow: hidden;padding: 0;position: absolute;width: 1px;}#sk-container-id-1 div.sk-estimator {font-family: monospace;background-color: #f0f8ff;border: 1px dotted black;border-radius: 0.25em;box-sizing: border-box;margin-bottom: 0.5em;}#sk-container-id-1 div.sk-estimator:hover {background-color: #d4ebff;}#sk-container-id-1 div.sk-parallel-item::after {content: \"\";width: 100%;border-bottom: 1px solid gray;flex-grow: 1;}#sk-container-id-1 div.sk-label:hover label.sk-toggleable__label {background-color: #d4ebff;}#sk-container-id-1 div.sk-serial::before {content: \"\";position: absolute;border-left: 1px solid gray;box-sizing: border-box;top: 0;bottom: 0;left: 50%;z-index: 0;}#sk-container-id-1 div.sk-serial {display: flex;flex-direction: column;align-items: center;background-color: white;padding-right: 0.2em;padding-left: 0.2em;position: relative;}#sk-container-id-1 div.sk-item {position: relative;z-index: 1;}#sk-container-id-1 div.sk-parallel {display: flex;align-items: stretch;justify-content: center;background-color: white;position: relative;}#sk-container-id-1 div.sk-item::before, #sk-container-id-1 div.sk-parallel-item::before {content: \"\";position: absolute;border-left: 1px solid gray;box-sizing: border-box;top: 0;bottom: 0;left: 50%;z-index: -1;}#sk-container-id-1 div.sk-parallel-item {display: flex;flex-direction: column;z-index: 1;position: relative;background-color: white;}#sk-container-id-1 div.sk-parallel-item:first-child::after {align-self: flex-end;width: 50%;}#sk-container-id-1 div.sk-parallel-item:last-child::after {align-self: flex-start;width: 50%;}#sk-container-id-1 div.sk-parallel-item:only-child::after {width: 0;}#sk-container-id-1 div.sk-dashed-wrapped {border: 1px dashed gray;margin: 0 0.4em 0.5em 0.4em;box-sizing: border-box;padding-bottom: 0.4em;background-color: white;}#sk-container-id-1 div.sk-label label {font-family: monospace;font-weight: bold;display: inline-block;line-height: 1.2em;}#sk-container-id-1 div.sk-label-container {text-align: center;}#sk-container-id-1 div.sk-container {/* jupyter's `normalize.less` sets `[hidden] { display: none; }` but bootstrap.min.css set `[hidden] { display: none !important; }` so we also need the `!important` here to be able to override the default hidden behavior on the sphinx rendered scikit-learn.org. See: https://github.com/scikit-learn/scikit-learn/issues/21755 */display: inline-block !important;position: relative;}#sk-container-id-1 div.sk-text-repr-fallback {display: none;}</style><div id=\"sk-container-id-1\" class=\"sk-top-container\"><div class=\"sk-text-repr-fallback\"><pre>Pipeline(steps=[(&#x27;preprocess&#x27;,\n",
       "                 FunctionTransformer(func=&lt;function preprocess at 0x7f1636144280&gt;)),\n",
       "                (&#x27;vectorizer&#x27;, TfidfVectorizer()),\n",
       "                (&#x27;classifier&#x27;, LogisticRegression(multi_class=&#x27;multinomial&#x27;))])</pre><b>In a Jupyter environment, please rerun this cell to show the HTML representation or trust the notebook. <br />On GitHub, the HTML representation is unable to render, please try loading this page with nbviewer.org.</b></div><div class=\"sk-container\" hidden><div class=\"sk-item sk-dashed-wrapped\"><div class=\"sk-label-container\"><div class=\"sk-label sk-toggleable\"><input class=\"sk-toggleable__control sk-hidden--visually\" id=\"sk-estimator-id-1\" type=\"checkbox\" ><label for=\"sk-estimator-id-1\" class=\"sk-toggleable__label sk-toggleable__label-arrow\">Pipeline</label><div class=\"sk-toggleable__content\"><pre>Pipeline(steps=[(&#x27;preprocess&#x27;,\n",
       "                 FunctionTransformer(func=&lt;function preprocess at 0x7f1636144280&gt;)),\n",
       "                (&#x27;vectorizer&#x27;, TfidfVectorizer()),\n",
       "                (&#x27;classifier&#x27;, LogisticRegression(multi_class=&#x27;multinomial&#x27;))])</pre></div></div></div><div class=\"sk-serial\"><div class=\"sk-item\"><div class=\"sk-estimator sk-toggleable\"><input class=\"sk-toggleable__control sk-hidden--visually\" id=\"sk-estimator-id-2\" type=\"checkbox\" ><label for=\"sk-estimator-id-2\" class=\"sk-toggleable__label sk-toggleable__label-arrow\">FunctionTransformer</label><div class=\"sk-toggleable__content\"><pre>FunctionTransformer(func=&lt;function preprocess at 0x7f1636144280&gt;)</pre></div></div></div><div class=\"sk-item\"><div class=\"sk-estimator sk-toggleable\"><input class=\"sk-toggleable__control sk-hidden--visually\" id=\"sk-estimator-id-3\" type=\"checkbox\" ><label for=\"sk-estimator-id-3\" class=\"sk-toggleable__label sk-toggleable__label-arrow\">TfidfVectorizer</label><div class=\"sk-toggleable__content\"><pre>TfidfVectorizer()</pre></div></div></div><div class=\"sk-item\"><div class=\"sk-estimator sk-toggleable\"><input class=\"sk-toggleable__control sk-hidden--visually\" id=\"sk-estimator-id-4\" type=\"checkbox\" ><label for=\"sk-estimator-id-4\" class=\"sk-toggleable__label sk-toggleable__label-arrow\">LogisticRegression</label><div class=\"sk-toggleable__content\"><pre>LogisticRegression(multi_class=&#x27;multinomial&#x27;)</pre></div></div></div></div></div></div></div>"
      ],
      "text/plain": [
       "Pipeline(steps=[('preprocess',\n",
       "                 FunctionTransformer(func=<function preprocess at 0x7f1636144280>)),\n",
       "                ('vectorizer', TfidfVectorizer()),\n",
       "                ('classifier', LogisticRegression(multi_class='multinomial'))])"
      ]
     },
     "execution_count": null,
     "metadata": {},
     "output_type": "execute_result"
    }
   ],
   "source": [
    "# Train classifier\n",
    "from rag.rerank import preprocess  # for pickle\n",
    "reranker = Pipeline([\n",
    "    (\"preprocess\", FunctionTransformer(preprocess)),\n",
    "    (\"vectorizer\", TfidfVectorizer(lowercase=True)),\n",
    "    (\"classifier\", LogisticRegression(multi_class=\"multinomial\", solver=\"lbfgs\"))\n",
    "])\n",
    "reranker.fit(train_df[\"question\"].tolist(), train_df[\"tag\"].tolist())"
   ]
  },
  {
   "cell_type": "markdown",
   "id": "5ca92791-37a1-4f9b-8197-21404cf25446",
   "metadata": {},
   "source": [
    "## Evaluation"
   ]
  },
  {
   "cell_type": "markdown",
   "id": "4859ff32-08c4-4fc7-b722-34cff7de5468",
   "metadata": {},
   "source": [
    "We're now ready to evaluate our trained reranking model. We're going to use a custom prediction function that will predict `other` unless the probability of the highest class is above a certain threshold."
   ]
  },
  {
   "cell_type": "code",
   "execution_count": null,
   "id": "ab60e32a-2d10-4ef6-94f1-e5d2eae0034d",
   "metadata": {
    "tags": []
   },
   "outputs": [],
   "source": [
    "import numpy as np\n",
    "import matplotlib.pyplot as plt\n",
    "from sklearn.metrics import confusion_matrix\n",
    "import seaborn as sns"
   ]
  },
  {
   "cell_type": "code",
   "execution_count": null,
   "id": "9c690de3-70cd-48ce-a4ed-4fa19d0b55e3",
   "metadata": {
    "tags": []
   },
   "outputs": [],
   "source": [
    "def custom_predict(inputs, classifier, threshold=0.3, other_label=\"other\"):\n",
    "    y_pred = []\n",
    "    for item in classifier.predict_proba(inputs):\n",
    "        prob = max(item)\n",
    "        index = item.argmax()\n",
    "        if prob >= threshold:\n",
    "            pred = classifier.classes_[index]\n",
    "        else:\n",
    "            pred = other_label\n",
    "        y_pred.append(pred)\n",
    "    return y_pred"
   ]
  },
  {
   "cell_type": "code",
   "execution_count": null,
   "id": "ea720a75-0226-4409-81ed-de1f8be39292",
   "metadata": {
    "tags": []
   },
   "outputs": [],
   "source": [
    "# Evaluation\n",
    "metrics = {}\n",
    "y_test = test_df[\"tag\"]\n",
    "y_pred = custom_predict(inputs=test_df[\"question\"], classifier=reranker)"
   ]
  },
  {
   "cell_type": "code",
   "execution_count": null,
   "id": "16745bc8-3ee5-4022-b241-ef0aed70a5bb",
   "metadata": {
    "tags": []
   },
   "outputs": [
    {
     "data": {
      "image/png": "[encoded data removed]",
      "text/plain": [
       "<Figure size 600x400 with 2 Axes>"
      ]
     },
     "metadata": {},
     "output_type": "display_data"
    }
   ],
   "source": [
    "# Confusion matrix\n",
    "cm = confusion_matrix(y_test, y_pred)\n",
    "plt.figure(figsize=(6,4))\n",
    "sns.heatmap(cm, annot=True, fmt=\"d\", cmap=\"Blues\", \n",
    "            xticklabels=reranker.classes_, yticklabels=reranker.classes_)\n",
    "plt.ylabel(\"Actual\")\n",
    "plt.xlabel(\"Predicted\")\n",
    "plt.title(\"Confusion Matrix\")\n",
    "plt.xticks(rotation=65)\n",
    "plt.show()"
   ]
  },
  {
   "cell_type": "code",
   "execution_count": null,
   "id": "a66eeb74-4f78-4f47-938e-f26eb5f80c87",
   "metadata": {
    "tags": []
   },
   "outputs": [
    {
     "name": "stdout",
     "output_type": "stream",
     "text": [
      "{\n",
      "    \"precision\": 0.9148106435572009,\n",
      "    \"recall\": 0.9013961605584643,\n",
      "    \"f1\": 0.9044027326699744,\n",
      "    \"num_samples\": 1146.0\n",
      "}\n"
     ]
    }
   ],
   "source": [
    "# Metrics\n",
    "overall_metrics = precision_recall_fscore_support(y_test, y_pred, average=\"weighted\")\n",
    "metrics[\"precision\"] = overall_metrics[0]\n",
    "metrics[\"recall\"] = overall_metrics[1]\n",
    "metrics[\"f1\"] = overall_metrics[2]\n",
    "metrics[\"num_samples\"] = np.float64(len(y_test))\n",
    "print (json.dumps(metrics, indent=4))"
   ]
  },
  {
   "cell_type": "markdown",
   "id": "cc36b39e-d20a-439c-9337-33bb1f93c6d0",
   "metadata": {},
   "source": [
    "For the evaluation above, we arbitrarily chose a threshold but let's see how different thresholds affect our performance."
   ]
  },
  {
   "cell_type": "code",
   "execution_count": null,
   "id": "5015ddeb-7e13-4f22-a848-0880081d9c86",
   "metadata": {
    "tags": []
   },
   "outputs": [
    {
     "name": "stderr",
     "output_type": "stream",
     "text": [
      "100%|██████████| 20/20 [00:13<00:00,  1.48it/s]\n"
     ]
    }
   ],
   "source": [
    "# Performance by threshold\n",
    "threshold_performance = {}\n",
    "for threshold in tqdm(np.arange(0, 1, 0.05)):\n",
    "    y_test = test_df[\"tag\"]\n",
    "    y_pred = custom_predict(inputs=test_df[\"question\"], classifier=reranker, threshold=threshold)\n",
    "    threshold_performance[threshold] = {} \n",
    "    overall_metrics = precision_recall_fscore_support(y_test, y_pred, average=\"weighted\")\n",
    "    threshold_performance[threshold][\"precision\"] = overall_metrics[0]\n",
    "    threshold_performance[threshold][\"recall\"] = overall_metrics[1]\n",
    "    threshold_performance[threshold][\"f1\"] = overall_metrics[2]"
   ]
  },
  {
   "cell_type": "code",
   "execution_count": null,
   "id": "f51b0a84-0527-42b6-a7da-c995d8570dd5",
   "metadata": {
    "tags": []
   },
   "outputs": [
    {
     "data": {
      "text/plain": [
       "{0.0: {'precision': 0.9180819707738125,\n",
       "  'recall': 0.9179755671902269,\n",
       "  'f1': 0.9162034140895134},\n",
       " 0.05: {'precision': 0.9180819707738125,\n",
       "  'recall': 0.9179755671902269,\n",
       "  'f1': 0.9162034140895134},\n",
       " 0.1: {'precision': 0.9180819707738125,\n",
       "  'recall': 0.9179755671902269,\n",
       "  'f1': 0.9162034140895134},\n",
       " 0.15000000000000002: {'precision': 0.9180819707738125,\n",
       "  'recall': 0.9179755671902269,\n",
       "  'f1': 0.9162034140895134},\n",
       " 0.2: {'precision': 0.9168129573272782,\n",
       "  'recall': 0.9171029668411868,\n",
       "  'f1': 0.9154520876579969},\n",
       " 0.25: {'precision': 0.9124495944697921,\n",
       "  'recall': 0.9101221640488656,\n",
       "  'f1': 0.9096314625502252},\n",
       " 0.30000000000000004: {'precision': 0.9148106435572009,\n",
       "  'recall': 0.9013961605584643,\n",
       "  'f1': 0.9044027326699744},\n",
       " 0.35000000000000003: {'precision': 0.9137889973110634,\n",
       "  'recall': 0.8821989528795812,\n",
       "  'f1': 0.890165010808286},\n",
       " 0.4: {'precision': 0.9155206596826644,\n",
       "  'recall': 0.868237347294939,\n",
       "  'f1': 0.8804772303970931},\n",
       " 0.45: {'precision': 0.9188267761997132,\n",
       "  'recall': 0.8403141361256544,\n",
       "  'f1': 0.8614669492391279},\n",
       " 0.5: {'precision': 0.9220559889471757,\n",
       "  'recall': 0.81239092495637,\n",
       "  'f1': 0.8423187004852188},\n",
       " 0.55: {'precision': 0.9206984960943168,\n",
       "  'recall': 0.7835951134380453,\n",
       "  'f1': 0.8195807324776334},\n",
       " 0.6000000000000001: {'precision': 0.9230986800532983,\n",
       "  'recall': 0.7504363001745201,\n",
       "  'f1': 0.7933430698280342},\n",
       " 0.65: {'precision': 0.9334338229022018,\n",
       "  'recall': 0.7146596858638743,\n",
       "  'f1': 0.7641916968414101},\n",
       " 0.7000000000000001: {'precision': 0.9312935642496338,\n",
       "  'recall': 0.675392670157068,\n",
       "  'f1': 0.7301340027891418},\n",
       " 0.75: {'precision': 0.9306331577374501,\n",
       "  'recall': 0.6378708551483421,\n",
       "  'f1': 0.6966992137340271},\n",
       " 0.8: {'precision': 0.9294337318404851,\n",
       "  'recall': 0.5724258289703316,\n",
       "  'f1': 0.6403384230292982},\n",
       " 0.8500000000000001: {'precision': 0.9286221242234208,\n",
       "  'recall': 0.5087260034904014,\n",
       "  'f1': 0.5749765331856667},\n",
       " 0.9: {'precision': 0.8931385124499618,\n",
       "  'recall': 0.3970331588132635,\n",
       "  'f1': 0.45826415384050706},\n",
       " 0.9500000000000001: {'precision': 0.8054279633538464,\n",
       "  'recall': 0.26527050610820246,\n",
       "  'f1': 0.3097888037759067}}"
      ]
     },
     "execution_count": null,
     "metadata": {},
     "output_type": "execute_result"
    }
   ],
   "source": [
    "threshold_performance"
   ]
  },
  {
   "cell_type": "code",
   "execution_count": null,
   "id": "3bcea0bc-a4db-4e96-8968-be23b5aa96eb",
   "metadata": {
    "tags": []
   },
   "outputs": [
    {
     "data": {
      "image/png": "[encoded data removed]",
      "text/plain": [
       "<Figure size 640x480 with 1 Axes>"
      ]
     },
     "metadata": {},
     "output_type": "display_data"
    }
   ],
   "source": [
    "# Extracting x-axis and y-axis values\n",
    "x = list(threshold_performance.keys())\n",
    "precision = [values[\"precision\"] for values in threshold_performance.values()]\n",
    "recall = [values[\"recall\"] for values in threshold_performance.values()]\n",
    "f1 = [values[\"f1\"] for values in threshold_performance.values()]\n",
    "\n",
    "# Plotting the data\n",
    "plt.plot(x, precision, marker=\"o\", color=\"red\", label=\"Precision\")\n",
    "plt.plot(x, recall, marker=\"o\", color=\"green\", label=\"Recall\")\n",
    "plt.plot(x, f1, marker=\"o\", color=\"blue\", label=\"F1-Score\")\n",
    "\n",
    "# Setting the labels and title\n",
    "plt.xlabel(\"Thresholds\")\n",
    "plt.ylabel(\"Performance\")\n",
    "plt.title(\"Performance by threshold\")\n",
    "plt.legend()\n",
    "plt.grid(True)\n",
    "plt.show()"
   ]
  },
  {
   "cell_type": "markdown",
   "id": "40364870-7f40-457e-9bbd-bd51f8619022",
   "metadata": {},
   "source": [
    "Precision will be the most important metric here because we will only apply reranking if the softmax probability of our predicted tag is above the threshold value. Since `threshold=0.7` has the highest precision value, we expect it to improve the quality of the system the most."
   ]
  },
  {
   "cell_type": "markdown",
   "id": "9e2189b4-3b76-4770-b70e-f841a4133899",
   "metadata": {},
   "source": [
    "## Testing"
   ]
  },
  {
   "cell_type": "markdown",
   "id": "def64f1e-3c02-498f-b233-92894abc1892",
   "metadata": {},
   "source": [
    "Besides just a metric based evaluation, we also want to assess how our model performs on some minimum functionality tests. We need all of these basic sanity checks to pass regardless of what type of model we use."
   ]
  },
  {
   "cell_type": "code",
   "execution_count": null,
   "id": "fe8101fe-d45f-4343-839e-29b904eb162c",
   "metadata": {
    "tags": []
   },
   "outputs": [],
   "source": [
    "def predict_proba(question, classifier):\n",
    "    y_prob = classifier.predict_proba([question])\n",
    "    zipped = list(zip(y_prob[0], classifier.classes_))\n",
    "    return sorted(zipped, key=lambda x: x[0], reverse=True)"
   ]
  },
  {
   "cell_type": "code",
   "execution_count": null,
   "id": "70cf7edb-7eb9-4692-9b60-57cea8aa0ede",
   "metadata": {
    "tags": []
   },
   "outputs": [
    {
     "name": "stdout",
     "output_type": "stream",
     "text": [
      "[train]: How to train a train an LLM using DeepSpeed? → ['how to train a train an ll ##m using deep speed ?']\n",
      "[ray-core]: Does Ray run on TPUs? → ['does ray run on t ##pus ?']\n",
      "[serve]: How does autoscaling work in a Ray Serve application? → ['how does auto ##sca ##ling work in a ray serve application ?']\n",
      "[tune]: How to find the best checkpoint from the trial directory? → ['how to find the best checkpoint from the trial directory ?']\n",
      "[data]: How do I avoid my dataset shuffling during a ray.data.map_batches? → ['how do i avoid my data ##set shuffling during a ray . data . map _ batch ##es ?']\n",
      "[ray-core]: how to push a custom module to ray which is using by Actor? → ['how to push a custom module to ray which is using by actor ?']\n",
      "[other]: How would you compare Spark, Ray, Dask? → ['how would you compare spark , ray , das ##k ?']\n",
      "[ray-observability]: How do I enable Ray debug logs? → ['how do i enable ray de ##bu ##g logs ?']\n",
      "[rllib]: How do I set a maximum episode length when training with Rllib → ['how do i set a maximum episode length when training with r ##lli ##b']\n"
     ]
    }
   ],
   "source": [
    "# Basic tests\n",
    "tests = [\n",
    "    {\"question\": \"How to train a train an LLM using DeepSpeed?\", \"tag\": \"train\"},\n",
    "    {\"question\": \"Does Ray run on TPUs?\", \"tag\": \"ray-core\"},\n",
    "    {\"question\": \"How does autoscaling work in a Ray Serve application?\", \"tag\": \"serve\"},\n",
    "    {\"question\": \"How to find the best checkpoint from the trial directory?\", \"tag\": \"tune\"},\n",
    "    {\"question\": \"How do I avoid my dataset shuffling during a ray.data.map_batches?\", \"tag\": \"data\"},\n",
    "    {\"question\": \"how to push a custom module to ray which is using by Actor?\", \"tag\": \"ray-core\"},\n",
    "    {\"question\": \"How would you compare Spark, Ray, Dask?\", \"tag\": \"other\"},\n",
    "    {\"question\": \"How do I enable Ray debug logs?\", \"tag\": \"ray-observability\"},\n",
    "    {\"question\": \"How do I set a maximum episode length when training with Rllib\", \"tag\": \"rllib\"}]\n",
    "for test in tests:\n",
    "    question = test[\"question\"]\n",
    "    prediction = predict_proba(question=test[\"question\"], classifier=reranker)[0][1]\n",
    "    print (f\"[{prediction}]: {question} → {preprocess([question])}\")\n",
    "    assert (prediction == test[\"tag\"])"
   ]
  },
  {
   "cell_type": "markdown",
   "id": "f640f3ee-bc42-4f96-a0fb-f11c4015f2b4",
   "metadata": {},
   "source": [
    "## Experiment"
   ]
  },
  {
   "cell_type": "markdown",
   "id": "cd7be07c-fee9-4b04-bb31-d58e07a17700",
   "metadata": {},
   "source": [
    "Now we're ready to apply our reranking model post retrieval using these steps:\n",
    "1. Increase the retrieved context (can experiment with this) so that we can apply reranking to yield a smaller subset (`num_chunks`). The intuition here is that we'll use semantic and lexical search to retrieve N chunks (N > k) and then we'll use reranking to reorder the retrieved results (top k).\n",
    "2. If the predicted tag is above the `threshold`, then we will move all retrieved sources from that tag to the top. If the predicted tag is below the threshold, then no reranking will be performed. The intuition here is that, unless we are confident about which parts of our documentation a specific query pertains to (or if it happens to involve multiple parts), then we will not incorrectly rerank the results.\n",
    "3. Perform generation using the top k retrieved chunks."
   ]
  },
  {
   "cell_type": "code",
   "execution_count": null,
   "id": "e33e0cc2-f4f7-4176-9e8a-9b38a74daa22",
   "metadata": {
    "tags": []
   },
   "outputs": [],
   "source": [
    "import pickle"
   ]
  },
  {
   "cell_type": "code",
   "execution_count": null,
   "id": "05f2ff19-7e59-4f63-9f50-060c5bffb871",
   "metadata": {
    "tags": []
   },
   "outputs": [],
   "source": [
    "# Save\n",
    "reranker_fp = Path(EFS_DIR, \"reranker.pkl\")\n",
    "with open(reranker_fp, \"wb\") as file:\n",
    "    pickle.dump(reranker, file)"
   ]
  },
  {
   "cell_type": "code",
   "execution_count": null,
   "id": "7375646d-e008-4f56-8d3b-86ef21a2e87f",
   "metadata": {
    "tags": []
   },
   "outputs": [],
   "source": [
    "# Load\n",
    "reranker_fp = Path(EFS_DIR, \"reranker.pkl\")\n",
    "with open(reranker_fp, \"rb\") as file:\n",
    "    reranker = pickle.load(file)"
   ]
  },
  {
   "cell_type": "code",
   "execution_count": null,
   "id": "4170ac2b-9c72-4275-ae75-fa610f751f09",
   "metadata": {
    "tags": []
   },
   "outputs": [
    {
     "data": {
      "text/plain": [
       "'train'"
      ]
     },
     "execution_count": null,
     "metadata": {},
     "output_type": "execute_result"
    }
   ],
   "source": [
    "# Test inference\n",
    "question = \"traning with deepspeed?\"\n",
    "custom_predict([question], classifier=reranker)[0]"
   ]
  },
  {
   "cell_type": "markdown",
   "id": "99ce7c04-9da0-43e3-b5db-2c59aff3fe87",
   "metadata": {},
   "source": [
    "We're going to alter our `QueryAgent` class directly to include reranking:\n",
    "\n",
    "```python\n",
    "class QueryAgent():\n",
    "    def __init__(rerank=True, **kwargs):\n",
    "        # Reranker\n",
    "        self.reranker = None\n",
    "        if rerank:\n",
    "            reranker_fp = Path(EFS_DIR, \"reranker.pkl\")\n",
    "            with open(reranker_fp, \"rb\") as file:\n",
    "                self.reranker = pickle.load(file)\n",
    "    \n",
    "    def __call__(rerank_threshold=0.3, rerank_k=7, **kwargs):\n",
    "        # Rerank\n",
    "        if self.reranker:\n",
    "            predicted_tag = custom_predict(\n",
    "                inputs=[query], classifier=self.reranker, threshold=rerank_threshold)[0]\n",
    "            if predicted_tag != \"other\":\n",
    "                sources = [item[\"source\"] for item in context_results]\n",
    "                reranked_indices = get_reranked_indices(sources, predicted_tag)\n",
    "                context_results = [context_results[i] for i in reranked_indices]\n",
    "            context_results = context_results[:rerank_k]\n",
    "```\n",
    "\n",
    "And the rerank function (along with other utilities specific to reranking) will now be placed in `rerank.py`:\n",
    "```python\n",
    "def get_reranked_indices(sources, predicted_tag):\n",
    "    tags = [get_tag(source) for source in sources]\n",
    "    reranked_indices = sorted(range(len(tags)), \n",
    "        key=lambda i: (tags[i] != predicted_tag, i))\n",
    "    return reranked_indices\n",
    "```"
   ]
  },
  {
   "cell_type": "markdown",
   "id": "61f82f9f-694d-4c49-b39d-8cab4c285b13",
   "metadata": {},
   "source": [
    "And with that, let's use our query agent augmented with reranking on an evaluation run. We will experiment with various reranking threshold values. **Note**: a threshold of zero is the same as not using any threshold."
   ]
  },
  {
   "cell_type": "code",
   "execution_count": null,
   "id": "241669de-76ac-4987-848d-edb81ca917f7",
   "metadata": {
    "tags": []
   },
   "outputs": [],
   "source": [
    "experiment_names = []\n",
    "rerank_threshold_list = [0, 0.3, 0.5, 0.7, 0.9]"
   ]
  },
  {
   "cell_type": "code",
   "execution_count": null,
   "id": "6064fde8-5fe5-4f83-8b4c-dc7aa339fd21",
   "metadata": {
    "tags": []
   },
   "outputs": [
    {
     "data": {
      "application/json": {
       "generated_answer": " To kill a specific serve replica, you can use the `ray.kill` function and pass in the replica handle as an argument. You can obtain the replica handle by using the `ray.get_actor` function and passing in the replica's name and namespace.\n\nHere's an example of how you can kill a specific serve replica:\n```\n>>> import ray\n>>> replica_handle = ray.get_actor(\"SERVE_REPLICA::SleepyPid#RlRptP\", namespace=\"serve\")\n>>> ray.kill(replica_handle, no_restart=True)\n```\nIn this example, the replica handle is obtained using the `ray.get_actor` function, and then the `ray.kill` function is used to kill the replica. The `no_restart` argument is set to `True` to prevent the replica from being restarted.\n\nNote that killing a replica will cause the replica to be removed from the deployment, and any requests that were being processed by the replica will be lost. If you want to simulate a replica failure without losing requests, you can use the `ray.kill` function with the `no_restart` argument set to `False`. This will cause the replica to be restarted, and any requests that were being processed by the replica will be re-routed to the new replica.",
       "question": "how do I kill a specific serve replica",
       "reasoning": "The generated answer is comprehensive and provides a detailed step-by-step guide on how to kill a specific serve replica. It also includes a code example and additional information about the implications of killing a replica. The reference answer does not provide any useful information, but the generated answer is still accurate and helpful.",
       "reference_answer": "The context does not provide information on how to kill a specific serve replica.",
       "score": 5,
       "sources": [
        "https://docs.ray.io/en/master/serve/production-guide/fault-tolerance.html#deployment-replica-failure",
        "https://docs.ray.io/en/master/serve/advanced-guides/dev-workflow.html#local-development-with-http-requests",
        "https://docs.ray.io/en/master/serve/api/index.html#delete-api-serve-deployments",
        "https://docs.ray.io/en/master/serve/production-guide/fault-tolerance.html#deployment-replica-failure",
        "https://docs.ray.io/en/master/serve/production-guide/fault-tolerance.html#serve-controller-failure",
        "https://docs.ray.io/en/master/serve/scaling-and-resource-allocation.html#autoscaling",
        "https://docs.ray.io/en/master/serve/advanced-guides/dev-workflow.html#local-development-with-http-requests",
        "https://docs.ray.io/en/master/serve/deploy-many-models/model-multiplexing.html#writing-a-multiplexed-deployment"
       ]
      },
      "text/plain": [
       "<IPython.core.display.JSON object>"
      ]
     },
     "metadata": {
      "application/json": {
       "expanded": false,
       "root": "root"
      }
     },
     "output_type": "display_data"
    },
    {
     "name": "stderr",
     "output_type": "stream",
     "text": [
      "100%|██████████| 177/177 [24:16<00:00,  8.23s/it]\n"
     ]
    }
   ],
   "source": [
    "# Experiment\n",
    "use_reranking = True\n",
    "for rerank_threshold in rerank_threshold_list:\n",
    "    experiment_name = f\"rerank-{rerank_threshold}\"\n",
    "    experiment_names.append(experiment_name)\n",
    "    run_experiment(\n",
    "        experiment_name=experiment_name, \n",
    "        chunk_size=CHUNK_SIZE, \n",
    "        chunk_overlap=CHUNK_OVERLAP, \n",
    "        num_chunks=30,  # increased num chunks since we will retrieve top k\n",
    "        embedding_model_name=EMBEDDING_MODEL_NAME,\n",
    "        llm=LLM,\n",
    "        evaluator=EVALUATOR,\n",
    "        docs_dir=DOCS_DIR, \n",
    "        experiments_dir=EXPERIMENTS_DIR, \n",
    "        references_fp=REFERENCES_FILE_PATH,\n",
    "        use_lexical_search=USE_LEXICAL_SEARCH,\n",
    "        lexical_search_k=LEXICAL_SEARCH_K,\n",
    "        use_reranking=use_reranking,\n",
    "        rerank_threshold=rerank_threshold,\n",
    "        rerank_k=NUM_CHUNKS + LEXICAL_SEARCH_K, # subset of larger num_chunks \n",
    "        num_samples=NUM_SAMPLES)"
   ]
  },
  {
   "cell_type": "code",
   "execution_count": null,
   "id": "d6a75643-408d-4a85-9394-dabebf2a2940",
   "metadata": {
    "tags": []
   },
   "outputs": [
    {
     "name": "stdout",
     "output_type": "stream",
     "text": [
      "rerank-0\n",
      "  retrieval score: 0.6214689265536724\n",
      "  quality score: 3.5762711864406778\n",
      "\n",
      "rerank-0.3\n",
      "  retrieval score: 0.6610169491525424\n",
      "  quality score: 3.556497175141243\n",
      "\n",
      "rerank-0.5\n",
      "  retrieval score: 0.7005649717514124\n",
      "  quality score: 3.559322033898305\n",
      "\n",
      "rerank-0.7\n",
      "  retrieval score: 0.711864406779661\n",
      "  quality score: 3.672316384180791\n",
      "\n",
      "rerank-0.9\n",
      "  retrieval score: 0.7005649717514124\n",
      "  quality score: 3.672316384180791\n",
      "\n"
     ]
    },
    {
     "data": {
      "image/png": "[encoded data removed]",
      "text/plain": [
       "<Figure size 1000x300 with 1 Axes>"
      ]
     },
     "metadata": {},
     "output_type": "display_data"
    }
   ],
   "source": [
    "scores = {}\n",
    "for experiment_name in experiment_names:\n",
    "    scores[experiment_name] = print_experiment(experiment_name, EXPERIMENTS_DIR)\n",
    "plot_scores(scores=scores)"
   ]
  },
  {
   "cell_type": "code",
   "execution_count": null,
   "id": "65429a21-ee23-4d0a-9dee-60a4a4b09d09",
   "metadata": {
    "tags": []
   },
   "outputs": [],
   "source": [
    "RERANK_K = NUM_CHUNKS + LEXICAL_SEARCH_K\n",
    "NUM_CHUNKS = 30\n",
    "USE_RERANKING = True\n",
    "RERANK_THRESHOLD = 0.7"
   ]
  },
  {
   "cell_type": "markdown",
   "id": "628021f8-e79b-46e5-a8e0-ca7deb3be134",
   "metadata": {},
   "source": [
    "**Note**: there is still a lot more to experiment with reranking (increasing the initial num_chunks, adding lexical search resutls *after* reranking, weighted reranking where we promote the top N classes, etc.)"
   ]
  },
  {
   "cell_type": "code",
   "execution_count": null,
   "id": "ab2471f9-bfd8-4271-b3a3-999b27f489f8",
   "metadata": {
    "tags": []
   },
   "outputs": [
    {
     "data": {
      "text/plain": [
       "[('gpt-4',\n",
       "  {'retrieval_score': 0.6892655367231638,\n",
       "   'quality_score': 3.7457627118644066}),\n",
       " ('rerank-0.7',\n",
       "  {'retrieval_score': 0.711864406779661, 'quality_score': 3.672316384180791}),\n",
       " ('rerank-0.9',\n",
       "  {'retrieval_score': 0.7005649717514124, 'quality_score': 3.672316384180791})]"
      ]
     },
     "execution_count": null,
     "metadata": {},
     "output_type": "execute_result"
    }
   ],
   "source": [
    "# Top experiments (by quality and retrieval score)\n",
    "top_n = 3\n",
    "experiment_results = {}\n",
    "all_experiments = [d for d in Path(EXPERIMENTS_DIR, \"evaluations\").iterdir() if d.is_file()]\n",
    "for experiment_fp in all_experiments:\n",
    "    with open(str(experiment_fp), \"r\") as fp:\n",
    "        results = json.load(fp)\n",
    "    experiment_results[results[\"config\"][\"experiment_name\"]] = {\n",
    "        \"retrieval_score\": results[\"retrieval_score\"], \n",
    "        \"quality_score\": results[\"quality_score\"]}\n",
    "sorted(experiment_results.items(), key=lambda i: (i[1].get(\"quality_score\", float('inf')), i[1].get(\"retrieval_score\")), reverse=True)[:top_n]"
   ]
  },
  {
   "cell_type": "markdown",
   "id": "f916ea05-4b99-4024-9211-ed35bb8ac9dc",
   "metadata": {
    "tags": [],
    "toc-hr-collapsed": true
   },
   "source": [
    "# Cost analysis"
   ]
  },
  {
   "cell_type": "markdown",
   "id": "2c420359-c506-4257-b0d8-8b826134d001",
   "metadata": {},
   "source": [
    "Besides just performance, we also want to evaluate the cost of our configurations (especially given the high price points of larger LLMs). We’re going to break this down into prompt and sampled pricing. The prompt size is the number of characters in our system, assistant and user contents (which includes the retrieved contexts). And the sampled size is the number of characters the LLM generated in its response."
   ]
  },
  {
   "cell_type": "markdown",
   "id": "96c145a5-e97e-4811-ba12-c1a37d71c171",
   "metadata": {
    "tags": []
   },
   "source": [
    "**Note**: Our OSS models are served via [Anyscale Endpoints](https://endpoints.anyscale.com/)."
   ]
  },
  {
   "cell_type": "code",
   "execution_count": null,
   "id": "ca18129b-62db-49af-9be3-2444d0af5751",
   "metadata": {
    "tags": []
   },
   "outputs": [],
   "source": [
    "# Pricing per 1M tokens\n",
    "pricing = {\n",
    "    \"gpt-3.5-turbo\": {\n",
    "        \"prompt\": 2,\n",
    "        \"sampled\": 2\n",
    "    },\n",
    "    \"gpt-4\": {\n",
    "        \"prompt\": 60,\n",
    "        \"sampled\": 30\n",
    "    },\n",
    "    \"llama-2-7b-chat-hf\": {\n",
    "        \"prompt\": 0.15,\n",
    "        \"sampled\": 0.15\n",
    "    },\n",
    "    \"llama-2-13b-chat-hf\": {\n",
    "        \"prompt\": 0.25,\n",
    "        \"sampled\": 0.25\n",
    "    },\n",
    "    \"llama-2-70b-chat-hf\": {\n",
    "        \"prompt\": 1,\n",
    "        \"sampled\": 1\n",
    "    },\n",
    "    \"codellama-34b-instruct-hf\": {\n",
    "        \"prompt\": 1,\n",
    "        \"sampled\": 1\n",
    "    },\n",
    "    \"mistral-7b-instruct-v0.1\": {\n",
    "        \"prompt\": 0.15,\n",
    "        \"sampled\": 0.15\n",
    "    }\n",
    "}"
   ]
  },
  {
   "cell_type": "code",
   "execution_count": null,
   "id": "7f020340-9357-4a48-976b-cdac2e467351",
   "metadata": {
    "tags": []
   },
   "outputs": [],
   "source": [
    "def cost_analysis(experiment_name):\n",
    "    eval_fp = Path(ROOT_DIR, EXPERIMENTS_DIR, \"evaluations\", f\"{experiment_name}_{EVALUATOR}.json\")\n",
    "    with open(eval_fp, \"r\") as fp:\n",
    "        d = json.load(fp)\n",
    "    num_samples = len(d[\"results\"])\n",
    "    prompt_size, sampled_size = 0, 0\n",
    "    for result in d[\"results\"]:\n",
    "        prompt_size += get_num_tokens(result[\"question\"]) + \\\n",
    "            ((CHUNK_SIZE/5)*(4/3) * RERANK_K)  # 5 chars / word, 1 token = 3/4 word\n",
    "        sampled_size += get_num_tokens(result[\"generated_answer\"])\n",
    "    total_cost = pricing[experiment_name][\"prompt\"]/1e6 * prompt_size + pricing[experiment_name][\"sampled\"]/1e6 * sampled_size\n",
    "    avg_cost = total_cost / num_samples\n",
    "    \n",
    "    print (experiment_name)\n",
    "    print (f\"  prompted tokens (avg): {int(prompt_size/num_samples)}\")\n",
    "    print (f\"  sampled tokens (avg): {int(sampled_size/num_samples)}\")\n",
    "    print (f\"  total cost: ${total_cost:.4f}\")\n",
    "    print (f\"  avg cost: ${avg_cost:.4f}\")\n",
    "    print ()\n",
    "    return avg_cost"
   ]
  },
  {
   "cell_type": "code",
   "execution_count": null,
   "id": "ee95574b-b355-4d5a-979b-467657bbd959",
   "metadata": {
    "tags": []
   },
   "outputs": [
    {
     "name": "stdout",
     "output_type": "stream",
     "text": [
      "gpt-3.5-turbo\n",
      "  prompted tokens (avg): 1508\n",
      "  sampled tokens (avg): 76\n",
      "  total cost: $0.5612\n",
      "  avg cost: $0.0032\n",
      "\n",
      "gpt-4\n",
      "  prompted tokens (avg): 1508\n",
      "  sampled tokens (avg): 102\n",
      "  total cost: $16.5691\n",
      "  avg cost: $0.0936\n",
      "\n",
      "llama-2-7b-chat-hf\n",
      "  prompted tokens (avg): 1508\n",
      "  sampled tokens (avg): 230\n",
      "  total cost: $0.0462\n",
      "  avg cost: $0.0003\n",
      "\n",
      "llama-2-13b-chat-hf\n",
      "  prompted tokens (avg): 1508\n",
      "  sampled tokens (avg): 181\n",
      "  total cost: $0.0748\n",
      "  avg cost: $0.0004\n",
      "\n",
      "llama-2-70b-chat-hf\n",
      "  prompted tokens (avg): 1508\n",
      "  sampled tokens (avg): 182\n",
      "  total cost: $0.2994\n",
      "  avg cost: $0.0017\n",
      "\n",
      "codellama-34b-instruct-hf\n",
      "  prompted tokens (avg): 1508\n",
      "  sampled tokens (avg): 172\n",
      "  total cost: $0.2975\n",
      "  avg cost: $0.0017\n",
      "\n",
      "mistral-7b-instruct-v0.1\n",
      "  prompted tokens (avg): 1508\n",
      "  sampled tokens (avg): 149\n",
      "  total cost: $0.0440\n",
      "  avg cost: $0.0002\n",
      "\n"
     ]
    }
   ],
   "source": [
    "scores = {}\n",
    "for experiment_name in pricing.keys():\n",
    "    scores[experiment_name] = print_experiment(experiment_name, EXPERIMENTS_DIR, verbose=False)\n",
    "    scores[experiment_name][\"average_cost\"] = cost_analysis(experiment_name=experiment_name)"
   ]
  },
  {
   "cell_type": "code",
   "execution_count": null,
   "id": "e58b0513-f630-47c2-a30f-aa900bfaa66c",
   "metadata": {
    "tags": []
   },
   "outputs": [
    {
     "data": {
      "image/png": "[encoded data removed]",
      "text/plain": [
       "<Figure size 1000x300 with 1 Axes>"
      ]
     },
     "metadata": {},
     "output_type": "display_data"
    }
   ],
   "source": [
    "# Prepare data for plotting\n",
    "experiment_names = list(scores.keys())\n",
    "average_costs = [scores[experiment_name][\"average_cost\"] for experiment_name in experiment_names]\n",
    "quality_scores = [scores[experiment_name][\"quality_score\"] for experiment_name in experiment_names]\n",
    "sorted_data = sorted(zip(quality_scores, average_costs, experiment_names))\n",
    "\n",
    "# Plotting\n",
    "plt.figure(figsize=(10, 3))\n",
    "for i, (q_score, avg_cost, exp_name) in enumerate(sorted_data):\n",
    "    plt.scatter(q_score, avg_cost, label=exp_name)\n",
    "    ha = \"right\"  # Horizontal alignment\n",
    "    va = \"bottom\"  # Vertical alignment\n",
    "    offset = 0.02  # Small offset for labels\n",
    "    if i > 0 and abs(sorted_data[i - 1][0] - q_score) < offset: ha = \"left\"  # Check left neighbor\n",
    "    if i < len(sorted_data) - 1 and abs(sorted_data[i + 1][0] - q_score) < offset: ha = \"right\"  # Check right neighbor\n",
    "    plt.text(q_score, avg_cost, exp_name, ha=ha, va=va, )\n",
    "\n",
    "# Add labels and title\n",
    "plt.xlabel(\"Quality Score\")\n",
    "plt.ylabel(\"Average cost / query ($)\")\n",
    "plt.legend(title=\"Experiments\")\n",
    "plt.yscale(\"log\")\n",
    "plt.show()"
   ]
  },
  {
   "cell_type": "markdown",
   "id": "d03dabb0-5a77-42da-b6c7-a65e8a5920a7",
   "metadata": {},
   "source": [
    "**Note**: This cost analysis is performed with our original experiments before lexical search, reranking, etc. since we haven't run experiments with these improvements on the other OSS and closed source LLMs yet. Our refined `codellama-34b` LLM now produces a quality score of 3.66 which is even closer to `gpt-4` here but incorporating our optimizations might also improve all these LLMs retrieval and quality scores."
   ]
  },
  {
   "cell_type": "markdown",
   "id": "d223b361-4d14-4ea1-804b-0eb92eb1224e",
   "metadata": {
    "tags": []
   },
   "source": [
    "# Routing"
   ]
  },
  {
   "cell_type": "markdown",
   "id": "2463c757-f54e-4905-bd8b-d00a32c2ec7d",
   "metadata": {},
   "source": [
    "It seems that the most performant LLM, `gpt-4`, is also the most expensive one. While `codellama-34b` is very close in quality but about 55X more cost-effective than `gpt-4` and 2X than `gpt-3.5-turbo`."
   ]
  },
  {
   "cell_type": "code",
   "execution_count": null,
   "id": "92b7786b-3776-469f-8589-326e5fb8918c",
   "metadata": {
    "tags": []
   },
   "outputs": [
    {
     "name": "stdout",
     "output_type": "stream",
     "text": [
      "Cost multiplier compared to codellama-34b-instruct-hf\n",
      "  gpt-3.5-turbo: 1.89X\n",
      "  gpt-4: 55.69X\n",
      "  llama-2-7b-chat-hf: 0.16X\n",
      "  llama-2-13b-chat-hf: 0.25X\n",
      "  llama-2-70b-chat-hf: 1.01X\n",
      "  codellama-34b-instruct-hf: 1.00X\n",
      "  mistral-7b-instruct-v0.1: 0.15X\n"
     ]
    }
   ],
   "source": [
    "# Cost multiplier\n",
    "chosen_model = LLM.split('/')[-1].lower()\n",
    "print (f\"Cost multiplier compared to {chosen_model}\")\n",
    "for model in scores:\n",
    "    print (f\"  {model}: {scores[model]['average_cost']/scores[chosen_model]['average_cost']:.2f}X\")"
   ]
  },
  {
   "cell_type": "markdown",
   "id": "29727066-6a67-4ff9-a4d4-b4517f5014c4",
   "metadata": {},
   "source": [
    "However, we want to be able to serve the most performant and cost-effective solution. We can close this gap in performance between open source and proprietary models by routing queries to the right model according to the complexity or topic of the query. For example, in our application, open source models perform really well on simple queries where the answer can be easily inferred from the retrieved context. However, the OSS models fall short for queries that involve reasoning, numbers or code examples. To identify the appropriate LLM to use, we can train a classifier that takes the query and routes it to the best model.\n",
    "\n",
    "<img width=\"800\" src=\"https://images.ctfassets.net/xjan103pcp94/7FWrvPPlIdz5fs8wQgxLFz/fdae368044275028f0544a3d252fcfe4/image15.png\">\n",
    "\n",
    "**Note**: In part 2 of this series, we’ll fine-tune our embedding models and OSS LLMs to make them even more performant.\n",
    "\n",
    "In order to implement this, we hand-annotated a [dataset of 1.8k queries](https://github.com/ray-project/llm-applications/blob/main/datasets/routing-dataset-train.jsonl) according to which model (`gpt-4` (label=0) or `codellama-34b` (label=1)) would be appropriate -- by default we route to `codellama-34b` and only if the query needs more advanced capabilities do we send the query to `gpt-4`. We then evaluate the performance of the model on a test set that has been scored with an evaluator."
   ]
  },
  {
   "cell_type": "markdown",
   "id": "1a731efa-7990-4856-a9e0-250be556505b",
   "metadata": {},
   "source": [
    "## Dataset"
   ]
  },
  {
   "cell_type": "markdown",
   "id": "d506e529-518b-4b37-bd81-4d5e7532b528",
   "metadata": {},
   "source": [
    "Let's first train the model on the training dataset [routing-dataset-training.jsonl](https://github.com/ray-project/llm-applications/blob/main/datasets/routing-dataset-train.jsonl):"
   ]
  },
  {
   "cell_type": "code",
   "execution_count": null,
   "id": "86e4a927-ab91-4189-97d2-35bd045c0360",
   "metadata": {
    "tags": []
   },
   "outputs": [],
   "source": [
    "with open(Path(ROOT_DIR, \"datasets\", \"routing-dataset-train.jsonl\")) as f:\n",
    "    records = [json.loads(l) for l in f]\n",
    "    texts = [record[\"question\"] for record in records]\n",
    "    labels = [record[\"target\"] for record in records]"
   ]
  },
  {
   "cell_type": "code",
   "execution_count": null,
   "id": "9d9a4d97-a39b-409e-9b45-ae609c9f651b",
   "metadata": {
    "tags": []
   },
   "outputs": [
    {
     "name": "stdout",
     "output_type": "stream",
     "text": [
      "Question for GPT-4:\n",
      " {'question': 'if I am inside of a anyscale cluster how do I get my cluster-env-build-id', 'target': 0}\n",
      "\n",
      "Question for Llama-2-70b:\n",
      " {'question': 'what is num_samples in tune?', 'target': 1}\n"
     ]
    }
   ],
   "source": [
    "# Sample records (1 = can be handled by OSS LLM)\n",
    "print (\"Question for gpt-4:\\n\", [record for record in records if record[\"target\"] == 0][0]) \n",
    "print (\"\\nQuestion for Llama-2-70b:\\n\", [record for record in records if record[\"target\"] == 1][0])"
   ]
  },
  {
   "cell_type": "markdown",
   "id": "ea873f02-d4e4-4bfa-b583-7d750c1144ff",
   "metadata": {},
   "source": [
    "## Modeling"
   ]
  },
  {
   "cell_type": "code",
   "execution_count": null,
   "id": "25404ad8-8300-4e6d-ac98-4117e4608128",
   "metadata": {},
   "outputs": [],
   "source": [
    "import pickle\n",
    "from sklearn.pipeline import Pipeline\n",
    "from sklearn.feature_extraction.text import CountVectorizer\n",
    "from sklearn.linear_model import LogisticRegression"
   ]
  },
  {
   "cell_type": "code",
   "execution_count": null,
   "id": "3021c4fa-caf1-489d-90d5-cf1890214c0d",
   "metadata": {
    "tags": []
   },
   "outputs": [
    {
     "data": {
      "text/html": [
       "<style>#sk-container-id-1 {color: black;}#sk-container-id-1 pre{padding: 0;}#sk-container-id-1 div.sk-toggleable {background-color: white;}#sk-container-id-1 label.sk-toggleable__label {cursor: pointer;display: block;width: 100%;margin-bottom: 0;padding: 0.3em;box-sizing: border-box;text-align: center;}#sk-container-id-1 label.sk-toggleable__label-arrow:before {content: \"▸\";float: left;margin-right: 0.25em;color: #696969;}#sk-container-id-1 label.sk-toggleable__label-arrow:hover:before {color: black;}#sk-container-id-1 div.sk-estimator:hover label.sk-toggleable__label-arrow:before {color: black;}#sk-container-id-1 div.sk-toggleable__content {max-height: 0;max-width: 0;overflow: hidden;text-align: left;background-color: #f0f8ff;}#sk-container-id-1 div.sk-toggleable__content pre {margin: 0.2em;color: black;border-radius: 0.25em;background-color: #f0f8ff;}#sk-container-id-1 input.sk-toggleable__control:checked~div.sk-toggleable__content {max-height: 200px;max-width: 100%;overflow: auto;}#sk-container-id-1 input.sk-toggleable__control:checked~label.sk-toggleable__label-arrow:before {content: \"▾\";}#sk-container-id-1 div.sk-estimator input.sk-toggleable__control:checked~label.sk-toggleable__label {background-color: #d4ebff;}#sk-container-id-1 div.sk-label input.sk-toggleable__control:checked~label.sk-toggleable__label {background-color: #d4ebff;}#sk-container-id-1 input.sk-hidden--visually {border: 0;clip: rect(1px 1px 1px 1px);clip: rect(1px, 1px, 1px, 1px);height: 1px;margin: -1px;overflow: hidden;padding: 0;position: absolute;width: 1px;}#sk-container-id-1 div.sk-estimator {font-family: monospace;background-color: #f0f8ff;border: 1px dotted black;border-radius: 0.25em;box-sizing: border-box;margin-bottom: 0.5em;}#sk-container-id-1 div.sk-estimator:hover {background-color: #d4ebff;}#sk-container-id-1 div.sk-parallel-item::after {content: \"\";width: 100%;border-bottom: 1px solid gray;flex-grow: 1;}#sk-container-id-1 div.sk-label:hover label.sk-toggleable__label {background-color: #d4ebff;}#sk-container-id-1 div.sk-serial::before {content: \"\";position: absolute;border-left: 1px solid gray;box-sizing: border-box;top: 0;bottom: 0;left: 50%;z-index: 0;}#sk-container-id-1 div.sk-serial {display: flex;flex-direction: column;align-items: center;background-color: white;padding-right: 0.2em;padding-left: 0.2em;position: relative;}#sk-container-id-1 div.sk-item {position: relative;z-index: 1;}#sk-container-id-1 div.sk-parallel {display: flex;align-items: stretch;justify-content: center;background-color: white;position: relative;}#sk-container-id-1 div.sk-item::before, #sk-container-id-1 div.sk-parallel-item::before {content: \"\";position: absolute;border-left: 1px solid gray;box-sizing: border-box;top: 0;bottom: 0;left: 50%;z-index: -1;}#sk-container-id-1 div.sk-parallel-item {display: flex;flex-direction: column;z-index: 1;position: relative;background-color: white;}#sk-container-id-1 div.sk-parallel-item:first-child::after {align-self: flex-end;width: 50%;}#sk-container-id-1 div.sk-parallel-item:last-child::after {align-self: flex-start;width: 50%;}#sk-container-id-1 div.sk-parallel-item:only-child::after {width: 0;}#sk-container-id-1 div.sk-dashed-wrapped {border: 1px dashed gray;margin: 0 0.4em 0.5em 0.4em;box-sizing: border-box;padding-bottom: 0.4em;background-color: white;}#sk-container-id-1 div.sk-label label {font-family: monospace;font-weight: bold;display: inline-block;line-height: 1.2em;}#sk-container-id-1 div.sk-label-container {text-align: center;}#sk-container-id-1 div.sk-container {/* jupyter's `normalize.less` sets `[hidden] { display: none; }` but bootstrap.min.css set `[hidden] { display: none !important; }` so we also need the `!important` here to be able to override the default hidden behavior on the sphinx rendered scikit-learn.org. See: https://github.com/scikit-learn/scikit-learn/issues/21755 */display: inline-block !important;position: relative;}#sk-container-id-1 div.sk-text-repr-fallback {display: none;}</style><div id=\"sk-container-id-1\" class=\"sk-top-container\"><div class=\"sk-text-repr-fallback\"><pre>Pipeline(steps=[(&#x27;vectorizer&#x27;, CountVectorizer()),\n",
       "                (&#x27;classifier&#x27;, LogisticRegression(multi_class=&#x27;multinomial&#x27;))])</pre><b>In a Jupyter environment, please rerun this cell to show the HTML representation or trust the notebook. <br />On GitHub, the HTML representation is unable to render, please try loading this page with nbviewer.org.</b></div><div class=\"sk-container\" hidden><div class=\"sk-item sk-dashed-wrapped\"><div class=\"sk-label-container\"><div class=\"sk-label sk-toggleable\"><input class=\"sk-toggleable__control sk-hidden--visually\" id=\"sk-estimator-id-1\" type=\"checkbox\" ><label for=\"sk-estimator-id-1\" class=\"sk-toggleable__label sk-toggleable__label-arrow\">Pipeline</label><div class=\"sk-toggleable__content\"><pre>Pipeline(steps=[(&#x27;vectorizer&#x27;, CountVectorizer()),\n",
       "                (&#x27;classifier&#x27;, LogisticRegression(multi_class=&#x27;multinomial&#x27;))])</pre></div></div></div><div class=\"sk-serial\"><div class=\"sk-item\"><div class=\"sk-estimator sk-toggleable\"><input class=\"sk-toggleable__control sk-hidden--visually\" id=\"sk-estimator-id-2\" type=\"checkbox\" ><label for=\"sk-estimator-id-2\" class=\"sk-toggleable__label sk-toggleable__label-arrow\">CountVectorizer</label><div class=\"sk-toggleable__content\"><pre>CountVectorizer()</pre></div></div></div><div class=\"sk-item\"><div class=\"sk-estimator sk-toggleable\"><input class=\"sk-toggleable__control sk-hidden--visually\" id=\"sk-estimator-id-3\" type=\"checkbox\" ><label for=\"sk-estimator-id-3\" class=\"sk-toggleable__label sk-toggleable__label-arrow\">LogisticRegression</label><div class=\"sk-toggleable__content\"><pre>LogisticRegression(multi_class=&#x27;multinomial&#x27;)</pre></div></div></div></div></div></div></div>"
      ],
      "text/plain": [
       "Pipeline(steps=[('vectorizer', CountVectorizer()),\n",
       "                ('classifier', LogisticRegression(multi_class='multinomial'))])"
      ]
     },
     "execution_count": null,
     "metadata": {},
     "output_type": "execute_result"
    }
   ],
   "source": [
    "# Train classifier\n",
    "router = Pipeline([\n",
    "    (\"vectorizer\", CountVectorizer()),\n",
    "    (\"classifier\", LogisticRegression(multi_class=\"multinomial\", solver=\"lbfgs\"))\n",
    "])\n",
    "router.fit(texts, labels)"
   ]
  },
  {
   "cell_type": "code",
   "execution_count": null,
   "id": "5ca1ab5d-9a68-4062-a9f9-0dc267b1abe6",
   "metadata": {},
   "outputs": [],
   "source": [
    "# Router file path\n",
    "router_fp = Path(EFS_DIR, \"router.pkl\")"
   ]
  },
  {
   "cell_type": "code",
   "execution_count": null,
   "id": "b3b9169b-2534-4c55-bf4b-471a4e524ed9",
   "metadata": {},
   "outputs": [],
   "source": [
    "# Save\n",
    "with open(router_fp, \"wb\") as file:\n",
    "    pickle.dump(router, file)"
   ]
  },
  {
   "cell_type": "markdown",
   "id": "77cc5449-5cfc-469d-9f84-42f4ebff4f3d",
   "metadata": {},
   "source": [
    "## Evaluation"
   ]
  },
  {
   "cell_type": "markdown",
   "id": "6cc6a7b8-427b-433c-98e3-c82b6ffaf042",
   "metadata": {},
   "source": [
    "Now let's evaluate the performance on the [test dataset](https://github.com/ray-project/llm-applications/blob/main/datasets/routing-dataset-test.jsonl):"
   ]
  },
  {
   "cell_type": "code",
   "execution_count": null,
   "id": "073421c5-662c-4774-b256-103e11d81361",
   "metadata": {},
   "outputs": [],
   "source": [
    "import numpy as np\n",
    "import pickle\n",
    "from sklearn.metrics import accuracy_score, classification_report\n",
    "from sklearn.metrics import precision_recall_fscore_support"
   ]
  },
  {
   "cell_type": "code",
   "execution_count": null,
   "id": "15b20f4e-57dc-42a5-9fce-012ce2c672e1",
   "metadata": {},
   "outputs": [],
   "source": [
    "# Load\n",
    "with open(router_fp, \"rb\") as file:\n",
    "    router = pickle.load(file)"
   ]
  },
  {
   "cell_type": "code",
   "execution_count": null,
   "id": "87181fbe-b56f-485e-8089-34a2b1de3f49",
   "metadata": {
    "tags": []
   },
   "outputs": [],
   "source": [
    "with open(Path(ROOT_DIR, \"datasets\", \"routing-dataset-test.jsonl\")) as f:\n",
    "    records = [json.loads(line) for line in f]\n",
    "    texts = [record[\"question\"] for record in records]\n",
    "    y_test = [record[\"target\"] for record in records]\n",
    "    score_test = [record[\"score\"] for record in records]"
   ]
  },
  {
   "cell_type": "code",
   "execution_count": null,
   "id": "4c2b3f1d-be35-4103-9aeb-ae8d562b3ee2",
   "metadata": {
    "tags": []
   },
   "outputs": [],
   "source": [
    "# Predictions\n",
    "y_pred = router.predict(texts)"
   ]
  },
  {
   "cell_type": "code",
   "execution_count": null,
   "id": "beddd2f0-80a3-4c3d-a66c-7977fb1c43bc",
   "metadata": {
    "tags": []
   },
   "outputs": [
    {
     "name": "stdout",
     "output_type": "stream",
     "text": [
      "{\n",
      "    \"precision\": 0.917778649921507,\n",
      "    \"recall\": 0.9285714285714286,\n",
      "    \"f1\": 0.9215235703917096,\n",
      "    \"num_samples\": 574.0\n",
      "}\n"
     ]
    }
   ],
   "source": [
    "metrics = {}\n",
    "performance = precision_recall_fscore_support(y_test, y_pred, average=\"weighted\")\n",
    "metrics[\"precision\"] = performance[0]\n",
    "metrics[\"recall\"] = performance[1]\n",
    "metrics[\"f1\"] = performance[2]\n",
    "metrics[\"num_samples\"] = np.float64(len(y_test))\n",
    "print (json.dumps(metrics, indent=4))"
   ]
  },
  {
   "cell_type": "code",
   "execution_count": null,
   "id": "9deb50e5-5702-4740-a92c-602af580f572",
   "metadata": {
    "tags": []
   },
   "outputs": [
    {
     "name": "stdout",
     "output_type": "stream",
     "text": [
      "# total samples 574\n",
      "# samples for OSS models: 546 (95.1%)\n",
      "Avg. score for samples predicted for codellama: 3.87\n",
      "Avg. score for samples predicted for gpt-4: 3.63\n"
     ]
    }
   ],
   "source": [
    "print (\"# total samples\", len(y_pred))\n",
    "print(f\"# samples for OSS models: {sum(y_pred)} ({sum(y_pred)*100/len(y_pred):.1f}%)\")\n",
    "print(f\"Performance on samples predicted for {LLM}: {np.mean([score_test[i] for i, p in enumerate(y_pred) if p]):.2f}\")\n",
    "print(f\"Performance on samples predicted for gpt-4: {np.mean([score_test[i] for i, p in enumerate(y_pred) if not p]):.2f}\")"
   ]
  },
  {
   "cell_type": "markdown",
   "id": "ec755df6-2568-445c-a9b0-7f3fa30fa9d4",
   "metadata": {},
   "source": [
    "**Note**: For our dataset, a small logistic regression model is good enough to perform the routing. But if your use case is more complex, consider training a more complex model, like a BERT-based classifier to perform the classification. These models are still small enough that wouldn’t introduce too much latency. Be sure to check out this [guide](https://github.com/GokuMohandas/Made-With-ML) if you want to learn how to train and deploy supervised deep learning models."
   ]
  },
  {
   "cell_type": "code",
   "execution_count": null,
   "id": "530d3633-0f99-4bdd-a9be-6794ba84277a",
   "metadata": {
    "tags": []
   },
   "outputs": [
    {
     "data": {
      "text/plain": [
       "0"
      ]
     },
     "execution_count": null,
     "metadata": {},
     "output_type": "execute_result"
    }
   ],
   "source": [
    "# Inference\n",
    "query = \"Give me the code for getting results from a training run\"\n",
    "router.predict([query])[0]"
   ]
  },
  {
   "cell_type": "markdown",
   "id": "a84b35b1-1342-47cb-a203-b8f24926cfab",
   "metadata": {
    "tags": []
   },
   "source": [
    "# Serving"
   ]
  },
  {
   "cell_type": "markdown",
   "id": "014a7e88-a8c1-4114-ae2a-0651363595da",
   "metadata": {},
   "source": [
    "def preprocess(texts):\n",
    "    texts = split_camel_case_in_sentences(texts)  # camelcase\n",
    "    texts = [tokenizer.tokenize(text) for text in texts]  # subtokens\n",
    "    texts = [\" \".join(word for word in text) for text in texts]\n",
    "    return textsNow we're ready to start serving our Ray Assistant using our best configuration. We're going to use [Ray Serve](https://docs.ray.io/en/latest/serve/index.html) with [FastAPI](https://fastapi.tiangolo.com/) to develop and scale our service. First, we'll define some data structures like `Query` and `Answer` to represent the inputs and outputs to our service. We will also define a small function to load our index (assumes that the respective SQL dump file already exists). Finally, we can define our `QueryAgent` and use it to serve `POST` requests with the query. And we can serve our agent at any deployment scale we wish using the [@serve.deployment](https://docs.ray.io/en/latest/serve/api/doc/ray.serve.Deployment.html) decorator where we can specify the number of replicas, compute resources, etc."
   ]
  },
  {
   "cell_type": "code",
   "execution_count": null,
   "id": "31cbea09-318f-49b7-864c-ba7b8072f5be",
   "metadata": {
    "tags": []
   },
   "outputs": [],
   "source": [
    "import pickle\n",
    "import requests\n",
    "from typing import List"
   ]
  },
  {
   "cell_type": "code",
   "execution_count": null,
   "id": "123e53fa-8b11-4781-91fd-0947a242e0d5",
   "metadata": {
    "tags": []
   },
   "outputs": [],
   "source": [
    "from fastapi import FastAPI\n",
    "from pydantic import BaseModel\n",
    "from ray import serve\n",
    "from rag.generate import QueryAgent\n",
    "from rag.index import load_index"
   ]
  },
  {
   "cell_type": "code",
   "execution_count": null,
   "id": "cab7b615-d03b-4fb2-b099-3a02dd7e8c2f",
   "metadata": {
    "tags": []
   },
   "outputs": [],
   "source": [
    "# Initialize application\n",
    "app = FastAPI()"
   ]
  },
  {
   "cell_type": "code",
   "execution_count": null,
   "id": "e6d7ab2c-4946-4c6e-92da-08450ebc5a68",
   "metadata": {
    "tags": []
   },
   "outputs": [],
   "source": [
    "class Query(BaseModel):\n",
    "    query: str"
   ]
  },
  {
   "cell_type": "code",
   "execution_count": null,
   "id": "00d51f9a-fff8-40d6-92d5-0d9984e311cc",
   "metadata": {
    "tags": []
   },
   "outputs": [],
   "source": [
    "class Answer(BaseModel):\n",
    "    question: str\n",
    "    sources: List[str]\n",
    "    answer: str\n",
    "    llm: str"
   ]
  },
  {
   "cell_type": "code",
   "execution_count": null,
   "id": "24aca110-8bff-4097-aaee-33a70043c73c",
   "metadata": {
    "tags": []
   },
   "outputs": [],
   "source": [
    "@serve.deployment(route_prefix=\"/\", num_replicas=1, ray_actor_options={\"num_cpus\": 6, \"num_gpus\": 1})\n",
    "@serve.ingress(app)\n",
    "class RayAssistantDeployment:\n",
    "    def __init__(self, chunk_size, chunk_overlap, num_chunks, \n",
    "                 embedding_model_name, \n",
    "                 use_lexical_search, lexical_search_k, \n",
    "                 use_reranking, rerank_threshold, rerank_k, llm):\n",
    "        # Set up\n",
    "        chunks = load_index(\n",
    "            embedding_model_name=embedding_model_name,\n",
    "            chunk_size=chunk_size,\n",
    "            chunk_overlap=chunk_overlap)\n",
    "        \n",
    "        # Lexical index\n",
    "        lexical_index = None\n",
    "        self.lexical_search_k = lexical_search_k\n",
    "        if use_lexical_search:\n",
    "            texts = [re.sub(r\"[^a-zA-Z0-9]\", \" \", chunk[1]).lower().split() for chunk in chunks]\n",
    "            lexical_index = BM25Okapi(texts)\n",
    "\n",
    "        # Reranker\n",
    "        reranker = None\n",
    "        self.rerank_threshold = rerank_threshold\n",
    "        self.rerank_k = rerank_k\n",
    "        if use_reranking:\n",
    "            reranker_fp = Path(EFS_DIR, \"reranker.pkl\")\n",
    "            with open(reranker_fp, \"rb\") as file:\n",
    "                reranker = pickle.load(file)\n",
    "        \n",
    "        # Query agent\n",
    "        self.num_chunks = num_chunks\n",
    "        system_content = \"Answer the query using the context provided. Be succint.\"\n",
    "        self.oss_agent = QueryAgent(\n",
    "            embedding_model_name=embedding_model_name, chunks=chunks, lexical_index=lexical_index, reranker=reranker, \n",
    "            llm=llm, max_context_length=MAX_CONTEXT_LENGTHS[llm], system_content=system_content)\n",
    "        self.gpt_agent = QueryAgent(\n",
    "            embedding_model_name=embedding_model_name, chunks=chunks, lexical_index=lexical_index, reranker=reranker,\n",
    "            llm=\"gpt-4\", max_context_length=MAX_CONTEXT_LENGTHS[\"gpt-4\"], system_content=system_content)\n",
    "            \n",
    "        # Router\n",
    "        router_fp = Path(EFS_DIR, \"router.pkl\")\n",
    "        with open(router_fp, \"rb\") as file:\n",
    "            self.router = pickle.load(file)\n",
    "\n",
    "    @app.post(\"/query\")\n",
    "    def query(self, query: Query) -> Answer:\n",
    "        use_oss_agent = self.router.predict([query.query])[0]\n",
    "        agent = self.oss_agent if use_oss_agent else self.gpt_agent\n",
    "        result = agent(\n",
    "            query=query.query, num_chunks=self.num_chunks, \n",
    "            lexical_search_k=self.lexical_search_k, \n",
    "            rerank_threshold=self.rerank_threshold, \n",
    "            rerank_k=self.rerank_k, \n",
    "            stream=False)\n",
    "        return Answer.parse_obj(result)"
   ]
  },
  {
   "cell_type": "markdown",
   "id": "79d4b6eb-cdbc-46cb-ab3d-adc246f9da9c",
   "metadata": {},
   "source": [
    "Note: As we can see, Ray Serve makes [model composition](https://docs.ray.io/en/latest/serve/model_composition.html) extremely easy and we could continue to make this more fine-grained. For example, we can train a classifier to discern between queries for `Llama-2-70b`,` CodeLlama-34b-Instruct-hf` (for code generation) and `gpt-4` (for highly complex queries). Also, we can use streaming end-to-end to reduce the time a user has to wait for the answer. Check out the `/stream` method in `rag/serve.py`."
   ]
  },
  {
   "cell_type": "code",
   "execution_count": null,
   "id": "80a097e8-2cbb-4193-87cd-eca48a143301",
   "metadata": {
    "tags": []
   },
   "outputs": [
    {
     "name": "stdout",
     "output_type": "stream",
     "text": [
      "RayServeSyncHandle(deployment='RayAssistantDeployment')\n"
     ]
    }
   ],
   "source": [
    "# Deploy the Ray Serve application.\n",
    "deployment = RayAssistantDeployment.bind(\n",
    "    chunk_size=CHUNK_SIZE,\n",
    "    chunk_overlap=CHUNK_OVERLAP,\n",
    "    num_chunks=NUM_CHUNKS,\n",
    "    embedding_model_name=EMBEDDING_MODEL_NAME,\n",
    "    use_lexical_search=USE_LEXICAL_SEARCH,\n",
    "    lexical_search_k=LEXICAL_SEARCH_K, \n",
    "    use_reranking=USE_RERANKING, \n",
    "    rerank_threshold=RERANK_THRESHOLD, \n",
    "    rerank_k=RERANK_K,\n",
    "    llm=LLM)\n",
    "serve.run(deployment)"
   ]
  },
  {
   "cell_type": "code",
   "execution_count": null,
   "id": "0f37bd52-ee23-4451-950b-a4badc1c2e52",
   "metadata": {
    "tags": []
   },
   "outputs": [
    {
     "data": {
      "text/plain": [
       "{'question': 'What is the default batch size for map_batches?',\n",
       " 'sources': ['https://docs.ray.io/en/master/data/api/doc/ray.data.Dataset.map_batches.html#ray-data-dataset-map-batches',\n",
       "  'https://docs.ray.io/en/master/data/transforming-data.html#configuring-batch-size',\n",
       "  'https://docs.ray.io/en/master/data/examples/batch_inference_object_detection.html#model-inference',\n",
       "  'https://docs.ray.io/en/master/data/examples/pytorch_resnet_batch_prediction.html#model-inference',\n",
       "  'https://docs.ray.io/en/master/data/batch_inference.html#configuring-batch-size',\n",
       "  'https://docs.ray.io/en/master/data/batch_inference.html#configuring-batch-size',\n",
       "  'https://docs.ray.io/en/master/data/examples/huggingface_vit_batch_prediction.html#step-3-scaling-up-to-the-full-dataset-with-ray-data'],\n",
       " 'answer': '  The default batch size for map_batches is 4096.',\n",
       " 'llm': 'codellama/CodeLlama-34b-Instruct-hf'}"
      ]
     },
     "execution_count": null,
     "metadata": {},
     "output_type": "execute_result"
    },
    {
     "name": "stderr",
     "output_type": "stream",
     "text": [
      "\u001b[2m\u001b[36m(ServeReplica:default:RayAssistantDeployment pid=557009)\u001b[0m INFO 2023-10-19 17:15:58,001 RayAssistantDeployment default#RayAssistantDeployment#UuVuDN 3bd56c43-9bcf-41e1-8b60-9f0f6f6d2c62 /query default replica.py:749 - __CALL__ OK 3189.5ms\n"
     ]
    }
   ],
   "source": [
    "# Inference\n",
    "data = {\"query\": \"What is the default batch size for map_batches?\"}\n",
    "response = requests.post(\"http://127.0.0.1:8000/query\", json=data)\n",
    "response.json()"
   ]
  },
  {
   "cell_type": "markdown",
   "id": "1f0bc8bd-5d8a-4936-8460-8715464ed230",
   "metadata": {},
   "source": [
    "**Note**: As we can see, Ray Serve makes [model composition](https://docs.ray.io/en/latest/serve/model_composition.html) extremely easy and we could continue to make this even more fine-grained with more workflow logic.\n",
    "\n",
    "Once our application is served, we’re free to use it anywhere we want. For example, we use it as a bot on our Slack channels and as a widget on our docs page (public release coming soon). We can use this to collect feedback from our users to continually improve the application (fine-tuning, UI/UX, etc.).\n",
    "\n",
    "<img width=\"600\" src=\"https://images.ctfassets.net/xjan103pcp94/7pyW8T7La5T51C8iXEwmAO/71b844d6931e47f41b83da84cf058e9b/how-can-i-parallelize-a-function.png\">"
   ]
  },
  {
   "cell_type": "code",
   "execution_count": null,
   "id": "74566075-7ad8-4269-8be5-5dc2602ef06b",
   "metadata": {
    "tags": []
   },
   "outputs": [
    {
     "name": "stderr",
     "output_type": "stream",
     "text": [
      "2023-10-19 17:15:04,627\tINFO router.py:473 -- Got updated replicas for deployment 'RayAssistantDeployment' in application 'default': set().\n",
      "\u001b[2m\u001b[36m(ServeController pid=552763)\u001b[0m INFO 2023-10-19 17:15:04,623 controller 552763 deployment_state.py:1707 - Removing 1 replica from deployment 'RayAssistantDeployment' in application 'default'.\n",
      "\u001b[2m\u001b[36m(ServeController pid=552763)\u001b[0m INFO 2023-10-19 17:15:07,236 controller 552763 deployment_state.py:2027 - Replica default#RayAssistantDeployment#EyGnjf is stopped.\n"
     ]
    }
   ],
   "source": [
    "# Shutdown\n",
    "serve.shutdown()"
   ]
  },
  {
   "cell_type": "markdown",
   "id": "101dab0a-5a8d-4156-b6d2-2f38ff333add",
   "metadata": {},
   "source": [
    "# Data flywheel"
   ]
  },
  {
   "cell_type": "markdown",
   "id": "3d57ef4c-fa7c-491f-befe-f894ee036cab",
   "metadata": {},
   "source": [
    "Creating an application like this is not a one-time task. It's extremely important that we continue to iterate and keep our application up to date. This includes continually reindexing our data so that our application is working with the most up-to-date information. As well as rerunning our experiments to see if any of the decisions need to be altered. This process of continuous iteration can be achieved by mapping our workflows to [CI/CD pipelines](https://madewithml.com/courses/mlops/cicd/).\n",
    "\n",
    "A key part of iteration that goes beyond automated reindexing, evaluation, etc. involves fixing our data itself. In fact, we found that this is the **most** impactful lever (way beyond our retrieval and generation optimizations above) we could control. Here is an example workflow we've settled on:\n",
    "1. Users use the RAG application to ask questions about the product.\n",
    "2. Use feedback (👍/👎, visited source pages, top-k cosine scores, etc.) to identify underperforming queries.\n",
    "3. Inspect the retrieved resources, tokenization, etc. to decide if it's a shortcoming of retrieval, generation or the underlying data source.\n",
    "4. If something in the data can be improved, separated into sections/pages, etc. → fix it!\n",
    "5. Reindex and deploy a new version of the application."
   ]
  },
  {
   "cell_type": "markdown",
   "id": "cf3f9a4a-15bb-4567-82bb-e2a0808f1616",
   "metadata": {
    "tags": []
   },
   "source": [
    "# Impact"
   ]
  },
  {
   "cell_type": "markdown",
   "id": "615b2ad0-94a1-477c-92ee-6bdab3dcc99e",
   "metadata": {},
   "source": [
    "## Products and productivity"
   ]
  },
  {
   "cell_type": "markdown",
   "id": "6df6c44c-10e5-482f-a715-efd0b2c068a1",
   "metadata": {},
   "source": [
    "Building an LLM application like this has had a tremendous impact on our products and company. There were expected 1st order impacts in overall developer and user adoption for our products. The capability to interact and solve problems that our users experience in a self-serve and immediate manner is the type of feature that would improve the experience of any product. It makes it significantly easier for people to succeed and it elevated the perception around LLM applications from a **nice-to-have** to a **must-have**. "
   ]
  },
  {
   "cell_type": "markdown",
   "id": "fce8c9b5-cce0-467c-81b9-1aefcb7437d3",
   "metadata": {},
   "source": [
    "## Foundational agents"
   ]
  },
  {
   "cell_type": "markdown",
   "id": "e895c161-f035-49dc-84d5-1f70d2b65ef9",
   "metadata": {},
   "source": [
    "However, there were also some 2nd order impacts that we didn’t immediately realize. For example, when we further inspected user queries that yielded poor scores, often the issue existed because of a gap in our documentation. When we made the fix (ex. added the appropriate section to our docs), this improved our product and the LLM application itself — creating a very valuable feedback flywheel. Furthermore, when internal teams learned of the capabilities of our LLM application, this generated the development of highly valuable LLM applications that depend on this Ray docs LLM application as one of its **foundational agents** that it uses to perform its tasks."
   ]
  },
  {
   "cell_type": "markdown",
   "id": "5c79bcbe-89eb-469d-a809-acb780cec143",
   "metadata": {},
   "source": [
    "<img width=\"700\" src=\"https://images.ctfassets.net/xjan103pcp94/2UF2tSV3kmXtrzmqMsYrLF/76bcc71b481986eb6cb3b06d60582ec5/image18.png\">"
   ]
  },
  {
   "cell_type": "markdown",
   "id": "fc4b13ef-11a8-472d-85a5-48b480628e59",
   "metadata": {},
   "source": [
    "For example, we’ve internally developed a feature called Anyscale Doctor that helps developers diagnose and debug issues during development. Issues in code can be caused by a variety of reasons but when the issue is Ray related, the LLM application we built here is called to aid in resolving the particular issue."
   ]
  },
  {
   "cell_type": "markdown",
   "id": "0c61ff8d-d76b-47d5-8ae8-85d7aaf41b19",
   "metadata": {},
   "source": [
    "# Learn more"
   ]
  },
  {
   "cell_type": "markdown",
   "id": "6f451be7-3468-4dab-aed9-2e6621ad0a10",
   "metadata": {},
   "source": [
    "- If your team is investing heavily in developing LLM applications, [reach out](mailto:endpoints-help@anyscale.com) to us to learn more about how [Ray](https://github.com/ray-project/ray) and [Anyscale](http://anyscale.com/) can help you scale and productionize everything.\n",
    "- Start serving (+fine-tuning) OSS LLMs with [Anyscale Endpoints](https://www.anyscale.com/endpoints) ($1/M tokens for Llama-2-70b) w/ 1M free tokens trial.\n",
    "- If you need to deploy on your own private cloud, check out [Anyscale Private Endpoints](https://www.anyscale.com/endpoints#private).\n",
    "- Learn more about how companies like OpenAI, Netflix, Pinterest, Verizon, Instacart and others leverage Ray and Anyscale for their AI workloads at the [Ray Summit](https://raysummit.anyscale.com/).\n"
   ]
  }
 ],
 "metadata": {
  "kernelspec": {
   "display_name": "Python 3 (ipykernel)",
   "language": "python",
   "name": "python3"
  },
  "language_info": {
   "codemirror_mode": {
    "name": "ipython",
    "version": 3
   },
   "file_extension": ".py",
   "mimetype": "text/x-python",
   "name": "python",
   "nbconvert_exporter": "python",
   "pygments_lexer": "ipython3",
   "version": "3.11.4"
  }
 },
 "nbformat": 4,
 "nbformat_minor": 5
}
