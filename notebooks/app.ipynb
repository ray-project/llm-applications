{
 "cells": [
  {
   "cell_type": "markdown",
   "id": "154b2d0e-f7ce-453b-b3b7-eda0666a9795",
   "metadata": {},
   "source": [
    "# Rag-based LLM Application"
   ]
  },
  {
   "cell_type": "markdown",
   "id": "35af14d4-478a-418b-a738-b17012188779",
   "metadata": {},
   "source": [
    "## Set up"
   ]
  },
  {
   "cell_type": "code",
   "execution_count": 1,
   "id": "e538090b-c736-46e7-8427-298ecc3e50f9",
   "metadata": {
    "tags": []
   },
   "outputs": [],
   "source": [
    "import os\n",
    "import openai\n",
    "from pathlib import Path\n",
    "from pprint import pprint\n",
    "import ray\n",
    "from tqdm import tqdm\n",
    "import sys; sys.path.append(\"..\")"
   ]
  },
  {
   "cell_type": "code",
   "execution_count": 2,
   "id": "cf8801a8-2891-48c7-8271-d494432eb756",
   "metadata": {
    "tags": []
   },
   "outputs": [],
   "source": [
    "from app.config import ROOT_DIR"
   ]
  },
  {
   "cell_type": "code",
   "execution_count": 7,
   "id": "1af2807a-db35-45c0-a08e-3bac46efef38",
   "metadata": {
    "tags": []
   },
   "outputs": [],
   "source": [
    "# OpenAI key\n",
    "openai.api_key = \"\"  # https://platform.openai.com/account/api-keys"
   ]
  },
  {
   "cell_type": "code",
   "execution_count": 8,
   "id": "8f36dc38-f797-4db9-9979-2450764679aa",
   "metadata": {
    "tags": []
   },
   "outputs": [
    {
     "name": "stderr",
     "output_type": "stream",
     "text": [
      "2023-08-16 16:56:13,595\tINFO worker.py:1431 -- Connecting to existing Ray cluster at address: 10.0.11.188:6379...\n",
      "2023-08-16 16:56:13,636\tINFO worker.py:1612 -- Connected to Ray cluster. View the dashboard at \u001b[1m\u001b[32mhttps://session-nblwa64m553kfm289wcbiq9syg.i.anyscaleuserdata-staging.com \u001b[39m\u001b[22m\n",
      "2023-08-16 16:56:13,664\tINFO packaging.py:518 -- Creating a file package for local directory '/home/ray/ray-qa/notebooks/..'.\n",
      "2023-08-16 16:56:13,689\tINFO packaging.py:346 -- Pushing file package 'gcs://_ray_pkg_57e9aa0a9986774b.zip' (1.08MiB) to Ray cluster...\n",
      "2023-08-16 16:56:13,693\tINFO packaging.py:359 -- Successfully pushed file package 'gcs://_ray_pkg_57e9aa0a9986774b.zip'.\n"
     ]
    },
    {
     "data": {
      "application/vnd.jupyter.widget-view+json": {
       "model_id": "e2f55ecdc27d4130bfca80b04a0e5481",
       "version_major": 2,
       "version_minor": 0
      },
      "text/html": [
       "<div class=\"lm-Widget p-Widget lm-Panel p-Panel jp-Cell-outputWrapper\">\n",
       "    <div style=\"margin-left: 50px;display: flex;flex-direction: row;align-items: center\">\n",
       "        <div class=\"jp-RenderedHTMLCommon\" style=\"display: flex; flex-direction: row;\">\n",
       "  <svg viewBox=\"0 0 567 224\" fill=\"none\" xmlns=\"http://www.w3.org/2000/svg\" style=\"height: 3em;\">\n",
       "    <g clip-path=\"url(#clip0_4338_178347)\">\n",
       "        <path d=\"M341.29 165.561H355.29L330.13 129.051C345.63 123.991 354.21 112.051 354.21 94.2307C354.21 71.3707 338.72 58.1807 311.88 58.1807H271V165.561H283.27V131.661H311.8C314.25 131.661 316.71 131.501 319.01 131.351L341.25 165.561H341.29ZM283.29 119.851V70.0007H311.82C331.3 70.0007 342.34 78.2907 342.34 94.5507C342.34 111.271 331.34 119.861 311.82 119.861L283.29 119.851ZM451.4 138.411L463.4 165.561H476.74L428.74 58.1807H416L367.83 165.561H380.83L392.83 138.411H451.4ZM446.19 126.601H398L422 72.1407L446.24 126.601H446.19ZM526.11 128.741L566.91 58.1807H554.35L519.99 114.181L485.17 58.1807H472.44L514.01 129.181V165.541H526.13V128.741H526.11Z\" fill=\"var(--jp-ui-font-color0)\"/>\n",
       "        <path d=\"M82.35 104.44C84.0187 97.8827 87.8248 92.0678 93.1671 87.9146C98.5094 83.7614 105.083 81.5067 111.85 81.5067C118.617 81.5067 125.191 83.7614 130.533 87.9146C135.875 92.0678 139.681 97.8827 141.35 104.44H163.75C164.476 101.562 165.622 98.8057 167.15 96.2605L127.45 56.5605C121.071 60.3522 113.526 61.6823 106.235 60.3005C98.9443 58.9187 92.4094 54.9203 87.8602 49.0574C83.3109 43.1946 81.0609 35.8714 81.5332 28.4656C82.0056 21.0599 85.1679 14.0819 90.4252 8.8446C95.6824 3.60726 102.672 0.471508 110.08 0.0272655C117.487 -0.416977 124.802 1.86091 130.647 6.4324C136.493 11.0039 140.467 17.5539 141.821 24.8501C143.175 32.1463 141.816 39.6859 138 46.0505L177.69 85.7505C182.31 82.9877 187.58 81.4995 192.962 81.4375C198.345 81.3755 203.648 82.742 208.33 85.3976C213.012 88.0532 216.907 91.9029 219.616 96.5544C222.326 101.206 223.753 106.492 223.753 111.875C223.753 117.258 222.326 122.545 219.616 127.197C216.907 131.848 213.012 135.698 208.33 138.353C203.648 141.009 198.345 142.375 192.962 142.313C187.58 142.251 182.31 140.763 177.69 138L138 177.7C141.808 184.071 143.155 191.614 141.79 198.91C140.424 206.205 136.44 212.75 130.585 217.313C124.731 221.875 117.412 224.141 110.004 223.683C102.596 223.226 95.6103 220.077 90.3621 214.828C85.1139 209.58 81.9647 202.595 81.5072 195.187C81.0497 187.779 83.3154 180.459 87.878 174.605C92.4405 168.751 98.9853 164.766 106.281 163.401C113.576 162.035 121.119 163.383 127.49 167.19L167.19 127.49C165.664 124.941 164.518 122.182 163.79 119.3H141.39C139.721 125.858 135.915 131.673 130.573 135.826C125.231 139.98 118.657 142.234 111.89 142.234C105.123 142.234 98.5494 139.98 93.2071 135.826C87.8648 131.673 84.0587 125.858 82.39 119.3H60C58.1878 126.495 53.8086 132.78 47.6863 136.971C41.5641 141.163 34.1211 142.972 26.7579 142.059C19.3947 141.146 12.6191 137.574 7.70605 132.014C2.79302 126.454 0.0813599 119.29 0.0813599 111.87C0.0813599 104.451 2.79302 97.2871 7.70605 91.7272C12.6191 86.1673 19.3947 82.5947 26.7579 81.6817C34.1211 80.7686 41.5641 82.5781 47.6863 86.7696C53.8086 90.9611 58.1878 97.2456 60 104.44H82.35ZM100.86 204.32C103.407 206.868 106.759 208.453 110.345 208.806C113.93 209.159 117.527 208.258 120.522 206.256C123.517 204.254 125.725 201.276 126.771 197.828C127.816 194.38 127.633 190.677 126.253 187.349C124.874 184.021 122.383 181.274 119.205 179.577C116.027 177.88 112.359 177.337 108.826 178.042C105.293 178.746 102.113 180.654 99.8291 183.44C97.5451 186.226 96.2979 189.718 96.3 193.32C96.2985 195.364 96.7006 197.388 97.4831 199.275C98.2656 201.163 99.4132 202.877 100.86 204.32ZM204.32 122.88C206.868 120.333 208.453 116.981 208.806 113.396C209.159 109.811 208.258 106.214 206.256 103.219C204.254 100.223 201.275 98.0151 197.827 96.97C194.38 95.9249 190.676 96.1077 187.348 97.4873C184.02 98.8669 181.274 101.358 179.577 104.536C177.879 107.714 177.337 111.382 178.041 114.915C178.746 118.448 180.653 121.627 183.439 123.911C186.226 126.195 189.717 127.443 193.32 127.44C195.364 127.443 197.388 127.042 199.275 126.259C201.163 125.476 202.878 124.328 204.32 122.88ZM122.88 19.4205C120.333 16.8729 116.981 15.2876 113.395 14.9347C109.81 14.5817 106.213 15.483 103.218 17.4849C100.223 19.4868 98.0146 22.4654 96.9696 25.9131C95.9245 29.3608 96.1073 33.0642 97.4869 36.3922C98.8665 39.7202 101.358 42.4668 104.535 44.1639C107.713 45.861 111.381 46.4036 114.914 45.6992C118.447 44.9949 121.627 43.0871 123.911 40.301C126.195 37.515 127.442 34.0231 127.44 30.4205C127.44 28.3772 127.038 26.3539 126.255 24.4664C125.473 22.5788 124.326 20.8642 122.88 19.4205ZM19.42 100.86C16.8725 103.408 15.2872 106.76 14.9342 110.345C14.5813 113.93 15.4826 117.527 17.4844 120.522C19.4863 123.518 22.4649 125.726 25.9127 126.771C29.3604 127.816 33.0638 127.633 36.3918 126.254C39.7198 124.874 42.4664 122.383 44.1635 119.205C45.8606 116.027 46.4032 112.359 45.6988 108.826C44.9944 105.293 43.0866 102.114 40.3006 99.8296C37.5145 97.5455 34.0227 96.2983 30.42 96.3005C26.2938 96.3018 22.337 97.9421 19.42 100.86ZM100.86 100.86C98.3125 103.408 96.7272 106.76 96.3742 110.345C96.0213 113.93 96.9226 117.527 98.9244 120.522C100.926 123.518 103.905 125.726 107.353 126.771C110.8 127.816 114.504 127.633 117.832 126.254C121.16 124.874 123.906 122.383 125.604 119.205C127.301 116.027 127.843 112.359 127.139 108.826C126.434 105.293 124.527 102.114 121.741 99.8296C118.955 97.5455 115.463 96.2983 111.86 96.3005C109.817 96.299 107.793 96.701 105.905 97.4835C104.018 98.2661 102.303 99.4136 100.86 100.86Z\" fill=\"#00AEEF\"/>\n",
       "    </g>\n",
       "    <defs>\n",
       "        <clipPath id=\"clip0_4338_178347\">\n",
       "            <rect width=\"566.93\" height=\"223.75\" fill=\"white\"/>\n",
       "        </clipPath>\n",
       "    </defs>\n",
       "  </svg>\n",
       "</div>\n",
       "\n",
       "        <table class=\"jp-RenderedHTMLCommon\" style=\"border-collapse: collapse;color: var(--jp-ui-font-color1);font-size: var(--jp-ui-font-size1);\">\n",
       "    <tr>\n",
       "        <td style=\"text-align: left\"><b>Python version:</b></td>\n",
       "        <td style=\"text-align: left\"><b>3.9.15</b></td>\n",
       "    </tr>\n",
       "    <tr>\n",
       "        <td style=\"text-align: left\"><b>Ray version:</b></td>\n",
       "        <td style=\"text-align: left\"><b>2.6.2</b></td>\n",
       "    </tr>\n",
       "    <tr>\n",
       "    <td style=\"text-align: left\"><b>Dashboard:</b></td>\n",
       "    <td style=\"text-align: left\"><b><a href=\"http://session-nblwa64m553kfm289wcbiq9syg.i.anyscaleuserdata-staging.com\" target=\"_blank\">http://session-nblwa64m553kfm289wcbiq9syg.i.anyscaleuserdata-staging.com</a></b></td>\n",
       "</tr>\n",
       "\n",
       "</table>\n",
       "\n",
       "    </div>\n",
       "</div>\n"
      ],
      "text/plain": [
       "RayContext(dashboard_url='session-nblwa64m553kfm289wcbiq9syg.i.anyscaleuserdata-staging.com', python_version='3.9.15', ray_version='2.6.2', ray_commit='92ad4bab9e93c7a207a44c65ab51295f92566cb4', protocol_version=None)"
      ]
     },
     "execution_count": 8,
     "metadata": {},
     "output_type": "execute_result"
    }
   ],
   "source": [
    "# Database credentials\n",
    "DB_CONNECTION_STRING = \"dbname=postgres user=postgres host=localhost password=postgres\"\n",
    "ray.init(runtime_env={\"env_vars\": {\"DB_CONNECTION_STRING\": DB_CONNECTION_STRING}, \"working_dir\": ROOT_DIR})"
   ]
  },
  {
   "cell_type": "markdown",
   "id": "4c503edd-963a-4ec3-9182-39f7afc44153",
   "metadata": {},
   "source": [
    "## Load data"
   ]
  },
  {
   "cell_type": "markdown",
   "id": "1f82562f-2b5d-4e8d-9716-b0da8670e8bf",
   "metadata": {},
   "source": [
    "Our data is already ready at `/efs/shared_storage/pcmoritz/docs.ray.io/en/master/` (on Staging) but if you wanted to load it yourself, run this bash command (change `/desired/output/directory`):\n",
    "```bash\n",
    "wget -e robots=off --recursive --no-clobber --page-requisites --html-extension --convert-links --restrict-file-names=windows --domains docs.ray.io --no-parent --accept=html -P /desired/output/directory https://docs.ray.io/en/master/\n",
    "```"
   ]
  },
  {
   "cell_type": "code",
   "execution_count": 10,
   "id": "02d639a6-4cfc-409b-b887-a88c3325e303",
   "metadata": {
    "tags": []
   },
   "outputs": [
    {
     "name": "stdout",
     "output_type": "stream",
     "text": [
      "3294 documents\n"
     ]
    }
   ],
   "source": [
    "# Ray dataset\n",
    "docs_path = Path(\"/efs/shared_storage/pcmoritz/docs.ray.io/en/master/\")\n",
    "ds = ray.data.from_items([{\"path\": path} for path in docs_path.rglob(\"*.html\") if not path.is_dir()])\n",
    "print(f\"{ds.count()} documents\")"
   ]
  },
  {
   "cell_type": "markdown",
   "id": "ba9edff6-6dbf-4037-9675-ae05cd3eb7a7",
   "metadata": {
    "tags": []
   },
   "source": [
    "## Process data"
   ]
  },
  {
   "cell_type": "markdown",
   "id": "c829c71d-819f-4834-8fc6-dd343947f831",
   "metadata": {},
   "source": [
    "### Sections"
   ]
  },
  {
   "cell_type": "code",
   "execution_count": 16,
   "id": "756fee1f-ce8a-4ec3-8fcd-29017e1732d2",
   "metadata": {
    "tags": []
   },
   "outputs": [],
   "source": [
    "import matplotlib.pyplot as plt\n",
    "import pandas as pd\n",
    "from app.index import parse_file"
   ]
  },
  {
   "cell_type": "code",
   "execution_count": 12,
   "id": "cfd33ba3-f9e4-46d4-ad63-6a810f18741f",
   "metadata": {
    "tags": []
   },
   "outputs": [
    {
     "name": "stdout",
     "output_type": "stream",
     "text": [
      "[{'source': 'https://docs.ray.io/en/master/train/faq.html', 'text': '\\n\\n\\n'},\n",
      " {'source': 'https://docs.ray.io/en/master/train/faq.html#ray-train-faq',\n",
      "  'text': 'Ray Train FAQ#\\n\\n'},\n",
      " {'source': 'https://docs.ray.io/en/master/train/faq.html#how-fast-is-ray-train-compared-to-pytorch-tensorflow-etc',\n",
      "  'text': 'How fast is Ray Train compared to PyTorch, TensorFlow, etc.?#\\n'\n",
      "          'At its core, training speed should be the same - while Ray Train '\n",
      "          'launches distributed training workers via Ray Actors,\\n'\n",
      "          'communication during training (e.g. gradient synchronization) is '\n",
      "          'handled by the backend training framework itself.\\n'\n",
      "          'For example, when running Ray Train with the TorchTrainer,\\n'\n",
      "          'distributed training communication is done with Torch’s '\n",
      "          'DistributedDataParallel.\\n'\n",
      "          'Take a look at the Pytorch and Tensorflow benchmarks to check '\n",
      "          'performance parity.\\n'\n",
      "          '\\n'\n",
      "          '\\n'}]\n"
     ]
    },
    {
     "name": "stderr",
     "output_type": "stream",
     "text": [
      "/home/ray/ray-qa/notebooks/../app/index.py:19: GuessedAtParserWarning: No parser was explicitly specified, so I'm using the best available HTML parser for this system (\"lxml\"). This usually isn't a problem, but if you run this code on another system, or in a different virtual environment, it may use a different parser and behave differently.\n",
      "\n",
      "The code that caused this warning is on line 19 of the file /home/ray/ray-qa/notebooks/../app/index.py. To get rid of this warning, pass the additional argument 'features=\"lxml\"' to the BeautifulSoup constructor.\n",
      "\n",
      "  soup = BeautifulSoup(f.read())\n"
     ]
    }
   ],
   "source": [
    "# Sample\n",
    "record = {\"path\": \"/efs/shared_storage/pcmoritz/docs.ray.io/en/master/train/faq.html\"}\n",
    "pprint(parse_file(record)[:3])  # just first few chunks"
   ]
  },
  {
   "cell_type": "code",
   "execution_count": 13,
   "id": "07c369b0-6c1f-4896-9acb-7a0431eb69b3",
   "metadata": {
    "tags": []
   },
   "outputs": [
    {
     "name": "stderr",
     "output_type": "stream",
     "text": [
      "2023-08-16 16:56:29,334\tINFO streaming_executor.py:92 -- Executing DAG InputDataBuffer[Input] -> TaskPoolMapOperator[FlatMap(parse_file)]\n",
      "2023-08-16 16:56:29,335\tINFO streaming_executor.py:93 -- Execution config: ExecutionOptions(resource_limits=ExecutionResources(cpu=None, gpu=None, object_store_memory=None), locality_with_output=False, preserve_order=False, actor_locality_enabled=True, verbose_progress=False)\n",
      "2023-08-16 16:56:29,335\tINFO streaming_executor.py:95 -- Tip: For detailed progress reporting, run `ray.data.DataContext.get_current().execution_options.verbose_progress = True`\n"
     ]
    },
    {
     "data": {
      "application/vnd.jupyter.widget-view+json": {
       "model_id": "",
       "version_major": 2,
       "version_minor": 0
      },
      "text/plain": [
       "Running 0:   0%|          | 0/200 [00:00<?, ?it/s]"
      ]
     },
     "metadata": {},
     "output_type": "display_data"
    },
    {
     "name": "stderr",
     "output_type": "stream",
     "text": [
      "\u001b[2m\u001b[36m(FlatMap(parse_file) pid=112387)\u001b[0m /tmp/ray/session_2023-08-16_15-05-26_482090_2474/runtime_resources/working_dir_files/_ray_pkg_57e9aa0a9986774b/app/index.py:19: GuessedAtParserWarning: No parser was explicitly specified, so I'm using the best available HTML parser for this system (\"lxml\"). This usually isn't a problem, but if you run this code on another system, or in a different virtual environment, it may use a different parser and behave differently.\n",
      "\u001b[2m\u001b[36m(FlatMap(parse_file) pid=112387)\u001b[0m \n",
      "\u001b[2m\u001b[36m(FlatMap(parse_file) pid=112387)\u001b[0m The code that caused this warning is on line 19 of the file /tmp/ray/session_2023-08-16_15-05-26_482090_2474/runtime_resources/working_dir_files/_ray_pkg_57e9aa0a9986774b/app/index.py. To get rid of this warning, pass the additional argument 'features=\"lxml\"' to the BeautifulSoup constructor.\n",
      "\u001b[2m\u001b[36m(FlatMap(parse_file) pid=112387)\u001b[0m \n",
      "\u001b[2m\u001b[36m(FlatMap(parse_file) pid=112387)\u001b[0m   soup = BeautifulSoup(f.read())\n",
      "\u001b[2m\u001b[36m(FlatMap(parse_file) pid=112407)\u001b[0m /tmp/ray/session_2023-08-16_15-05-26_482090_2474/runtime_resources/working_dir_files/_ray_pkg_57e9aa0a9986774b/app/index.py:19: GuessedAtParserWarning: No parser was explicitly specified, so I'm using the best available HTML parser for this system (\"lxml\"). This usually isn't a problem, but if you run this code on another system, or in a different virtual environment, it may use a different parser and behave differently.\u001b[32m [repeated 153x across cluster] (Ray deduplicates logs by default. Set RAY_DEDUP_LOGS=0 to disable log deduplication, or see https://docs.ray.io/en/master/ray-observability/ray-logging.html#log-deduplication for more options.)\u001b[0m\n",
      "\u001b[2m\u001b[36m(FlatMap(parse_file) pid=112407)\u001b[0m \u001b[32m [repeated 306x across cluster]\u001b[0m\n",
      "\u001b[2m\u001b[36m(FlatMap(parse_file) pid=112407)\u001b[0m The code that caused this warning is on line 19 of the file /tmp/ray/session_2023-08-16_15-05-26_482090_2474/runtime_resources/working_dir_files/_ray_pkg_57e9aa0a9986774b/app/index.py. To get rid of this warning, pass the additional argument 'features=\"lxml\"' to the BeautifulSoup constructor.\u001b[32m [repeated 153x across cluster]\u001b[0m\n",
      "\u001b[2m\u001b[36m(FlatMap(parse_file) pid=112407)\u001b[0m   soup = BeautifulSoup(f.read())\u001b[32m [repeated 153x across cluster]\u001b[0m\n"
     ]
    },
    {
     "name": "stdout",
     "output_type": "stream",
     "text": [
      "8914\n"
     ]
    }
   ],
   "source": [
    "# Extract sections\n",
    "sections_ds = ds.flat_map(parse_file)\n",
    "sections = sections_ds.take_all()\n",
    "print (len(sections))"
   ]
  },
  {
   "cell_type": "code",
   "execution_count": 17,
   "id": "4f30fcc3-c8be-4156-adc3-f706696f383a",
   "metadata": {
    "tags": []
   },
   "outputs": [
    {
     "data": {
      "text/plain": [
       "count      8914.000000\n",
       "mean       1335.308167\n",
       "std        5963.168522\n",
       "min           3.000000\n",
       "25%           3.000000\n",
       "50%         251.000000\n",
       "75%         809.000000\n",
       "max      208012.000000\n",
       "dtype: float64"
      ]
     },
     "execution_count": 17,
     "metadata": {},
     "output_type": "execute_result"
    }
   ],
   "source": [
    "# Stats summary\n",
    "sections_lengths = [len(section[\"text\"]) for section in sections]\n",
    "series = pd.Series(sections_lengths)\n",
    "series.describe()"
   ]
  },
  {
   "cell_type": "code",
   "execution_count": 23,
   "id": "2e414bd6-82c6-4315-80a9-46c888da4169",
   "metadata": {
    "tags": []
   },
   "outputs": [
    {
     "data": {
      "image/png": "[encoded data removed]",
      "text/plain": [
       "<Figure size 1800x300 with 1 Axes>"
      ]
     },
     "metadata": {},
     "output_type": "display_data"
    }
   ],
   "source": [
    "# Sections lengths\n",
    "plt.figure(figsize=(18, 3))\n",
    "plt.semilogy(sections_lengths, marker='o')\n",
    "plt.xlabel('Section')\n",
    "plt.ylabel('# of characters (log scale)')\n",
    "plt.title('Section Lengths')\n",
    "plt.show()"
   ]
  },
  {
   "cell_type": "markdown",
   "id": "f1769855-6138-4015-ae64-dd8169445dd3",
   "metadata": {
    "tags": []
   },
   "source": [
    "### Chunks"
   ]
  },
  {
   "cell_type": "markdown",
   "id": "3595c2c2-0e9a-4f2a-9c0c-cca45950d661",
   "metadata": {},
   "source": [
    "Some of these sections are very large, let's apply some chunking to improve this so that we can use these sections as context later."
   ]
  },
  {
   "cell_type": "code",
   "execution_count": 24,
   "id": "0bf7145b-47d4-4b60-96a8-74c8d8315f92",
   "metadata": {
    "tags": []
   },
   "outputs": [],
   "source": [
    "from langchain.text_splitter import RecursiveCharacterTextSplitter"
   ]
  },
  {
   "cell_type": "code",
   "execution_count": 25,
   "id": "6b6337e6-07b2-459d-a666-45de3aa945c4",
   "metadata": {
    "tags": []
   },
   "outputs": [],
   "source": [
    "text_splitter = RecursiveCharacterTextSplitter(\n",
    "    separators=[\"\\n\\n\", \"\\n\", \" \", \"\"],\n",
    "    chunk_size=300,\n",
    "    chunk_overlap=50,\n",
    "    length_function=len,\n",
    ")"
   ]
  },
  {
   "cell_type": "code",
   "execution_count": 26,
   "id": "54966d0f-33ee-4503-9f40-a673710950bc",
   "metadata": {
    "tags": []
   },
   "outputs": [],
   "source": [
    "chunks = text_splitter.create_documents(\n",
    "    texts=[section[\"text\"] for section in sections], \n",
    "    metadatas=[{\"source\": section[\"source\"]} for section in sections]\n",
    ")"
   ]
  },
  {
   "cell_type": "code",
   "execution_count": 27,
   "id": "d85f61be-b2ce-4f1e-aaf9-36cd3ec5aed8",
   "metadata": {
    "tags": []
   },
   "outputs": [
    {
     "name": "stdout",
     "output_type": "stream",
     "text": [
      "57836 chunks\n",
      "\n",
      "'ray.tune.search.hyperopt.HyperOptSearch.add_evaluated_trials#'\n",
      "\n",
      "metadata:\n",
      "{'source': 'https://docs.ray.io/en/master/tune/api/doc/ray.tune.search.hyperopt.HyperOptSearch.add_evaluated_trials.html#ray-tune-search-hyperopt-hyperoptsearch-add-evaluated-trials'}\n"
     ]
    }
   ],
   "source": [
    "print (f\"{len(chunks)} chunks\\n\")\n",
    "pprint (chunks[0].page_content)  # a few tokens\n",
    "print (f\"\\nmetadata:\\n{chunks[0].metadata}\")"
   ]
  },
  {
   "cell_type": "code",
   "execution_count": 28,
   "id": "5be23c62-3108-49be-994d-5aa033162c71",
   "metadata": {
    "tags": []
   },
   "outputs": [],
   "source": [
    "# Ray dataset\n",
    "chunks_ds = ray.data.from_items([{\"text\": chunk.page_content, \"source\": chunk.metadata[\"source\"]} for chunk in chunks])"
   ]
  },
  {
   "cell_type": "markdown",
   "id": "d9c23b31-e7b3-4078-abf7-683f448f5b19",
   "metadata": {},
   "source": [
    "### Embed data"
   ]
  },
  {
   "cell_type": "code",
   "execution_count": 29,
   "id": "712fe08b-fd19-4cb8-94d9-a7570b2dc09d",
   "metadata": {
    "tags": []
   },
   "outputs": [],
   "source": [
    "from langchain.embeddings.huggingface import HuggingFaceEmbeddings\n",
    "import numpy as np\n",
    "from ray.data import ActorPoolStrategy"
   ]
  },
  {
   "cell_type": "code",
   "execution_count": 30,
   "id": "1d0427e0-c4e8-4f6a-8377-778f0492a338",
   "metadata": {
    "tags": []
   },
   "outputs": [],
   "source": [
    "embedding_model = \"thenlper/gte-base\""
   ]
  },
  {
   "cell_type": "code",
   "execution_count": 31,
   "id": "83b6a5a3-cd2d-4987-838a-be13e9553080",
   "metadata": {
    "tags": []
   },
   "outputs": [],
   "source": [
    "class EmbedNodes:\n",
    "    def __init__(self, model_name):\n",
    "        self.embedding_model = HuggingFaceEmbeddings(\n",
    "            model_name=model_name,\n",
    "            model_kwargs={\"device\": \"cuda\"},\n",
    "            encode_kwargs={\"device\": \"cuda\", \"batch_size\": 100})\n",
    "    \n",
    "    def __call__(self, batch):\n",
    "        embeddings = self.embedding_model.embed_documents(batch[\"text\"])\n",
    "        return {\"text\": batch[\"text\"], \"source\": batch[\"source\"], \"embeddings\": embeddings}"
   ]
  },
  {
   "cell_type": "code",
   "execution_count": 32,
   "id": "9715a01e-dc67-4342-a0cb-30e770852097",
   "metadata": {
    "tags": []
   },
   "outputs": [],
   "source": [
    "# Embed nodes\n",
    "embedded_nodes = chunks_ds.map_batches(\n",
    "    EmbedNodes,\n",
    "    fn_constructor_kwargs={\"model_name\": embedding_model},\n",
    "    batch_size=100, \n",
    "    num_gpus=1,\n",
    "    compute=ActorPoolStrategy(size=2))"
   ]
  },
  {
   "cell_type": "code",
   "execution_count": 33,
   "id": "67dffa1f-19a3-4411-af3f-b161a47ee164",
   "metadata": {
    "tags": []
   },
   "outputs": [
    {
     "name": "stderr",
     "output_type": "stream",
     "text": [
      "2023-08-16 17:05:38,683\tINFO dataset.py:2180 -- Tip: Use `take_batch()` instead of `take() / show()` to return records in pandas or numpy batch format.\n",
      "2023-08-16 17:05:38,685\tINFO streaming_executor.py:92 -- Executing DAG InputDataBuffer[Input] -> ActorPoolMapOperator[MapBatches(EmbedNodes)]\n",
      "2023-08-16 17:05:38,686\tINFO streaming_executor.py:93 -- Execution config: ExecutionOptions(resource_limits=ExecutionResources(cpu=None, gpu=None, object_store_memory=None), locality_with_output=False, preserve_order=False, actor_locality_enabled=True, verbose_progress=False)\n",
      "2023-08-16 17:05:38,687\tINFO streaming_executor.py:95 -- Tip: For detailed progress reporting, run `ray.data.DataContext.get_current().execution_options.verbose_progress = True`\n",
      "2023-08-16 17:05:38,705\tINFO actor_pool_map_operator.py:117 -- MapBatches(EmbedNodes): Waiting for 2 pool actors to start...\n"
     ]
    },
    {
     "data": {
      "application/vnd.jupyter.widget-view+json": {
       "model_id": "",
       "version_major": 2,
       "version_minor": 0
      },
      "text/plain": [
       "Running 0:   0%|          | 0/200 [00:00<?, ?it/s]"
      ]
     },
     "metadata": {},
     "output_type": "display_data"
    },
    {
     "name": "stderr",
     "output_type": "stream",
     "text": [
      "2023-08-16 17:06:05,332\tWARNING actor_pool_map_operator.py:275 -- To ensure full parallelization across an actor pool of size 2, the Dataset should consist of at least 2 distinct blocks. Consider increasing the parallelism when creating the Dataset.\n"
     ]
    },
    {
     "name": "stdout",
     "output_type": "stream",
     "text": [
      "embedding size: 768\n",
      "('HyperOptSearch.add_evaluated_trials(trials_or_analysis: Union[Trial, '\n",
      " 'List[Trial], ExperimentAnalysis], metric: str)#\\n'\n",
      " 'Pass results from trials that have been evaluated separately.\\n'\n",
      " 'This method allows for information from outside the\\n'\n",
      " 'suggest - on_trial_complete loop to be passed to the search')\n"
     ]
    }
   ],
   "source": [
    "# Sample\n",
    "sample = embedded_nodes.take(5)\n",
    "print (\"embedding size:\", len(sample[1][\"embeddings\"]))\n",
    "pprint(sample[1][\"text\"])"
   ]
  },
  {
   "cell_type": "markdown",
   "id": "09187588-e1dc-44c5-b88b-cc8ebe3f9c48",
   "metadata": {},
   "source": [
    "### Index data"
   ]
  },
  {
   "cell_type": "code",
   "execution_count": 31,
   "id": "031a6487-c757-46bc-bc20-1e6a135fee6c",
   "metadata": {
    "tags": []
   },
   "outputs": [],
   "source": [
    "import os\n",
    "import psycopg\n",
    "from pgvector.psycopg import register_vector"
   ]
  },
  {
   "cell_type": "code",
   "execution_count": 32,
   "id": "615faa70-f26a-47e3-9ccf-8a6c89e1626e",
   "metadata": {
    "tags": []
   },
   "outputs": [],
   "source": [
    "class StoreResults:\n",
    "    def __call__(self, batch):\n",
    "        with psycopg.connect(DB_CONNECTION_STRING) as conn:\n",
    "            register_vector(conn)\n",
    "            with conn.cursor() as cur:\n",
    "                for text, source, embedding in zip(batch[\"text\"], batch[\"source\"], batch[\"embeddings\"]):\n",
    "                    cur.execute('INSERT INTO document (text, source, embedding) VALUES (%s, %s, %s)', (text, source, embedding,))\n",
    "        return {}"
   ]
  },
  {
   "cell_type": "code",
   "execution_count": 33,
   "id": "08435364-01a0-420f-b781-137d281ba401",
   "metadata": {
    "tags": []
   },
   "outputs": [
    {
     "name": "stderr",
     "output_type": "stream",
     "text": [
      "2023-08-14 08:23:13,942\tINFO streaming_executor.py:92 -- Executing DAG InputDataBuffer[Input] -> ActorPoolMapOperator[MapBatches(EmbedNodes)] -> ActorPoolMapOperator[MapBatches(StoreResults)]\n",
      "2023-08-14 08:23:13,943\tINFO streaming_executor.py:93 -- Execution config: ExecutionOptions(resource_limits=ExecutionResources(cpu=None, gpu=None, object_store_memory=None), locality_with_output=False, preserve_order=False, actor_locality_enabled=True, verbose_progress=False)\n",
      "2023-08-14 08:23:13,944\tINFO streaming_executor.py:95 -- Tip: For detailed progress reporting, run `ray.data.DataContext.get_current().execution_options.verbose_progress = True`\n",
      "2023-08-14 08:23:13,962\tINFO actor_pool_map_operator.py:117 -- MapBatches(EmbedNodes): Waiting for 2 pool actors to start...\n",
      "2023-08-14 08:23:31,902\tINFO actor_pool_map_operator.py:117 -- MapBatches(StoreResults): Waiting for 20 pool actors to start...\n"
     ]
    },
    {
     "data": {
      "application/vnd.jupyter.widget-view+json": {
       "model_id": "",
       "version_major": 2,
       "version_minor": 0
      },
      "text/plain": [
       "Running 0:   0%|          | 0/200 [00:00<?, ?it/s]"
      ]
     },
     "metadata": {},
     "output_type": "display_data"
    },
    {
     "name": "stderr",
     "output_type": "stream",
     "text": [
      "2023-08-14 08:31:15,804\tWARNING actor_pool_map_operator.py:267 -- To ensure full parallelization across an actor pool of size 20, the specified batch size should be at most 0. Your configured batch size for this operator was 128.\n"
     ]
    }
   ],
   "source": [
    "results = embedded_nodes.map_batches(\n",
    "    StoreResults,\n",
    "    batch_size=128,\n",
    "    num_cpus=1,\n",
    "    compute=ActorPoolStrategy(size=20)\n",
    ").count()"
   ]
  },
  {
   "cell_type": "markdown",
   "id": "318798c3-d119-4eb5-ad81-b2834516151a",
   "metadata": {},
   "source": [
    "### Retrieval"
   ]
  },
  {
   "cell_type": "code",
   "execution_count": 34,
   "id": "480d4c49-5870-471e-a617-86f7d3fa13d0",
   "metadata": {
    "tags": []
   },
   "outputs": [],
   "source": [
    "import json\n",
    "import numpy as np"
   ]
  },
  {
   "cell_type": "code",
   "execution_count": 37,
   "id": "4827efb7-487b-4368-8880-c7480511c8cf",
   "metadata": {
    "tags": []
   },
   "outputs": [],
   "source": [
    "embedding_model = HuggingFaceEmbeddings(model_name=embedding_model)\n",
    "conn = psycopg.connect(DB_CONNECTION_STRING)\n",
    "register_vector(conn)"
   ]
  },
  {
   "cell_type": "code",
   "execution_count": 38,
   "id": "39c3f410-89a2-4992-8cd1-63aca5bf9936",
   "metadata": {
    "tags": []
   },
   "outputs": [
    {
     "data": {
      "text/plain": [
       "768"
      ]
     },
     "execution_count": 38,
     "metadata": {},
     "output_type": "execute_result"
    }
   ],
   "source": [
    "# Embed query\n",
    "query = \"What is the default batch size for map_batches?\"\n",
    "embedding = np.array(embedding_model.embed_query(query))\n",
    "len(embedding)"
   ]
  },
  {
   "cell_type": "code",
   "execution_count": 39,
   "id": "cc9b25ed-fa16-48df-9e1b-a94c33891a3c",
   "metadata": {
    "tags": []
   },
   "outputs": [],
   "source": [
    "with conn.cursor() as cur:\n",
    "    cur.execute('SELECT * FROM document ORDER BY embedding <-> %s LIMIT 5', (embedding,))\n",
    "    rows = cur.fetchall()\n",
    "    context = [{\"text\": row[2], \"source\": row[1]} for row in rows]"
   ]
  },
  {
   "cell_type": "code",
   "execution_count": 41,
   "id": "b0197e98-5fee-4be0-bdf5-2d975216aa4b",
   "metadata": {
    "tags": []
   },
   "outputs": [
    {
     "name": "stdout",
     "output_type": "stream",
     "text": [
      "{'source': 'entire blocks as batches (blocks may contain different numbers of '\n",
      "           'rows).\\n'\n",
      "           'The actual size of the batch provided to fn may be smaller than\\n'\n",
      "           'batch_size if batch_size doesn’t evenly divide the block(s) sent\\n'\n",
      "           'to a given map task. Default batch_size is 4096 with “default”.',\n",
      " 'text': 'https://docs.ray.io/en/master/data/api/doc/ray.data.Dataset.map_batches.html#ray-data-dataset-map-batches'}\n"
     ]
    }
   ],
   "source": [
    "pprint(context[0])"
   ]
  },
  {
   "cell_type": "markdown",
   "id": "f5738d23-91e3-4016-826e-716872f76b62",
   "metadata": {
    "tags": []
   },
   "source": [
    "### Generation"
   ]
  },
  {
   "cell_type": "code",
   "execution_count": 103,
   "id": "697e65e8-4d69-4870-9f09-0e128008b94e",
   "metadata": {
    "tags": []
   },
   "outputs": [],
   "source": [
    "def generate_response(llm, system_content, assistant_content, user_content, max_retries=3, retry_interval=60):\n",
    "    retry_count = 0\n",
    "    while retry_count < max_retries:\n",
    "        try:\n",
    "            response = openai.ChatCompletion.create(\n",
    "                    model=llm,\n",
    "                    messages=[\n",
    "                        {\"role\": \"system\", \"content\": system_content},\n",
    "                        {\"role\": \"assistant\", \"content\": assistant_content},\n",
    "                        {\"role\": \"user\", \"content\": user_content},\n",
    "                    ])\n",
    "            return response[\"choices\"][-1][\"message\"][\"content\"]\n",
    "        except Exception as e:\n",
    "            print (e)\n",
    "            time.sleep(retry_interval)  # default is per-minute rate limits\n",
    "            retry_count += 1\n",
    "    return \"\""
   ]
  },
  {
   "cell_type": "code",
   "execution_count": 43,
   "id": "9de3685b-6839-445f-9baa-68a5e863562a",
   "metadata": {
    "tags": []
   },
   "outputs": [
    {
     "data": {
      "text/plain": [
       "'The default batch size for map_batches is 4096.'"
      ]
     },
     "execution_count": 43,
     "metadata": {},
     "output_type": "execute_result"
    }
   ],
   "source": [
    "# Generate response\n",
    "generate_response(\n",
    "    model=\"gpt-4\",\n",
    "    system_content=\"Answer the {query} using the provided {context}\",\n",
    "    assistant_content=\"\", \n",
    "    user_content=f\"query: {query}, context: {context}\"\n",
    ")"
   ]
  },
  {
   "cell_type": "markdown",
   "id": "4fa7a068-fc77-4928-bf58-52321616f9d5",
   "metadata": {},
   "source": [
    "### References"
   ]
  },
  {
   "cell_type": "code",
   "execution_count": 44,
   "id": "fa6cab00-d68d-4745-a735-048d72d8e5d6",
   "metadata": {
    "tags": []
   },
   "outputs": [],
   "source": [
    "import re\n",
    "import time"
   ]
  },
  {
   "cell_type": "markdown",
   "id": "03acb7e0-7bcb-4e2f-8552-5fe182a278db",
   "metadata": {},
   "source": [
    "We'll start by creating our reference (ground-truth) dataset. We have a list of user queries and the ideal source to answer the query with inside `eval/reference.jsonl`. We will our LLM app above to generate reference answer for each query/source pair using GPT 4."
   ]
  },
  {
   "cell_type": "code",
   "execution_count": 45,
   "id": "02a9ceb3-e676-40d6-8d4b-fbe439413e8c",
   "metadata": {
    "tags": []
   },
   "outputs": [],
   "source": [
    "llm = \"gpt-4\"\n",
    "max_context_length = 8192"
   ]
  },
  {
   "cell_type": "code",
   "execution_count": 46,
   "id": "ca019cc9-3241-4453-b63d-ef7c44ba584a",
   "metadata": {
    "tags": []
   },
   "outputs": [],
   "source": [
    "with open(Path(ROOT_DIR, \"datasets/eval-dataset-v1.jsonl\"), \"r\") as f:\n",
    "    data = [json.loads(item) for item in list(f)]"
   ]
  },
  {
   "cell_type": "code",
   "execution_count": 47,
   "id": "716b02e5-1ab5-4d19-aaea-cc89d28de508",
   "metadata": {
    "tags": []
   },
   "outputs": [],
   "source": [
    "# Clean up\n",
    "for row in data:\n",
    "    row[\"source\"] = row[\"source\"].replace(\"https://docs.ray.io/en/latest/\", \"https://docs.ray.io/en/master/\")"
   ]
  },
  {
   "cell_type": "code",
   "execution_count": 48,
   "id": "3cd9e509-1fe6-42ad-886f-0e118e8dd35d",
   "metadata": {
    "tags": []
   },
   "outputs": [
    {
     "data": {
      "text/plain": [
       "[{'question': 'I’m struggling a bit with Ray Data type conversions when I do map_batches. Any advice?',\n",
       "  'source': 'https://docs.ray.io/en/master/data/transforming-data.html#configuring-batch-format'},\n",
       " {'question': 'How does autoscaling work in a Ray Serve application?',\n",
       "  'source': 'https://docs.ray.io/en/master/serve/scaling-and-resource-allocation.html#autoscaling'},\n",
       " {'question': 'can i create my own ray image with custom python version',\n",
       "  'source': ''},\n",
       " {'question': 'how do I get the address of a ray node',\n",
       "  'source': 'https://docs.ray.io/en/master/ray-core/miscellaneous.html#node-information'},\n",
       " {'question': 'are you based on GPT-4?', 'source': ''}]"
      ]
     },
     "execution_count": 48,
     "metadata": {},
     "output_type": "execute_result"
    }
   ],
   "source": [
    "data[:5]"
   ]
  },
  {
   "cell_type": "code",
   "execution_count": null,
   "id": "d22f070b-1263-4617-a0ba-ab8fd62dd87b",
   "metadata": {},
   "outputs": [],
   "source": [
    "# Section per document (page) dict\n",
    "sections_per_doc = {section[\"source\"]: section[\"text\"] for section in sections}\n",
    "for section in sections:\n",
    "    page = section[\"source\"]\n",
    "    if \"#\" not in page:\n",
    "        page_sections = [key for key in sections_per_doc.keys() if key.startswith(page)]\n",
    "        combined_text = \"\\n\".join(sections_per_doc[page_section] for page_section in page_sections)\n",
    "        sections_per_doc[page] = combined_text"
   ]
  },
  {
   "cell_type": "code",
   "execution_count": null,
   "id": "04741e61-9e30-4fcf-acb1-9a6bb4f3c069",
   "metadata": {},
   "outputs": [],
   "source": [
    "sections_per_doc['https://docs.ray.io/en/master/train/key-concepts.html']"
   ]
  },
  {
   "cell_type": "code",
   "execution_count": 49,
   "id": "b4495ed6-48a1-4fa4-b837-2dbdabb4cdd6",
   "metadata": {
    "tags": []
   },
   "outputs": [],
   "source": [
    "# Checking if any sources are not in our parsed sources\n",
    "for i, row in enumerate(data):\n",
    "    if row[\"source\"].startswith(\"https://docs.ray.io\"):\n",
    "        if row[\"source\"] not in sections_per_doc:\n",
    "            print(i, row[\"source\"])"
   ]
  },
  {
   "cell_type": "code",
   "execution_count": 50,
   "id": "8a67f8a6-c742-4c40-b8e5-d2c5fb70fec2",
   "metadata": {
    "tags": []
   },
   "outputs": [],
   "source": [
    "def extract_from_response(response):\n",
    "    # Define regular expressions for extracting values\n",
    "    answer_pattern = r'\"answer\"\\s*:\\s*\"([^\"]*)\"'\n",
    "    score_pattern = r'\"score\"\\s*:\\s*([0-9]+)'\n",
    "    reasoning_pattern = r'\"reasoning\"\\s*:\\s*\"([^\"]*)\"'\n",
    "\n",
    "    # Extract values using regular expressions\n",
    "    answer_match = re.search(answer_pattern, response)\n",
    "    score_match = re.search(score_pattern, response)\n",
    "    reasoning_match = re.search(reasoning_pattern, response)\n",
    "\n",
    "    # Convert\n",
    "    if answer_match and score_match and reasoning_match:\n",
    "        answer = answer_match.group(1)\n",
    "        score = float(score_match.group(1))\n",
    "        reasoning = reasoning_match.group(1)\n",
    "        return answer, score, reasoning\n",
    "\n",
    "    return \"\", \"\", \"\""
   ]
  },
  {
   "cell_type": "code",
   "execution_count": 53,
   "id": "dec3460f-c07a-4a2f-95f7-d1ef85d1a064",
   "metadata": {
    "tags": []
   },
   "outputs": [],
   "source": [
    "# Content for inference\n",
    "system_content = \"\"\"\n",
    "    Your job is {answer} a {query} using the additional {context} provided.\n",
    "    Then, you must {score} your response between 1 and 5.\n",
    "    You must return your response in a line with only the score.\n",
    "    Do not add any more details.\n",
    "    On a separate line provide your {reasoning} for the score as well.\n",
    "    Return your response following the exact format outlined below.\n",
    "    Do not add or remove anything.\n",
    "    And all of this must be in a valid JSON format.\n",
    "    \n",
    "    {\"answer\": answer,\n",
    "     \"score\": score,\n",
    "     \"reasoning\": reasoning}\n",
    "    \"\"\"\n",
    "assistant_content = \"\"\n",
    "context_length = max_context_length - len(system_content + assistant_content)"
   ]
  },
  {
   "cell_type": "code",
   "execution_count": 55,
   "id": "63c2db65-36fc-48cb-8e86-18b96554f977",
   "metadata": {
    "tags": []
   },
   "outputs": [
    {
     "name": "stderr",
     "output_type": "stream",
     "text": [
      "100%|██████████| 189/189 [1:03:59<00:00, 20.31s/it]\n"
     ]
    }
   ],
   "source": [
    "# Generate response\n",
    "results = []\n",
    "for row in tqdm(data):\n",
    "    # Get context\n",
    "    query = row[\"question\"]\n",
    "    context = sections_per_doc.get(row[\"source\"], \"\")\n",
    "    \n",
    "    # Generate response\n",
    "    user_content = f\"The query is {query} and the additional context is {context}\"[:context_length]\n",
    "    response = generate_response(\n",
    "        llm=llm, \n",
    "        system_content=system_content, \n",
    "        assistant_content=assistant_content, \n",
    "        user_content=user_content)\n",
    "    \n",
    "    # Extract from response\n",
    "    answer, score, reasoning = extract_from_response(response=response)\n",
    "    \n",
    "    # Store result\n",
    "    result = ({\n",
    "            \"question\": query,\n",
    "            \"source\": row[\"source\"],\n",
    "            \"answer\": answer,\n",
    "            \"score\": score,\n",
    "            \"reasoning\": reasoning,\n",
    "        })\n",
    "    results.append(result)"
   ]
  },
  {
   "cell_type": "code",
   "execution_count": 58,
   "id": "172cb0ef-8f54-4f60-93c9-604918f8814e",
   "metadata": {
    "tags": []
   },
   "outputs": [
    {
     "name": "stderr",
     "output_type": "stream",
     "text": [
      "100%|██████████| 7/7 [03:30<00:00, 30.08s/it]\n"
     ]
    }
   ],
   "source": [
    "# Rerun errors (We could use function calling but we might use OSS LLM as evaluator)\n",
    "error_indices = [i for i, row in enumerate(results) if row[\"answer\"] == \"\" and row[\"source\"].startswith(\"https://docs.ray.io\")]\n",
    "for i in tqdm(error_indices):\n",
    "    row = results[i]\n",
    "    query = row[\"question\"]\n",
    "    context = sections_per_doc.get(row[\"source\"], \"\")\n",
    "    user_content = f\"The question is {query} and the additional context is {context}\"[:max_context_length]\n",
    "    response = generate_response(\n",
    "        llm=llm, \n",
    "        system_content=system_content, \n",
    "        assistant_content=assistant_content, \n",
    "        user_content=user_content)\n",
    "    answer, score, reasoning = extract_from_response(response=response)\n",
    "    result = ({\n",
    "            \"question\": query,\n",
    "            \"source\": row[\"source\"],\n",
    "            \"answer\": answer,\n",
    "            \"score\": score,\n",
    "            \"reasoning\": reasoning,\n",
    "        })\n",
    "    results[i] = result"
   ]
  },
  {
   "cell_type": "markdown",
   "id": "5bd71260-5b7f-4ac4-b1f8-299369b157ea",
   "metadata": {},
   "source": [
    "Rerun the above cell until no errors in extraction."
   ]
  },
  {
   "cell_type": "code",
   "execution_count": 60,
   "id": "1c0f48d7-9d8d-4eeb-a304-fc93324ec4ee",
   "metadata": {
    "tags": []
   },
   "outputs": [],
   "source": [
    "# Save to file\n",
    "with open(Path(ROOT_DIR, \"datasets\", \"gpt4-with-source.json\"), \"w\") as fp:\n",
    "    json.dump(results, fp, indent=4)"
   ]
  },
  {
   "cell_type": "markdown",
   "id": "d62ee3c3-3150-47fa-b689-b600fe03c8cc",
   "metadata": {},
   "source": [
    "### Inference"
   ]
  },
  {
   "cell_type": "markdown",
   "id": "633e6c37-b6a1-4ee2-892b-ae7658698103",
   "metadata": {},
   "source": [
    "Now we're ready to perform inference using an LLM."
   ]
  },
  {
   "cell_type": "code",
   "execution_count": 61,
   "id": "5d9f077d-47d1-4c1d-a47c-f026d1fe71e2",
   "metadata": {
    "tags": []
   },
   "outputs": [],
   "source": [
    "llm = \"gpt-3.5-turbo-16k\"\n",
    "max_context_length = 16384"
   ]
  },
  {
   "cell_type": "code",
   "execution_count": 62,
   "id": "8592bf80-e724-4ace-bd85-e412841bdc00",
   "metadata": {
    "tags": []
   },
   "outputs": [],
   "source": [
    "# Load questions \n",
    "with open(Path(ROOT_DIR, \"datasets/gpt4-with-source.json\"), \"r\") as f:\n",
    "    questions = [json.loads(item)[\"question\"] for item in list(f)]"
   ]
  },
  {
   "cell_type": "code",
   "execution_count": 67,
   "id": "58b99c7a-38be-4478-a903-ee4a48292384",
   "metadata": {
    "tags": []
   },
   "outputs": [],
   "source": [
    "# Content for inference\n",
    "system_content = \"Answer the question using the additional context provided.\"\n",
    "assistant_content = \"\"\n",
    "context_length = max_context_length - len(system_content + assistant_content)"
   ]
  },
  {
   "cell_type": "code",
   "execution_count": 85,
   "id": "65cdfbf8-f645-4f1f-8980-e637b72e69a4",
   "metadata": {
    "tags": []
   },
   "outputs": [
    {
     "name": "stderr",
     "output_type": "stream",
     "text": [
      "100%|██████████| 189/189 [54:22<00:00, 17.26s/it] \n"
     ]
    }
   ],
   "source": [
    "# Generate response\n",
    "results = []\n",
    "for query in tqdm(questions):\n",
    "    # Get context\n",
    "    embedding = np.array(embedding_model.embed_query(query))\n",
    "    with conn.cursor() as cur:\n",
    "        cur.execute('SELECT * FROM document ORDER BY embedding <-> %s LIMIT 5', (embedding,))\n",
    "        rows = cur.fetchall()\n",
    "        context = [{\"text\": row[1]} for row in rows]\n",
    "        sources = [row[2] for row in rows]\n",
    "        \n",
    "    # Generate response\n",
    "    user_content = f\"The question is {query} and the additional context is {context}\"[:context_length]\n",
    "    answer = generate_response(\n",
    "        llm=llm, \n",
    "        system_content=system_content, \n",
    "        assistant_content=assistant_content, \n",
    "        user_content=user_content)\n",
    "\n",
    "    # Store result\n",
    "    result = ({\n",
    "            \"question\": query,\n",
    "            \"sources\": sources,\n",
    "            \"answer\": answer,\n",
    "        })\n",
    "    results.append(result)"
   ]
  },
  {
   "cell_type": "markdown",
   "id": "a6815341-d799-4054-992e-6619c85f9959",
   "metadata": {},
   "source": [
    "### Evaluation"
   ]
  },
  {
   "cell_type": "markdown",
   "id": "935e0d57-548f-479e-a101-cad9af153bff",
   "metadata": {},
   "source": [
    "Evalute our LLM (ex. Llama 2, GPT 3.5, etc.) on our reference dataset."
   ]
  },
  {
   "cell_type": "code",
   "execution_count": 95,
   "id": "40e3c9e8-05d3-4df1-937b-50e9a676c582",
   "metadata": {
    "tags": []
   },
   "outputs": [],
   "source": [
    "llm = \"gpt-4\"\n",
    "max_context_length = 8192"
   ]
  },
  {
   "cell_type": "code",
   "execution_count": 96,
   "id": "7fd50cfc-c0c6-47c6-acb2-97fee18b9dfe",
   "metadata": {
    "tags": []
   },
   "outputs": [],
   "source": [
    "# Load answers\n",
    "with open(Path(ROOT_DIR, \"datasets/gpt4-with-source.json\"), \"r\") as f:\n",
    "    references = [item for item in json.load(f)]\n",
    "generated = results\n",
    "assert len(references) == len(generated)"
   ]
  },
  {
   "cell_type": "code",
   "execution_count": 97,
   "id": "a959d2e8-abfb-4f52-96f6-f45209178010",
   "metadata": {
    "tags": []
   },
   "outputs": [],
   "source": [
    "# Retrieval score\n",
    "matches = np.zeros(len(references))\n",
    "for i in range(len(references)):\n",
    "    reference_source = references[i][\"source\"].split(\"#\")[0]\n",
    "    if not reference_source:\n",
    "        matches[i] = 1\n",
    "        continue\n",
    "    for source in generated[i][\"sources\"]:\n",
    "        if reference_source == source.split(\"#\")[0]:  # sections don't have to perfectly match\n",
    "            matches[i] = 1\n",
    "            continue\n",
    "print (np.mean(matches))"
   ]
  },
  {
   "cell_type": "code",
   "execution_count": 100,
   "id": "19cca0bf-c0d8-4fb2-b9f5-d33e5151ed2b",
   "metadata": {
    "tags": []
   },
   "outputs": [],
   "source": [
    "# Content\n",
    "system_content = \"\"\"\n",
    "    Your job is to rate the quality of our generated answer {generated_answer}\n",
    "    given a query {query} and a reference answer {reference_answer}.\n",
    "    Your score has to be between 1 and 5.\n",
    "    You must return your response in a line with only the score.\n",
    "    Do not return answers in any other format.\n",
    "    On a separate line provide your reasoning for the score as well.\n",
    "    \"\"\"\n",
    "assistant_content = \"\"\n",
    "context_length = max_context_length - len(system_content + assistant_content)"
   ]
  },
  {
   "cell_type": "code",
   "execution_count": 108,
   "id": "fe68c1b6-3b5e-4925-abaf-3b66088887cf",
   "metadata": {
    "tags": []
   },
   "outputs": [
    {
     "name": "stderr",
     "output_type": "stream",
     "text": [
      "100%|██████████| 189/189 [25:41<00:00,  8.15s/it]\n"
     ]
    }
   ],
   "source": [
    "# Generate response\n",
    "results = []\n",
    "for ref, gen in tqdm(zip(references, generated), total=len(references)):\n",
    "    # User prompt\n",
    "    assert ref[\"question\"]==gen[\"question\"]\n",
    "    user_content = str({\n",
    "        \"question\": gen[\"question\"],\n",
    "        \"generated_answer\": gen[\"answer\"],\n",
    "        \"reference_answer\": ref[\"answer\"]\n",
    "    })[:context_length]\n",
    "    \n",
    "    # Generate response\n",
    "    response = generate_response(\n",
    "        llm=llm,\n",
    "        system_content=system_content, \n",
    "        assistant_content=\"\", \n",
    "        user_content=user_content)\n",
    "    \n",
    "    # Extract from response\n",
    "    score, reasoning = response.split(\"\\n\", 1)\n",
    "\n",
    "    # Store result\n",
    "    result = {\n",
    "        \"question\": gen[\"question\"],\n",
    "        \"generated_answer\": gen[\"answer\"],\n",
    "        \"reference_answer\": ref[\"answer\"],\n",
    "        \"score\": float(score),\n",
    "        \"reasoning\": reasoning.lstrip(\"\\n\"),\n",
    "    }\n",
    "    results.append(result)"
   ]
  },
  {
   "cell_type": "code",
   "execution_count": 111,
   "id": "ccf62c28-c455-4bdb-95ad-649031f0aad5",
   "metadata": {
    "tags": []
   },
   "outputs": [],
   "source": [
    "# Quality score\n",
    "np.mean([item[\"score\"] for item in results])"
   ]
  }
 ],
 "metadata": {
  "kernelspec": {
   "display_name": "Python 3 (ipykernel)",
   "language": "python",
   "name": "python3"
  },
  "language_info": {
   "codemirror_mode": {
    "name": "ipython",
    "version": 3
   },
   "file_extension": ".py",
   "mimetype": "text/x-python",
   "name": "python",
   "nbconvert_exporter": "python",
   "pygments_lexer": "ipython3",
   "version": "3.9.15"
  }
 },
 "nbformat": 4,
 "nbformat_minor": 5
}
